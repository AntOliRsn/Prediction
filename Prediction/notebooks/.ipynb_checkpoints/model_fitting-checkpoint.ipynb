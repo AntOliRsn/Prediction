{
 "cells": [
  {
   "cell_type": "markdown",
   "metadata": {},
   "source": [
    "### Import libraries"
   ]
  },
  {
   "cell_type": "code",
   "execution_count": 1,
   "metadata": {},
   "outputs": [
    {
     "name": "stderr",
     "output_type": "stream",
     "text": [
      "/local/home/antorosi/PycharmProjects/KERAS-TS-VENV/lib/python3.5/site-packages/h5py/__init__.py:36: FutureWarning: Conversion of the second argument of issubdtype from `float` to `np.floating` is deprecated. In future, it will be treated as `np.float64 == np.dtype(float).type`.\n",
      "  from ._conv import register_converters as _register_converters\n",
      "Using TensorFlow backend.\n"
     ]
    }
   ],
   "source": [
    "import os\n",
    "import sys\n",
    "import numpy as np\n",
    "import pandas as pd\n",
    "import datetime\n",
    "import time\n",
    "from keras.callbacks import TensorBoard, ModelCheckpoint, EarlyStopping\n",
    "\n",
    "path_main_folder = '/home/antorosi/Documents/Prediction'\n",
    "sys.path.append(path_main_folder)\n",
    "\n",
    "from conso.load_shape_data import load_data_conso, get_uniformed_data_conso, change_granularity, get_x_y_prediction_conso, get_train_test_sets, normalized_dataset, select_variables\n",
    "from models.feedforward_NN import FeedForward\n",
    "from aed.detection import get_residuals, get_atypical_score, get_atypical_event"
   ]
  },
  {
   "cell_type": "markdown",
   "metadata": {},
   "source": [
    "### Load and shape data"
   ]
  },
  {
   "cell_type": "code",
   "execution_count": 2,
   "metadata": {},
   "outputs": [],
   "source": [
    "# Load\n",
    "path_data = os.path.join(path_main_folder, 'data')"
   ]
  },
  {
   "cell_type": "code",
   "execution_count": 3,
   "metadata": {},
   "outputs": [],
   "source": [
    "dict_data_conso = load_data_conso(path_data)"
   ]
  },
  {
   "cell_type": "code",
   "execution_count": 4,
   "metadata": {},
   "outputs": [],
   "source": [
    "# Uniformization\n",
    "data_conso_df, dict_colnames_conso = get_uniformed_data_conso(dict_data_conso)"
   ]
  },
  {
   "cell_type": "code",
   "execution_count": 5,
   "metadata": {},
   "outputs": [],
   "source": [
    "# Granularity from 15 min to 1H\n",
    "data_conso_df = change_granularity(data_conso_df, granularity=\"1H\")"
   ]
  },
  {
   "cell_type": "code",
   "execution_count": 6,
   "metadata": {},
   "outputs": [],
   "source": [
    "# Get x and y from prediction\n",
    "x_conso, y_conso, dict_colnames_conso = get_x_y_prediction_conso(data_conso_df, dict_colnames_conso, horizon_length=24)"
   ]
  },
  {
   "cell_type": "markdown",
   "metadata": {},
   "source": [
    "### Build predictive model"
   ]
  },
  {
   "cell_type": "code",
   "execution_count": 7,
   "metadata": {},
   "outputs": [],
   "source": [
    "path_out = os.path.join(path_main_folder, 'out')"
   ]
  },
  {
   "cell_type": "code",
   "execution_count": 8,
   "metadata": {},
   "outputs": [],
   "source": [
    "name_model = 'FFNN_l153*4_d0*4_cmca_norm'"
   ]
  },
  {
   "cell_type": "code",
   "execution_count": 9,
   "metadata": {},
   "outputs": [
    {
     "name": "stdout",
     "output_type": "stream",
     "text": [
      "model: \n",
      "_________________________________________________________________\n",
      "Layer (type)                 Output Shape              Param #   \n",
      "=================================================================\n",
      "dense_input (InputLayer)     (None, 153)               0         \n",
      "_________________________________________________________________\n",
      "dense_hidden_0 (Dense)       (None, 153)               23562     \n",
      "_________________________________________________________________\n",
      "dense_hidden_1 (Dense)       (None, 153)               23562     \n",
      "_________________________________________________________________\n",
      "dense_hidden_2 (Dense)       (None, 153)               23562     \n",
      "_________________________________________________________________\n",
      "dense_hidden_3 (Dense)       (None, 153)               23562     \n",
      "_________________________________________________________________\n",
      "dense_output (Dense)         (None, 1)                 154       \n",
      "=================================================================\n",
      "Total params: 94,402\n",
      "Trainable params: 94,402\n",
      "Non-trainable params: 0\n",
      "_________________________________________________________________\n"
     ]
    }
   ],
   "source": [
    "model = FeedForward(name=name_model, output=path_out, input_dim=153, output_dim=1, \n",
    "                   l_dims=[153]*4, dropout_rates=[0]*4,\n",
    "                   loss = 'mean_squared_error', metrics = ['mape', 'mae'])"
   ]
  },
  {
   "cell_type": "markdown",
   "metadata": {},
   "source": [
    "### Fit model"
   ]
  },
  {
   "cell_type": "code",
   "execution_count": 11,
   "metadata": {
    "scrolled": true
   },
   "outputs": [
    {
     "data": {
      "text/plain": [
       "Timestamp('2017-06-10 23:00:00')"
      ]
     },
     "execution_count": 11,
     "metadata": {},
     "output_type": "execute_result"
    }
   ],
   "source": [
    "x_conso.ds.iloc[-1]"
   ]
  },
  {
   "cell_type": "code",
   "execution_count": 12,
   "metadata": {},
   "outputs": [],
   "source": [
    "date_test_start = datetime.datetime(year=2016, month=6, day=11)\n",
    "date_test_end = datetime.datetime(year=2017, month=6, day=10)"
   ]
  },
  {
   "cell_type": "code",
   "execution_count": 13,
   "metadata": {},
   "outputs": [],
   "source": [
    "selected_variables = ['conso', 'meteo', 'calendar']\n",
    "x_conso = select_variables(x_conso, dict_colnames_conso, selected_variables)"
   ]
  },
  {
   "cell_type": "code",
   "execution_count": 14,
   "metadata": {},
   "outputs": [],
   "source": [
    "dataset, dict_ds = get_train_test_sets(x_conso, y_conso, date_test_start, date_test_end)"
   ]
  },
  {
   "cell_type": "code",
   "execution_count": 15,
   "metadata": {},
   "outputs": [],
   "source": [
    "dataset = normalized_dataset(dataset, dict_colnames_conso)"
   ]
  },
  {
   "cell_type": "code",
   "execution_count": 16,
   "metadata": {},
   "outputs": [],
   "source": [
    "callbacks = []\n",
    "early_stop = EarlyStopping(monitor='val_loss', min_delta=0, patience=150,\n",
    "                                                   verbose=0, mode='auto')\n",
    "\n",
    "model_checkpoint = ModelCheckpoint(os.path.join(path_out, name_model, 'models', 'model-best.hdf5'),\n",
    "                                           monitor='val_loss',\n",
    "                                           verbose=0, save_best_only=True, save_weights_only=False,\n",
    "                                           mode='auto', period=1)\n",
    "\n",
    "tensorboard = TensorBoard(log_dir=os.path.join(path_out, name_model, 'results', 'logs', time.strftime('%Y-%m-%d_%H:%M', time.localtime(time.time())) ))\n",
    "\n",
    "callbacks.append(early_stop)\n",
    "callbacks.append(model_checkpoint)\n",
    "callbacks.append(tensorboard)"
   ]
  },
  {
   "cell_type": "code",
   "execution_count": 36,
   "metadata": {},
   "outputs": [
    {
     "name": "stdout",
     "output_type": "stream",
     "text": [
      "\n",
      "\n",
      "--- START TRAINING ---\n",
      "\n",
      "Train on 30236 samples, validate on 8759 samples\n",
      "Epoch 1/400\n",
      "30236/30236 [==============================] - 1s 33us/step - loss: 1006383777.6362 - mean_absolute_percentage_error: 46.6042 - mean_absolute_error: 25437.6196 - val_loss: 74167739.1264 - val_mean_absolute_percentage_error: 13.3554 - val_mean_absolute_error: 6910.0115\n",
      "Epoch 2/400\n",
      "30236/30236 [==============================] - 1s 33us/step - loss: 12250244.8331 - mean_absolute_percentage_error: 5.0305 - mean_absolute_error: 2617.4846 - val_loss: 7814230.9104 - val_mean_absolute_percentage_error: 4.1615 - val_mean_absolute_error: 2144.5375\n",
      "Epoch 3/400\n",
      "30236/30236 [==============================] - 1s 31us/step - loss: 6007518.9389 - mean_absolute_percentage_error: 3.5504 - mean_absolute_error: 1827.5694 - val_loss: 5489383.1216 - val_mean_absolute_percentage_error: 3.4177 - val_mean_absolute_error: 1744.8612\n",
      "Epoch 4/400\n",
      "30236/30236 [==============================] - 1s 32us/step - loss: 5277450.1204 - mean_absolute_percentage_error: 3.2665 - mean_absolute_error: 1682.1061 - val_loss: 5058337.3745 - val_mean_absolute_percentage_error: 3.2416 - val_mean_absolute_error: 1669.6744\n",
      "Epoch 5/400\n",
      "30236/30236 [==============================] - 1s 32us/step - loss: 4878399.3992 - mean_absolute_percentage_error: 3.0925 - mean_absolute_error: 1595.0639 - val_loss: 4637324.8907 - val_mean_absolute_percentage_error: 3.0921 - val_mean_absolute_error: 1573.3011\n",
      "Epoch 6/400\n",
      "30236/30236 [==============================] - 1s 31us/step - loss: 4807217.5442 - mean_absolute_percentage_error: 3.0501 - mean_absolute_error: 1579.3092 - val_loss: 4422504.9066 - val_mean_absolute_percentage_error: 2.9379 - val_mean_absolute_error: 1520.2337\n",
      "Epoch 7/400\n",
      "30236/30236 [==============================] - 1s 34us/step - loss: 4614730.0969 - mean_absolute_percentage_error: 2.9712 - mean_absolute_error: 1539.9103 - val_loss: 4404194.6098 - val_mean_absolute_percentage_error: 2.9431 - val_mean_absolute_error: 1514.4225\n",
      "Epoch 8/400\n",
      "30236/30236 [==============================] - 1s 32us/step - loss: 4357512.2175 - mean_absolute_percentage_error: 2.8636 - mean_absolute_error: 1486.4600 - val_loss: 4312032.8438 - val_mean_absolute_percentage_error: 2.8589 - val_mean_absolute_error: 1491.7505\n",
      "Epoch 9/400\n",
      "30236/30236 [==============================] - 1s 32us/step - loss: 4172789.2986 - mean_absolute_percentage_error: 2.7804 - mean_absolute_error: 1448.5646 - val_loss: 4750481.8590 - val_mean_absolute_percentage_error: 3.1651 - val_mean_absolute_error: 1645.8440\n",
      "Epoch 10/400\n",
      "30236/30236 [==============================] - 1s 33us/step - loss: 3950027.2488 - mean_absolute_percentage_error: 2.6842 - mean_absolute_error: 1403.1227 - val_loss: 3689925.5187 - val_mean_absolute_percentage_error: 2.5828 - val_mean_absolute_error: 1355.6960\n",
      "Epoch 11/400\n",
      "30236/30236 [==============================] - 1s 34us/step - loss: 3542079.3406 - mean_absolute_percentage_error: 2.4917 - mean_absolute_error: 1305.1363 - val_loss: 3383532.8283 - val_mean_absolute_percentage_error: 2.5032 - val_mean_absolute_error: 1302.6674\n",
      "Epoch 12/400\n",
      "30236/30236 [==============================] - 1s 31us/step - loss: 3279916.0337 - mean_absolute_percentage_error: 2.3689 - mean_absolute_error: 1245.8009 - val_loss: 3147911.0358 - val_mean_absolute_percentage_error: 2.3252 - val_mean_absolute_error: 1221.9913\n",
      "Epoch 13/400\n",
      "30236/30236 [==============================] - 1s 32us/step - loss: 3077343.8206 - mean_absolute_percentage_error: 2.2651 - mean_absolute_error: 1195.1976 - val_loss: 2974977.1250 - val_mean_absolute_percentage_error: 2.2357 - val_mean_absolute_error: 1178.2069\n",
      "Epoch 14/400\n",
      "30236/30236 [==============================] - 1s 37us/step - loss: 2850604.4706 - mean_absolute_percentage_error: 2.1398 - mean_absolute_error: 1131.5491 - val_loss: 2766444.9478 - val_mean_absolute_percentage_error: 2.1176 - val_mean_absolute_error: 1120.9998\n",
      "Epoch 15/400\n",
      "30236/30236 [==============================] - 1s 31us/step - loss: 2702780.8376 - mean_absolute_percentage_error: 2.0526 - mean_absolute_error: 1087.7555 - val_loss: 3123543.7416 - val_mean_absolute_percentage_error: 2.3403 - val_mean_absolute_error: 1239.8875\n",
      "Epoch 16/400\n",
      "30236/30236 [==============================] - 1s 32us/step - loss: 2636158.5048 - mean_absolute_percentage_error: 2.0118 - mean_absolute_error: 1067.1595 - val_loss: 3006721.5086 - val_mean_absolute_percentage_error: 2.2054 - val_mean_absolute_error: 1174.2799\n",
      "Epoch 17/400\n",
      "30236/30236 [==============================] - 1s 32us/step - loss: 2517022.6315 - mean_absolute_percentage_error: 1.9286 - mean_absolute_error: 1024.8238 - val_loss: 2516440.7580 - val_mean_absolute_percentage_error: 1.9554 - val_mean_absolute_error: 1037.3441\n",
      "Epoch 18/400\n",
      "30236/30236 [==============================] - 1s 31us/step - loss: 2500001.3106 - mean_absolute_percentage_error: 1.9077 - mean_absolute_error: 1015.6350 - val_loss: 2430056.5308 - val_mean_absolute_percentage_error: 1.9162 - val_mean_absolute_error: 1008.8725\n",
      "Epoch 19/400\n",
      "30236/30236 [==============================] - 1s 32us/step - loss: 2413392.2288 - mean_absolute_percentage_error: 1.8564 - mean_absolute_error: 988.0961 - val_loss: 2584017.6591 - val_mean_absolute_percentage_error: 1.9664 - val_mean_absolute_error: 1035.0858\n",
      "Epoch 20/400\n",
      "30236/30236 [==============================] - 1s 32us/step - loss: 2386893.7826 - mean_absolute_percentage_error: 1.8408 - mean_absolute_error: 982.1472 - val_loss: 2411002.4463 - val_mean_absolute_percentage_error: 1.8718 - val_mean_absolute_error: 982.9449\n",
      "Epoch 21/400\n",
      "30236/30236 [==============================] - 1s 32us/step - loss: 2388545.4313 - mean_absolute_percentage_error: 1.8565 - mean_absolute_error: 989.2718 - val_loss: 2721498.8557 - val_mean_absolute_percentage_error: 2.0396 - val_mean_absolute_error: 1060.6385\n",
      "Epoch 22/400\n",
      "30236/30236 [==============================] - 1s 32us/step - loss: 2285555.3186 - mean_absolute_percentage_error: 1.7811 - mean_absolute_error: 948.7795 - val_loss: 2452828.2764 - val_mean_absolute_percentage_error: 1.8776 - val_mean_absolute_error: 985.6607\n",
      "Epoch 23/400\n",
      "30236/30236 [==============================] - 1s 32us/step - loss: 2250960.9199 - mean_absolute_percentage_error: 1.7650 - mean_absolute_error: 941.0027 - val_loss: 2509903.9713 - val_mean_absolute_percentage_error: 1.9157 - val_mean_absolute_error: 1015.5379\n",
      "Epoch 24/400\n",
      "30236/30236 [==============================] - 1s 32us/step - loss: 2255768.9765 - mean_absolute_percentage_error: 1.7739 - mean_absolute_error: 944.1212 - val_loss: 2666410.2618 - val_mean_absolute_percentage_error: 2.1002 - val_mean_absolute_error: 1120.3856\n",
      "Epoch 25/400\n",
      "30236/30236 [==============================] - 1s 32us/step - loss: 2229130.6312 - mean_absolute_percentage_error: 1.7548 - mean_absolute_error: 935.1107 - val_loss: 2421958.8717 - val_mean_absolute_percentage_error: 1.8818 - val_mean_absolute_error: 988.0577\n",
      "Epoch 26/400\n",
      "30236/30236 [==============================] - 1s 30us/step - loss: 2160506.5247 - mean_absolute_percentage_error: 1.7140 - mean_absolute_error: 913.7221 - val_loss: 2933644.6247 - val_mean_absolute_percentage_error: 2.2193 - val_mean_absolute_error: 1145.5041\n",
      "Epoch 27/400\n",
      "30236/30236 [==============================] - 1s 31us/step - loss: 2198142.6158 - mean_absolute_percentage_error: 1.7530 - mean_absolute_error: 934.8567 - val_loss: 2701595.0953 - val_mean_absolute_percentage_error: 2.0461 - val_mean_absolute_error: 1072.3012\n",
      "Epoch 28/400\n",
      "30236/30236 [==============================] - 1s 31us/step - loss: 2273673.4376 - mean_absolute_percentage_error: 1.7979 - mean_absolute_error: 961.5433 - val_loss: 2497346.8959 - val_mean_absolute_percentage_error: 1.9302 - val_mean_absolute_error: 1029.1286\n",
      "Epoch 29/400\n",
      "30236/30236 [==============================] - 1s 30us/step - loss: 2168473.2787 - mean_absolute_percentage_error: 1.7401 - mean_absolute_error: 928.2554 - val_loss: 2652936.7340 - val_mean_absolute_percentage_error: 1.9621 - val_mean_absolute_error: 1031.6781\n",
      "Epoch 30/400\n",
      "30236/30236 [==============================] - 1s 31us/step - loss: 2131131.9940 - mean_absolute_percentage_error: 1.7007 - mean_absolute_error: 909.8603 - val_loss: 3299724.5247 - val_mean_absolute_percentage_error: 2.4816 - val_mean_absolute_error: 1263.1968\n",
      "Epoch 31/400\n",
      "30236/30236 [==============================] - 1s 31us/step - loss: 2103265.1480 - mean_absolute_percentage_error: 1.7115 - mean_absolute_error: 912.4406 - val_loss: 3273609.9779 - val_mean_absolute_percentage_error: 2.4832 - val_mean_absolute_error: 1288.1505\n",
      "Epoch 32/400\n",
      "30236/30236 [==============================] - 1s 31us/step - loss: 1998381.2066 - mean_absolute_percentage_error: 1.6424 - mean_absolute_error: 874.6342 - val_loss: 2337788.4862 - val_mean_absolute_percentage_error: 1.7979 - val_mean_absolute_error: 949.4860\n",
      "Epoch 33/400\n",
      "30236/30236 [==============================] - 1s 31us/step - loss: 2034496.8093 - mean_absolute_percentage_error: 1.6705 - mean_absolute_error: 889.7653 - val_loss: 2404780.9360 - val_mean_absolute_percentage_error: 1.8954 - val_mean_absolute_error: 1001.0461\n",
      "Epoch 34/400\n",
      "30236/30236 [==============================] - 1s 31us/step - loss: 2074058.9123 - mean_absolute_percentage_error: 1.7061 - mean_absolute_error: 910.3185 - val_loss: 2534582.6833 - val_mean_absolute_percentage_error: 1.9334 - val_mean_absolute_error: 1007.0843\n",
      "Epoch 35/400\n",
      "30236/30236 [==============================] - 1s 30us/step - loss: 2035635.6559 - mean_absolute_percentage_error: 1.6760 - mean_absolute_error: 894.7543 - val_loss: 2458700.2424 - val_mean_absolute_percentage_error: 1.8468 - val_mean_absolute_error: 974.2776\n",
      "Epoch 36/400\n",
      "30236/30236 [==============================] - 1s 33us/step - loss: 1932475.8868 - mean_absolute_percentage_error: 1.6196 - mean_absolute_error: 863.8981 - val_loss: 2566329.4936 - val_mean_absolute_percentage_error: 1.9335 - val_mean_absolute_error: 1036.1532\n",
      "Epoch 37/400\n",
      "30236/30236 [==============================] - 1s 31us/step - loss: 2020843.9202 - mean_absolute_percentage_error: 1.6914 - mean_absolute_error: 902.3095 - val_loss: 2491373.8831 - val_mean_absolute_percentage_error: 1.8904 - val_mean_absolute_error: 1010.5318\n",
      "Epoch 38/400\n",
      "30236/30236 [==============================] - 1s 37us/step - loss: 1956824.5748 - mean_absolute_percentage_error: 1.6485 - mean_absolute_error: 881.8226 - val_loss: 2398944.1571 - val_mean_absolute_percentage_error: 1.8813 - val_mean_absolute_error: 997.3540\n",
      "Epoch 39/400\n",
      "30236/30236 [==============================] - 1s 34us/step - loss: 1961649.9712 - mean_absolute_percentage_error: 1.6544 - mean_absolute_error: 884.6302 - val_loss: 2483079.5439 - val_mean_absolute_percentage_error: 1.8931 - val_mean_absolute_error: 1002.0324\n",
      "Epoch 40/400\n",
      "30236/30236 [==============================] - 1s 32us/step - loss: 1956551.4909 - mean_absolute_percentage_error: 1.6567 - mean_absolute_error: 884.1535 - val_loss: 2410066.1208 - val_mean_absolute_percentage_error: 1.8574 - val_mean_absolute_error: 985.2506\n",
      "Epoch 41/400\n",
      "30236/30236 [==============================] - 1s 32us/step - loss: 1969227.2871 - mean_absolute_percentage_error: 1.6781 - mean_absolute_error: 896.7784 - val_loss: 2418191.6477 - val_mean_absolute_percentage_error: 1.8454 - val_mean_absolute_error: 975.4349\n",
      "Epoch 42/400\n",
      "30236/30236 [==============================] - 1s 32us/step - loss: 1865363.0022 - mean_absolute_percentage_error: 1.6073 - mean_absolute_error: 859.7305 - val_loss: 2627908.1613 - val_mean_absolute_percentage_error: 1.9205 - val_mean_absolute_error: 1025.0589\n",
      "Epoch 43/400\n",
      "30236/30236 [==============================] - 1s 31us/step - loss: 1829410.1527 - mean_absolute_percentage_error: 1.5859 - mean_absolute_error: 845.9528 - val_loss: 2503238.4188 - val_mean_absolute_percentage_error: 1.8745 - val_mean_absolute_error: 994.0804\n",
      "Epoch 44/400\n",
      "30236/30236 [==============================] - 1s 31us/step - loss: 1896800.1455 - mean_absolute_percentage_error: 1.6414 - mean_absolute_error: 876.7111 - val_loss: 2728464.6094 - val_mean_absolute_percentage_error: 1.9559 - val_mean_absolute_error: 1041.6215\n",
      "Epoch 45/400\n",
      "30236/30236 [==============================] - 1s 30us/step - loss: 1845501.5184 - mean_absolute_percentage_error: 1.6072 - mean_absolute_error: 857.8823 - val_loss: 2728896.9229 - val_mean_absolute_percentage_error: 2.1392 - val_mean_absolute_error: 1121.1888\n",
      "Epoch 46/400\n",
      "30236/30236 [==============================] - 1s 31us/step - loss: 1846017.8394 - mean_absolute_percentage_error: 1.6200 - mean_absolute_error: 864.6518 - val_loss: 2619624.0347 - val_mean_absolute_percentage_error: 1.9471 - val_mean_absolute_error: 1035.0874\n",
      "Epoch 47/400\n",
      "30236/30236 [==============================] - 1s 31us/step - loss: 1809184.5405 - mean_absolute_percentage_error: 1.5914 - mean_absolute_error: 850.1047 - val_loss: 3072039.1439 - val_mean_absolute_percentage_error: 2.1658 - val_mean_absolute_error: 1190.8975\n",
      "Epoch 48/400\n",
      "30236/30236 [==============================] - 1s 31us/step - loss: 1832206.7939 - mean_absolute_percentage_error: 1.6212 - mean_absolute_error: 866.7702 - val_loss: 2748959.6432 - val_mean_absolute_percentage_error: 2.0259 - val_mean_absolute_error: 1070.7021\n",
      "Epoch 49/400\n",
      "30236/30236 [==============================] - 1s 30us/step - loss: 1781227.9590 - mean_absolute_percentage_error: 1.5927 - mean_absolute_error: 849.4945 - val_loss: 2755848.1835 - val_mean_absolute_percentage_error: 2.0657 - val_mean_absolute_error: 1106.8739\n",
      "Epoch 50/400\n",
      "30236/30236 [==============================] - 1s 30us/step - loss: 1739070.8638 - mean_absolute_percentage_error: 1.5626 - mean_absolute_error: 835.6323 - val_loss: 2503219.4051 - val_mean_absolute_percentage_error: 1.8481 - val_mean_absolute_error: 981.5073\n",
      "Epoch 51/400\n",
      "30236/30236 [==============================] - 1s 30us/step - loss: 1726654.4808 - mean_absolute_percentage_error: 1.5597 - mean_absolute_error: 833.0384 - val_loss: 2725130.2130 - val_mean_absolute_percentage_error: 2.0130 - val_mean_absolute_error: 1061.1724\n",
      "Epoch 52/400\n",
      "30236/30236 [==============================] - 1s 32us/step - loss: 1695280.2441 - mean_absolute_percentage_error: 1.5491 - mean_absolute_error: 826.7317 - val_loss: 2552982.8133 - val_mean_absolute_percentage_error: 1.9342 - val_mean_absolute_error: 1023.7014\n",
      "Epoch 53/400\n",
      "30236/30236 [==============================] - 1s 30us/step - loss: 1774635.4390 - mean_absolute_percentage_error: 1.6186 - mean_absolute_error: 865.0460 - val_loss: 2528558.0420 - val_mean_absolute_percentage_error: 1.8703 - val_mean_absolute_error: 997.2603\n",
      "Epoch 54/400\n",
      "30236/30236 [==============================] - 1s 32us/step - loss: 1709446.3355 - mean_absolute_percentage_error: 1.5631 - mean_absolute_error: 836.3806 - val_loss: 3628713.2382 - val_mean_absolute_percentage_error: 2.4504 - val_mean_absolute_error: 1345.7318\n",
      "Epoch 55/400\n",
      "30236/30236 [==============================] - 1s 31us/step - loss: 1794258.1117 - mean_absolute_percentage_error: 1.6310 - mean_absolute_error: 873.2735 - val_loss: 2660490.7376 - val_mean_absolute_percentage_error: 1.9674 - val_mean_absolute_error: 1041.1999\n",
      "Epoch 56/400\n",
      "30236/30236 [==============================] - 1s 31us/step - loss: 1622950.6500 - mean_absolute_percentage_error: 1.5098 - mean_absolute_error: 807.3166 - val_loss: 2557425.0959 - val_mean_absolute_percentage_error: 1.8903 - val_mean_absolute_error: 1003.9429\n",
      "Epoch 57/400\n",
      "30236/30236 [==============================] - 1s 30us/step - loss: 1623137.0968 - mean_absolute_percentage_error: 1.5210 - mean_absolute_error: 813.0548 - val_loss: 2655999.7051 - val_mean_absolute_percentage_error: 1.9082 - val_mean_absolute_error: 1009.4289\n",
      "Epoch 58/400\n",
      "30236/30236 [==============================] - 1s 30us/step - loss: 1638088.6021 - mean_absolute_percentage_error: 1.5370 - mean_absolute_error: 821.4973 - val_loss: 2623910.3321 - val_mean_absolute_percentage_error: 1.8881 - val_mean_absolute_error: 1007.3571\n",
      "Epoch 59/400\n",
      "30236/30236 [==============================] - 1s 30us/step - loss: 1609530.1481 - mean_absolute_percentage_error: 1.5189 - mean_absolute_error: 812.6477 - val_loss: 2749608.4266 - val_mean_absolute_percentage_error: 1.9988 - val_mean_absolute_error: 1060.4962\n"
     ]
    },
    {
     "name": "stdout",
     "output_type": "stream",
     "text": [
      "Epoch 60/400\n",
      "30236/30236 [==============================] - 1s 31us/step - loss: 1649655.9122 - mean_absolute_percentage_error: 1.5648 - mean_absolute_error: 836.9111 - val_loss: 2632015.7546 - val_mean_absolute_percentage_error: 1.9220 - val_mean_absolute_error: 1022.2889\n",
      "Epoch 61/400\n",
      "30236/30236 [==============================] - 1s 31us/step - loss: 1606853.8801 - mean_absolute_percentage_error: 1.5316 - mean_absolute_error: 818.0375 - val_loss: 2618293.0421 - val_mean_absolute_percentage_error: 1.9082 - val_mean_absolute_error: 1012.2148\n",
      "Epoch 62/400\n",
      "30236/30236 [==============================] - 1s 32us/step - loss: 1642208.4765 - mean_absolute_percentage_error: 1.5655 - mean_absolute_error: 838.1152 - val_loss: 2751873.6938 - val_mean_absolute_percentage_error: 2.0050 - val_mean_absolute_error: 1071.7257\n",
      "Epoch 63/400\n",
      "30236/30236 [==============================] - 1s 31us/step - loss: 1578411.7264 - mean_absolute_percentage_error: 1.5263 - mean_absolute_error: 814.6097 - val_loss: 2701740.7827 - val_mean_absolute_percentage_error: 1.9565 - val_mean_absolute_error: 1049.4994\n",
      "Epoch 64/400\n",
      "30236/30236 [==============================] - 1s 31us/step - loss: 1550825.9610 - mean_absolute_percentage_error: 1.5082 - mean_absolute_error: 805.6137 - val_loss: 2668087.2409 - val_mean_absolute_percentage_error: 1.9176 - val_mean_absolute_error: 1017.3886\n",
      "Epoch 65/400\n",
      "30236/30236 [==============================] - 1s 31us/step - loss: 1521014.2187 - mean_absolute_percentage_error: 1.4818 - mean_absolute_error: 792.6795 - val_loss: 2642153.0183 - val_mean_absolute_percentage_error: 1.9131 - val_mean_absolute_error: 1015.5395\n",
      "Epoch 66/400\n",
      "30236/30236 [==============================] - 1s 30us/step - loss: 1518035.1546 - mean_absolute_percentage_error: 1.4885 - mean_absolute_error: 796.1624 - val_loss: 2699639.3472 - val_mean_absolute_percentage_error: 1.9217 - val_mean_absolute_error: 1021.9073\n",
      "Epoch 67/400\n",
      "30236/30236 [==============================] - 1s 31us/step - loss: 1588032.0545 - mean_absolute_percentage_error: 1.5456 - mean_absolute_error: 826.9701 - val_loss: 3152866.2037 - val_mean_absolute_percentage_error: 2.2720 - val_mean_absolute_error: 1186.6798\n",
      "Epoch 68/400\n",
      "30236/30236 [==============================] - 1s 31us/step - loss: 1553267.6195 - mean_absolute_percentage_error: 1.5371 - mean_absolute_error: 820.4889 - val_loss: 2876029.1596 - val_mean_absolute_percentage_error: 2.1251 - val_mean_absolute_error: 1128.8892\n",
      "Epoch 69/400\n",
      "30236/30236 [==============================] - 1s 30us/step - loss: 1539875.1337 - mean_absolute_percentage_error: 1.5228 - mean_absolute_error: 815.0418 - val_loss: 2762283.8874 - val_mean_absolute_percentage_error: 1.9856 - val_mean_absolute_error: 1067.0253\n",
      "Epoch 70/400\n",
      "30236/30236 [==============================] - 1s 31us/step - loss: 1457226.7861 - mean_absolute_percentage_error: 1.4630 - mean_absolute_error: 782.5465 - val_loss: 2902837.0638 - val_mean_absolute_percentage_error: 2.1599 - val_mean_absolute_error: 1142.1792\n",
      "Epoch 71/400\n",
      "30236/30236 [==============================] - 1s 30us/step - loss: 1449690.5055 - mean_absolute_percentage_error: 1.4621 - mean_absolute_error: 783.7950 - val_loss: 2754066.2340 - val_mean_absolute_percentage_error: 2.0335 - val_mean_absolute_error: 1078.5710\n",
      "Epoch 72/400\n",
      "30236/30236 [==============================] - 1s 31us/step - loss: 1445624.0349 - mean_absolute_percentage_error: 1.4698 - mean_absolute_error: 786.2599 - val_loss: 3102170.8737 - val_mean_absolute_percentage_error: 2.2230 - val_mean_absolute_error: 1184.9509\n",
      "Epoch 73/400\n",
      "30236/30236 [==============================] - 1s 31us/step - loss: 1496617.3065 - mean_absolute_percentage_error: 1.5138 - mean_absolute_error: 809.6946 - val_loss: 2860841.3425 - val_mean_absolute_percentage_error: 2.0307 - val_mean_absolute_error: 1083.1207\n",
      "Epoch 74/400\n",
      "30236/30236 [==============================] - 1s 30us/step - loss: 1461025.0362 - mean_absolute_percentage_error: 1.4875 - mean_absolute_error: 798.1846 - val_loss: 2709324.9206 - val_mean_absolute_percentage_error: 1.9616 - val_mean_absolute_error: 1043.1713\n",
      "Epoch 75/400\n",
      "30236/30236 [==============================] - 1s 31us/step - loss: 1396734.3562 - mean_absolute_percentage_error: 1.4420 - mean_absolute_error: 770.7564 - val_loss: 2726212.8730 - val_mean_absolute_percentage_error: 1.9453 - val_mean_absolute_error: 1035.7361\n",
      "Epoch 76/400\n",
      "30236/30236 [==============================] - 1s 30us/step - loss: 1473576.2786 - mean_absolute_percentage_error: 1.5054 - mean_absolute_error: 807.0532 - val_loss: 2940505.8968 - val_mean_absolute_percentage_error: 2.0199 - val_mean_absolute_error: 1077.2831\n",
      "Epoch 77/400\n",
      "30236/30236 [==============================] - 1s 34us/step - loss: 1423215.3183 - mean_absolute_percentage_error: 1.4728 - mean_absolute_error: 789.1541 - val_loss: 3176927.8364 - val_mean_absolute_percentage_error: 2.2231 - val_mean_absolute_error: 1195.8876\n",
      "Epoch 78/400\n",
      "30236/30236 [==============================] - 1s 35us/step - loss: 1384608.8337 - mean_absolute_percentage_error: 1.4426 - mean_absolute_error: 773.8874 - val_loss: 3223967.1118 - val_mean_absolute_percentage_error: 2.2037 - val_mean_absolute_error: 1179.7776\n",
      "Epoch 79/400\n",
      "30236/30236 [==============================] - 1s 32us/step - loss: 1385903.3398 - mean_absolute_percentage_error: 1.4537 - mean_absolute_error: 779.3875 - val_loss: 3269490.6355 - val_mean_absolute_percentage_error: 2.1362 - val_mean_absolute_error: 1157.6290\n",
      "Epoch 80/400\n",
      "30236/30236 [==============================] - 1s 33us/step - loss: 1365841.3404 - mean_absolute_percentage_error: 1.4438 - mean_absolute_error: 773.5702 - val_loss: 2730103.6234 - val_mean_absolute_percentage_error: 2.0010 - val_mean_absolute_error: 1070.1075\n",
      "Epoch 81/400\n",
      "30236/30236 [==============================] - 1s 32us/step - loss: 1360390.4088 - mean_absolute_percentage_error: 1.4453 - mean_absolute_error: 774.3127 - val_loss: 2877148.7324 - val_mean_absolute_percentage_error: 2.0448 - val_mean_absolute_error: 1098.8844\n",
      "Epoch 82/400\n",
      "30236/30236 [==============================] - 1s 30us/step - loss: 1382619.6810 - mean_absolute_percentage_error: 1.4649 - mean_absolute_error: 785.8433 - val_loss: 3074160.5323 - val_mean_absolute_percentage_error: 2.1541 - val_mean_absolute_error: 1164.4953\n",
      "Epoch 83/400\n",
      "30236/30236 [==============================] - 1s 32us/step - loss: 1348727.1119 - mean_absolute_percentage_error: 1.4349 - mean_absolute_error: 769.6603 - val_loss: 2805774.5174 - val_mean_absolute_percentage_error: 2.0237 - val_mean_absolute_error: 1079.1833\n",
      "Epoch 84/400\n",
      "30236/30236 [==============================] - 1s 31us/step - loss: 1301642.0486 - mean_absolute_percentage_error: 1.4125 - mean_absolute_error: 757.0155 - val_loss: 3234678.8688 - val_mean_absolute_percentage_error: 2.2497 - val_mean_absolute_error: 1226.4088\n",
      "Epoch 85/400\n",
      "30236/30236 [==============================] - 1s 31us/step - loss: 1352486.6606 - mean_absolute_percentage_error: 1.4551 - mean_absolute_error: 781.8351 - val_loss: 2973541.8184 - val_mean_absolute_percentage_error: 2.1025 - val_mean_absolute_error: 1137.1747\n",
      "Epoch 86/400\n",
      "30236/30236 [==============================] - 1s 31us/step - loss: 1317395.9550 - mean_absolute_percentage_error: 1.4304 - mean_absolute_error: 767.4004 - val_loss: 3069343.4091 - val_mean_absolute_percentage_error: 2.1687 - val_mean_absolute_error: 1160.7522\n",
      "Epoch 87/400\n",
      "30236/30236 [==============================] - 1s 30us/step - loss: 1271098.5167 - mean_absolute_percentage_error: 1.3943 - mean_absolute_error: 748.9976 - val_loss: 2674686.1230 - val_mean_absolute_percentage_error: 1.9588 - val_mean_absolute_error: 1042.5570\n",
      "Epoch 88/400\n",
      "30236/30236 [==============================] - 1s 31us/step - loss: 1311910.3592 - mean_absolute_percentage_error: 1.4293 - mean_absolute_error: 769.6362 - val_loss: 3649330.1467 - val_mean_absolute_percentage_error: 2.5498 - val_mean_absolute_error: 1338.3921\n",
      "Epoch 89/400\n",
      "30236/30236 [==============================] - 1s 32us/step - loss: 1225826.2331 - mean_absolute_percentage_error: 1.3648 - mean_absolute_error: 732.6666 - val_loss: 2878912.0752 - val_mean_absolute_percentage_error: 2.0106 - val_mean_absolute_error: 1073.1027\n"
     ]
    },
    {
     "name": "stdout",
     "output_type": "stream",
     "text": [
      "Epoch 90/400\n",
      "30236/30236 [==============================] - 1s 31us/step - loss: 1242189.6857 - mean_absolute_percentage_error: 1.3888 - mean_absolute_error: 746.0012 - val_loss: 3017344.0292 - val_mean_absolute_percentage_error: 2.1162 - val_mean_absolute_error: 1122.7779\n",
      "Epoch 91/400\n",
      "30236/30236 [==============================] - 1s 30us/step - loss: 1272506.7098 - mean_absolute_percentage_error: 1.4236 - mean_absolute_error: 763.1137 - val_loss: 3192585.8201 - val_mean_absolute_percentage_error: 2.1896 - val_mean_absolute_error: 1172.5180\n",
      "Epoch 92/400\n",
      "30236/30236 [==============================] - 1s 30us/step - loss: 1225019.8844 - mean_absolute_percentage_error: 1.3791 - mean_absolute_error: 739.3177 - val_loss: 2823051.4121 - val_mean_absolute_percentage_error: 1.9710 - val_mean_absolute_error: 1054.2951\n",
      "Epoch 93/400\n",
      "30236/30236 [==============================] - 1s 32us/step - loss: 1260808.5270 - mean_absolute_percentage_error: 1.4115 - mean_absolute_error: 758.6773 - val_loss: 2854602.1735 - val_mean_absolute_percentage_error: 1.9797 - val_mean_absolute_error: 1057.7559\n",
      "Epoch 94/400\n",
      "30236/30236 [==============================] - 1s 32us/step - loss: 1162397.8231 - mean_absolute_percentage_error: 1.3265 - mean_absolute_error: 713.0657 - val_loss: 3186173.0787 - val_mean_absolute_percentage_error: 2.2855 - val_mean_absolute_error: 1207.4756\n",
      "Epoch 95/400\n",
      "30236/30236 [==============================] - 1s 33us/step - loss: 1215400.3433 - mean_absolute_percentage_error: 1.3821 - mean_absolute_error: 742.8329 - val_loss: 2976391.2840 - val_mean_absolute_percentage_error: 2.0261 - val_mean_absolute_error: 1084.5545\n",
      "Epoch 96/400\n",
      "30236/30236 [==============================] - 1s 34us/step - loss: 1249225.3486 - mean_absolute_percentage_error: 1.4111 - mean_absolute_error: 759.9212 - val_loss: 2980572.7410 - val_mean_absolute_percentage_error: 1.9960 - val_mean_absolute_error: 1070.4632\n",
      "Epoch 97/400\n",
      "30236/30236 [==============================] - 1s 31us/step - loss: 1164068.8510 - mean_absolute_percentage_error: 1.3467 - mean_absolute_error: 723.7139 - val_loss: 3234677.4573 - val_mean_absolute_percentage_error: 2.1277 - val_mean_absolute_error: 1143.5704\n",
      "Epoch 98/400\n",
      "30236/30236 [==============================] - 1s 31us/step - loss: 1161737.4539 - mean_absolute_percentage_error: 1.3419 - mean_absolute_error: 723.4225 - val_loss: 3066056.3066 - val_mean_absolute_percentage_error: 2.1444 - val_mean_absolute_error: 1150.0148\n",
      "Epoch 99/400\n",
      "30236/30236 [==============================] - 1s 30us/step - loss: 1187001.4937 - mean_absolute_percentage_error: 1.3714 - mean_absolute_error: 740.2793 - val_loss: 3798213.2333 - val_mean_absolute_percentage_error: 2.6099 - val_mean_absolute_error: 1370.0350\n",
      "Epoch 100/400\n",
      "30236/30236 [==============================] - 1s 31us/step - loss: 1162411.2038 - mean_absolute_percentage_error: 1.3622 - mean_absolute_error: 732.7373 - val_loss: 3208166.7819 - val_mean_absolute_percentage_error: 2.2181 - val_mean_absolute_error: 1180.1150\n",
      "Epoch 101/400\n",
      "30236/30236 [==============================] - 1s 30us/step - loss: 1108070.6007 - mean_absolute_percentage_error: 1.3226 - mean_absolute_error: 710.1962 - val_loss: 2945138.8404 - val_mean_absolute_percentage_error: 2.0283 - val_mean_absolute_error: 1084.8024\n",
      "Epoch 102/400\n",
      "30236/30236 [==============================] - 1s 31us/step - loss: 1199806.7989 - mean_absolute_percentage_error: 1.3903 - mean_absolute_error: 749.1028 - val_loss: 2946335.0029 - val_mean_absolute_percentage_error: 2.0003 - val_mean_absolute_error: 1077.4226\n",
      "Epoch 103/400\n",
      "30236/30236 [==============================] - 1s 30us/step - loss: 1135446.6836 - mean_absolute_percentage_error: 1.3443 - mean_absolute_error: 725.8335 - val_loss: 2972484.3560 - val_mean_absolute_percentage_error: 2.0139 - val_mean_absolute_error: 1079.2523\n",
      "Epoch 104/400\n",
      "30236/30236 [==============================] - 1s 31us/step - loss: 1099199.0303 - mean_absolute_percentage_error: 1.3116 - mean_absolute_error: 707.8540 - val_loss: 3210785.5363 - val_mean_absolute_percentage_error: 2.0774 - val_mean_absolute_error: 1125.3118\n",
      "Epoch 105/400\n",
      "30236/30236 [==============================] - 1s 31us/step - loss: 1096363.3491 - mean_absolute_percentage_error: 1.3249 - mean_absolute_error: 712.6774 - val_loss: 2982591.3618 - val_mean_absolute_percentage_error: 2.0374 - val_mean_absolute_error: 1104.6124\n",
      "Epoch 106/400\n",
      "30236/30236 [==============================] - 1s 30us/step - loss: 1093377.6238 - mean_absolute_percentage_error: 1.3169 - mean_absolute_error: 709.4115 - val_loss: 3078488.6923 - val_mean_absolute_percentage_error: 2.1240 - val_mean_absolute_error: 1135.6341\n",
      "Epoch 107/400\n",
      "30236/30236 [==============================] - 1s 31us/step - loss: 1102385.0503 - mean_absolute_percentage_error: 1.3225 - mean_absolute_error: 713.4774 - val_loss: 2990436.6280 - val_mean_absolute_percentage_error: 2.0760 - val_mean_absolute_error: 1117.8397\n",
      "Epoch 108/400\n",
      "30236/30236 [==============================] - 1s 30us/step - loss: 1038738.6490 - mean_absolute_percentage_error: 1.2815 - mean_absolute_error: 688.6474 - val_loss: 2969098.0956 - val_mean_absolute_percentage_error: 2.1142 - val_mean_absolute_error: 1132.1513\n",
      "Epoch 109/400\n",
      "30236/30236 [==============================] - 1s 31us/step - loss: 1039463.7712 - mean_absolute_percentage_error: 1.2861 - mean_absolute_error: 692.1714 - val_loss: 3056625.6393 - val_mean_absolute_percentage_error: 2.0632 - val_mean_absolute_error: 1105.5961\n",
      "Epoch 110/400\n",
      "30236/30236 [==============================] - 1s 31us/step - loss: 1036300.4286 - mean_absolute_percentage_error: 1.2809 - mean_absolute_error: 690.1422 - val_loss: 2949516.9017 - val_mean_absolute_percentage_error: 1.9719 - val_mean_absolute_error: 1058.2153\n",
      "Epoch 111/400\n",
      "30236/30236 [==============================] - 1s 29us/step - loss: 1103375.8749 - mean_absolute_percentage_error: 1.3396 - mean_absolute_error: 722.4542 - val_loss: 3189217.2213 - val_mean_absolute_percentage_error: 2.1400 - val_mean_absolute_error: 1158.3347\n",
      "Epoch 112/400\n",
      "30236/30236 [==============================] - 1s 30us/step - loss: 1031038.0878 - mean_absolute_percentage_error: 1.2686 - mean_absolute_error: 684.9027 - val_loss: 2912145.6378 - val_mean_absolute_percentage_error: 1.9955 - val_mean_absolute_error: 1071.8338\n",
      "Epoch 113/400\n",
      "30236/30236 [==============================] - 1s 30us/step - loss: 1016363.2602 - mean_absolute_percentage_error: 1.2752 - mean_absolute_error: 687.7477 - val_loss: 3560028.1578 - val_mean_absolute_percentage_error: 2.3870 - val_mean_absolute_error: 1286.4388\n",
      "Epoch 114/400\n",
      "30236/30236 [==============================] - 1s 30us/step - loss: 1056875.2910 - mean_absolute_percentage_error: 1.3026 - mean_absolute_error: 703.1528 - val_loss: 2914080.4398 - val_mean_absolute_percentage_error: 2.0150 - val_mean_absolute_error: 1081.8873\n",
      "Epoch 115/400\n",
      "30236/30236 [==============================] - 1s 31us/step - loss: 1037219.4003 - mean_absolute_percentage_error: 1.2966 - mean_absolute_error: 699.8331 - val_loss: 3181772.9428 - val_mean_absolute_percentage_error: 2.1457 - val_mean_absolute_error: 1145.5072\n",
      "Epoch 116/400\n",
      "30236/30236 [==============================] - 1s 30us/step - loss: 1014864.0251 - mean_absolute_percentage_error: 1.2802 - mean_absolute_error: 690.4080 - val_loss: 3194500.6683 - val_mean_absolute_percentage_error: 2.1208 - val_mean_absolute_error: 1142.9535\n",
      "Epoch 117/400\n",
      "30236/30236 [==============================] - 1s 31us/step - loss: 956158.7173 - mean_absolute_percentage_error: 1.2322 - mean_absolute_error: 663.7379 - val_loss: 3564852.0209 - val_mean_absolute_percentage_error: 2.1954 - val_mean_absolute_error: 1190.7440\n",
      "Epoch 118/400\n",
      "30236/30236 [==============================] - 1s 30us/step - loss: 974039.8505 - mean_absolute_percentage_error: 1.2509 - mean_absolute_error: 674.3697 - val_loss: 3340052.6978 - val_mean_absolute_percentage_error: 2.3081 - val_mean_absolute_error: 1234.3504\n",
      "Epoch 119/400\n",
      "30236/30236 [==============================] - 1s 30us/step - loss: 966689.5731 - mean_absolute_percentage_error: 1.2463 - mean_absolute_error: 672.2138 - val_loss: 3450063.5471 - val_mean_absolute_percentage_error: 2.1575 - val_mean_absolute_error: 1167.0736\n"
     ]
    },
    {
     "name": "stdout",
     "output_type": "stream",
     "text": [
      "Epoch 120/400\n",
      "30236/30236 [==============================] - 1s 31us/step - loss: 951912.2933 - mean_absolute_percentage_error: 1.2354 - mean_absolute_error: 666.4259 - val_loss: 3544430.7257 - val_mean_absolute_percentage_error: 2.1830 - val_mean_absolute_error: 1183.7817\n",
      "Epoch 121/400\n",
      "30236/30236 [==============================] - 1s 30us/step - loss: 977943.5587 - mean_absolute_percentage_error: 1.2614 - mean_absolute_error: 680.4764 - val_loss: 2952367.4168 - val_mean_absolute_percentage_error: 1.9868 - val_mean_absolute_error: 1065.4033\n",
      "Epoch 122/400\n",
      "30236/30236 [==============================] - 1s 31us/step - loss: 969705.4879 - mean_absolute_percentage_error: 1.2612 - mean_absolute_error: 678.8238 - val_loss: 3035831.3101 - val_mean_absolute_percentage_error: 2.0302 - val_mean_absolute_error: 1089.8910\n",
      "Epoch 123/400\n",
      "30236/30236 [==============================] - 1s 30us/step - loss: 950052.5064 - mean_absolute_percentage_error: 1.2435 - mean_absolute_error: 670.3018 - val_loss: 3186137.6330 - val_mean_absolute_percentage_error: 2.0844 - val_mean_absolute_error: 1117.5986\n",
      "Epoch 124/400\n",
      "30236/30236 [==============================] - 1s 31us/step - loss: 949328.7603 - mean_absolute_percentage_error: 1.2374 - mean_absolute_error: 668.6868 - val_loss: 3349755.5300 - val_mean_absolute_percentage_error: 2.1159 - val_mean_absolute_error: 1141.7936\n",
      "Epoch 125/400\n",
      "30236/30236 [==============================] - 1s 30us/step - loss: 962266.2571 - mean_absolute_percentage_error: 1.2533 - mean_absolute_error: 677.6332 - val_loss: 3007390.4339 - val_mean_absolute_percentage_error: 2.0078 - val_mean_absolute_error: 1079.0242\n",
      "Epoch 126/400\n",
      "30236/30236 [==============================] - 1s 31us/step - loss: 984189.6981 - mean_absolute_percentage_error: 1.2875 - mean_absolute_error: 693.7818 - val_loss: 3507582.5983 - val_mean_absolute_percentage_error: 2.1982 - val_mean_absolute_error: 1190.5998\n",
      "Epoch 127/400\n",
      "30236/30236 [==============================] - 1s 31us/step - loss: 932593.5214 - mean_absolute_percentage_error: 1.2379 - mean_absolute_error: 667.2198 - val_loss: 3046664.9486 - val_mean_absolute_percentage_error: 2.0377 - val_mean_absolute_error: 1105.0459\n",
      "Epoch 128/400\n",
      "30236/30236 [==============================] - 1s 31us/step - loss: 874185.7264 - mean_absolute_percentage_error: 1.1791 - mean_absolute_error: 636.8787 - val_loss: 3094223.9956 - val_mean_absolute_percentage_error: 2.0107 - val_mean_absolute_error: 1081.9231\n",
      "Epoch 129/400\n",
      "30236/30236 [==============================] - 1s 31us/step - loss: 965860.8137 - mean_absolute_percentage_error: 1.2794 - mean_absolute_error: 689.8194 - val_loss: 3257339.7835 - val_mean_absolute_percentage_error: 2.0968 - val_mean_absolute_error: 1129.6804\n",
      "Epoch 130/400\n",
      "30236/30236 [==============================] - 1s 31us/step - loss: 900601.6033 - mean_absolute_percentage_error: 1.2100 - mean_absolute_error: 652.2490 - val_loss: 3179992.7143 - val_mean_absolute_percentage_error: 2.0528 - val_mean_absolute_error: 1110.4880\n",
      "Epoch 131/400\n",
      "30236/30236 [==============================] - 1s 30us/step - loss: 855090.1305 - mean_absolute_percentage_error: 1.1722 - mean_absolute_error: 633.3605 - val_loss: 3191809.9431 - val_mean_absolute_percentage_error: 2.0188 - val_mean_absolute_error: 1088.8535\n",
      "Epoch 132/400\n",
      "30236/30236 [==============================] - 1s 30us/step - loss: 881597.2107 - mean_absolute_percentage_error: 1.2025 - mean_absolute_error: 649.2896 - val_loss: 3182603.4820 - val_mean_absolute_percentage_error: 2.0528 - val_mean_absolute_error: 1106.2818\n",
      "Epoch 133/400\n",
      "30236/30236 [==============================] - 1s 30us/step - loss: 870450.8077 - mean_absolute_percentage_error: 1.1903 - mean_absolute_error: 641.8382 - val_loss: 3057834.4949 - val_mean_absolute_percentage_error: 2.0016 - val_mean_absolute_error: 1076.8677\n",
      "Epoch 134/400\n",
      "30236/30236 [==============================] - 1s 31us/step - loss: 918391.4056 - mean_absolute_percentage_error: 1.2389 - mean_absolute_error: 667.7145 - val_loss: 3690491.5767 - val_mean_absolute_percentage_error: 2.2927 - val_mean_absolute_error: 1237.9339\n",
      "Epoch 135/400\n",
      "30236/30236 [==============================] - 1s 31us/step - loss: 855033.9472 - mean_absolute_percentage_error: 1.1802 - mean_absolute_error: 636.9165 - val_loss: 4110143.1062 - val_mean_absolute_percentage_error: 2.4935 - val_mean_absolute_error: 1346.3645\n",
      "Epoch 136/400\n",
      "30236/30236 [==============================] - 1s 30us/step - loss: 869854.7791 - mean_absolute_percentage_error: 1.2005 - mean_absolute_error: 648.7401 - val_loss: 3340869.7267 - val_mean_absolute_percentage_error: 2.0590 - val_mean_absolute_error: 1120.4628\n",
      "Epoch 137/400\n",
      "30236/30236 [==============================] - 1s 31us/step - loss: 848350.7859 - mean_absolute_percentage_error: 1.1842 - mean_absolute_error: 639.8005 - val_loss: 3149392.2222 - val_mean_absolute_percentage_error: 2.0727 - val_mean_absolute_error: 1111.8042\n",
      "Epoch 138/400\n",
      "30236/30236 [==============================] - 1s 31us/step - loss: 894615.0077 - mean_absolute_percentage_error: 1.2192 - mean_absolute_error: 659.9972 - val_loss: 3339164.0810 - val_mean_absolute_percentage_error: 2.0403 - val_mean_absolute_error: 1108.0947\n",
      "Epoch 139/400\n",
      "30236/30236 [==============================] - 1s 31us/step - loss: 906932.2894 - mean_absolute_percentage_error: 1.2360 - mean_absolute_error: 667.5877 - val_loss: 3054805.5003 - val_mean_absolute_percentage_error: 1.9717 - val_mean_absolute_error: 1061.9819\n",
      "Epoch 140/400\n",
      "30236/30236 [==============================] - 1s 31us/step - loss: 804936.6704 - mean_absolute_percentage_error: 1.1464 - mean_absolute_error: 620.1972 - val_loss: 3351601.5794 - val_mean_absolute_percentage_error: 2.1258 - val_mean_absolute_error: 1144.9945\n",
      "Epoch 141/400\n",
      "30236/30236 [==============================] - 1s 30us/step - loss: 821043.0379 - mean_absolute_percentage_error: 1.1687 - mean_absolute_error: 631.1862 - val_loss: 3395019.6650 - val_mean_absolute_percentage_error: 2.0904 - val_mean_absolute_error: 1131.9292\n",
      "Epoch 142/400\n",
      "30236/30236 [==============================] - 1s 31us/step - loss: 805976.7691 - mean_absolute_percentage_error: 1.1498 - mean_absolute_error: 620.9396 - val_loss: 2995082.6128 - val_mean_absolute_percentage_error: 1.9855 - val_mean_absolute_error: 1065.5159\n",
      "Epoch 143/400\n",
      "30236/30236 [==============================] - 1s 30us/step - loss: 809113.1493 - mean_absolute_percentage_error: 1.1531 - mean_absolute_error: 622.7622 - val_loss: 3318101.7855 - val_mean_absolute_percentage_error: 2.1585 - val_mean_absolute_error: 1159.1603\n",
      "Epoch 144/400\n",
      "30236/30236 [==============================] - 1s 30us/step - loss: 839495.8307 - mean_absolute_percentage_error: 1.1852 - mean_absolute_error: 640.4888 - val_loss: 3166602.4492 - val_mean_absolute_percentage_error: 2.0090 - val_mean_absolute_error: 1084.0059\n",
      "Epoch 145/400\n",
      "30236/30236 [==============================] - 1s 30us/step - loss: 810238.4182 - mean_absolute_percentage_error: 1.1599 - mean_absolute_error: 626.5606 - val_loss: 3317188.8737 - val_mean_absolute_percentage_error: 2.1039 - val_mean_absolute_error: 1143.6806\n",
      "Epoch 146/400\n",
      "30236/30236 [==============================] - 1s 30us/step - loss: 858416.0518 - mean_absolute_percentage_error: 1.2045 - mean_absolute_error: 651.7983 - val_loss: 3105518.5724 - val_mean_absolute_percentage_error: 1.9977 - val_mean_absolute_error: 1079.9322\n",
      "Epoch 147/400\n",
      "30236/30236 [==============================] - 1s 31us/step - loss: 886765.1554 - mean_absolute_percentage_error: 1.2181 - mean_absolute_error: 657.0644 - val_loss: 3072059.9394 - val_mean_absolute_percentage_error: 1.9840 - val_mean_absolute_error: 1069.2790\n",
      "Epoch 148/400\n",
      "30236/30236 [==============================] - 1s 31us/step - loss: 756787.0548 - mean_absolute_percentage_error: 1.1125 - mean_absolute_error: 602.1153 - val_loss: 3189654.9824 - val_mean_absolute_percentage_error: 2.0068 - val_mean_absolute_error: 1085.4875\n",
      "Epoch 149/400\n",
      "30236/30236 [==============================] - 1s 30us/step - loss: 818181.1619 - mean_absolute_percentage_error: 1.1741 - mean_absolute_error: 634.5590 - val_loss: 3184888.2160 - val_mean_absolute_percentage_error: 2.0146 - val_mean_absolute_error: 1089.9679\n"
     ]
    },
    {
     "name": "stdout",
     "output_type": "stream",
     "text": [
      "Epoch 150/400\n",
      "30236/30236 [==============================] - 1s 30us/step - loss: 773403.8936 - mean_absolute_percentage_error: 1.1390 - mean_absolute_error: 614.8793 - val_loss: 3256559.3188 - val_mean_absolute_percentage_error: 2.1998 - val_mean_absolute_error: 1172.8685\n",
      "Epoch 151/400\n",
      "30236/30236 [==============================] - 1s 31us/step - loss: 774813.0236 - mean_absolute_percentage_error: 1.1329 - mean_absolute_error: 611.8003 - val_loss: 3243428.5876 - val_mean_absolute_percentage_error: 2.0455 - val_mean_absolute_error: 1098.2500\n",
      "Epoch 152/400\n",
      "30236/30236 [==============================] - 1s 31us/step - loss: 794070.2633 - mean_absolute_percentage_error: 1.1585 - mean_absolute_error: 626.2664 - val_loss: 3266885.8547 - val_mean_absolute_percentage_error: 2.0055 - val_mean_absolute_error: 1086.2553\n",
      "Epoch 153/400\n",
      "30236/30236 [==============================] - 1s 31us/step - loss: 778517.5744 - mean_absolute_percentage_error: 1.1420 - mean_absolute_error: 616.5768 - val_loss: 3189634.1930 - val_mean_absolute_percentage_error: 2.0249 - val_mean_absolute_error: 1093.2605\n",
      "Epoch 154/400\n",
      "30236/30236 [==============================] - 1s 30us/step - loss: 800568.9770 - mean_absolute_percentage_error: 1.1593 - mean_absolute_error: 628.4869 - val_loss: 4235132.9419 - val_mean_absolute_percentage_error: 2.5715 - val_mean_absolute_error: 1381.9349\n",
      "Epoch 155/400\n",
      "30236/30236 [==============================] - 1s 31us/step - loss: 757825.5587 - mean_absolute_percentage_error: 1.1298 - mean_absolute_error: 610.5694 - val_loss: 3133828.5189 - val_mean_absolute_percentage_error: 2.0199 - val_mean_absolute_error: 1089.5174\n",
      "Epoch 156/400\n",
      "30236/30236 [==============================] - 1s 31us/step - loss: 758146.4967 - mean_absolute_percentage_error: 1.1320 - mean_absolute_error: 611.4082 - val_loss: 3171439.0698 - val_mean_absolute_percentage_error: 2.0140 - val_mean_absolute_error: 1088.3494\n",
      "Epoch 157/400\n",
      "30236/30236 [==============================] - 1s 30us/step - loss: 749913.7399 - mean_absolute_percentage_error: 1.1181 - mean_absolute_error: 604.0841 - val_loss: 3157877.6698 - val_mean_absolute_percentage_error: 1.9764 - val_mean_absolute_error: 1070.3370\n",
      "Epoch 158/400\n",
      "30236/30236 [==============================] - 1s 31us/step - loss: 752103.5789 - mean_absolute_percentage_error: 1.1256 - mean_absolute_error: 607.7801 - val_loss: 3448855.8597 - val_mean_absolute_percentage_error: 2.1134 - val_mean_absolute_error: 1151.5830\n",
      "Epoch 159/400\n",
      "30236/30236 [==============================] - 1s 31us/step - loss: 761636.7250 - mean_absolute_percentage_error: 1.1336 - mean_absolute_error: 614.4470 - val_loss: 3312803.6443 - val_mean_absolute_percentage_error: 2.1458 - val_mean_absolute_error: 1153.5611\n",
      "Epoch 160/400\n",
      "30236/30236 [==============================] - 1s 31us/step - loss: 782624.3182 - mean_absolute_percentage_error: 1.1575 - mean_absolute_error: 624.7743 - val_loss: 3180366.7900 - val_mean_absolute_percentage_error: 1.9927 - val_mean_absolute_error: 1076.9891\n",
      "Epoch 161/400\n",
      "30236/30236 [==============================] - 1s 31us/step - loss: 737428.8808 - mean_absolute_percentage_error: 1.1179 - mean_absolute_error: 604.8483 - val_loss: 3232144.4966 - val_mean_absolute_percentage_error: 2.0879 - val_mean_absolute_error: 1126.0490\n",
      "Epoch 162/400\n",
      "30236/30236 [==============================] - 1s 31us/step - loss: 716064.3947 - mean_absolute_percentage_error: 1.0988 - mean_absolute_error: 593.4449 - val_loss: 3133595.5729 - val_mean_absolute_percentage_error: 2.0342 - val_mean_absolute_error: 1095.7417\n",
      "Epoch 163/400\n",
      "30236/30236 [==============================] - 1s 31us/step - loss: 775038.3567 - mean_absolute_percentage_error: 1.1418 - mean_absolute_error: 618.2248 - val_loss: 3183404.6684 - val_mean_absolute_percentage_error: 2.0367 - val_mean_absolute_error: 1099.6333\n",
      "Epoch 164/400\n",
      "30236/30236 [==============================] - 1s 30us/step - loss: 724635.7521 - mean_absolute_percentage_error: 1.1091 - mean_absolute_error: 600.4707 - val_loss: 3137591.4072 - val_mean_absolute_percentage_error: 1.9810 - val_mean_absolute_error: 1072.9706\n",
      "Epoch 165/400\n",
      "30236/30236 [==============================] - 1s 30us/step - loss: 766612.7213 - mean_absolute_percentage_error: 1.1598 - mean_absolute_error: 625.3069 - val_loss: 3104061.6851 - val_mean_absolute_percentage_error: 1.9774 - val_mean_absolute_error: 1067.5030\n",
      "Epoch 166/400\n",
      "30236/30236 [==============================] - 1s 32us/step - loss: 700349.9107 - mean_absolute_percentage_error: 1.0876 - mean_absolute_error: 587.7347 - val_loss: 3262508.8289 - val_mean_absolute_percentage_error: 2.1017 - val_mean_absolute_error: 1127.2154\n",
      "Epoch 167/400\n",
      "30236/30236 [==============================] - 1s 31us/step - loss: 689563.1465 - mean_absolute_percentage_error: 1.0792 - mean_absolute_error: 582.4677 - val_loss: 3083455.3123 - val_mean_absolute_percentage_error: 2.0092 - val_mean_absolute_error: 1090.5564\n",
      "Epoch 168/400\n",
      "30236/30236 [==============================] - 1s 33us/step - loss: 714298.2731 - mean_absolute_percentage_error: 1.1104 - mean_absolute_error: 598.2210 - val_loss: 3466541.3494 - val_mean_absolute_percentage_error: 2.1806 - val_mean_absolute_error: 1167.4667\n",
      "Epoch 169/400\n",
      "30236/30236 [==============================] - 1s 36us/step - loss: 725284.7477 - mean_absolute_percentage_error: 1.1181 - mean_absolute_error: 603.6678 - val_loss: 3506577.2191 - val_mean_absolute_percentage_error: 2.3104 - val_mean_absolute_error: 1226.1916\n",
      "Epoch 170/400\n",
      "30236/30236 [==============================] - 1s 32us/step - loss: 718770.6154 - mean_absolute_percentage_error: 1.1078 - mean_absolute_error: 598.7650 - val_loss: 3457433.6917 - val_mean_absolute_percentage_error: 2.0976 - val_mean_absolute_error: 1142.8153\n",
      "Epoch 171/400\n",
      "30236/30236 [==============================] - 1s 33us/step - loss: 694500.5185 - mean_absolute_percentage_error: 1.0936 - mean_absolute_error: 590.6581 - val_loss: 3420550.4729 - val_mean_absolute_percentage_error: 2.1720 - val_mean_absolute_error: 1163.3719\n",
      "Epoch 172/400\n",
      "30236/30236 [==============================] - 1s 31us/step - loss: 684134.8630 - mean_absolute_percentage_error: 1.0906 - mean_absolute_error: 588.1987 - val_loss: 3209212.6991 - val_mean_absolute_percentage_error: 2.1003 - val_mean_absolute_error: 1140.2996\n",
      "Epoch 173/400\n",
      "30236/30236 [==============================] - 1s 31us/step - loss: 680098.6045 - mean_absolute_percentage_error: 1.0801 - mean_absolute_error: 583.0532 - val_loss: 3605541.4746 - val_mean_absolute_percentage_error: 2.2581 - val_mean_absolute_error: 1218.7580\n",
      "Epoch 174/400\n",
      "30236/30236 [==============================] - 1s 31us/step - loss: 680282.2252 - mean_absolute_percentage_error: 1.0736 - mean_absolute_error: 581.2476 - val_loss: 3301037.6501 - val_mean_absolute_percentage_error: 2.0271 - val_mean_absolute_error: 1100.7345\n",
      "Epoch 175/400\n",
      "30236/30236 [==============================] - 1s 31us/step - loss: 749727.0742 - mean_absolute_percentage_error: 1.1426 - mean_absolute_error: 618.1399 - val_loss: 3321839.2271 - val_mean_absolute_percentage_error: 2.0527 - val_mean_absolute_error: 1111.1796\n",
      "Epoch 176/400\n",
      "30236/30236 [==============================] - 1s 32us/step - loss: 682649.4818 - mean_absolute_percentage_error: 1.0911 - mean_absolute_error: 587.7885 - val_loss: 3288677.6238 - val_mean_absolute_percentage_error: 2.0435 - val_mean_absolute_error: 1106.2791\n",
      "Epoch 177/400\n",
      "30236/30236 [==============================] - 1s 31us/step - loss: 692514.4432 - mean_absolute_percentage_error: 1.0930 - mean_absolute_error: 591.6735 - val_loss: 3431553.2106 - val_mean_absolute_percentage_error: 2.1798 - val_mean_absolute_error: 1176.0548\n",
      "Epoch 178/400\n",
      "30236/30236 [==============================] - 1s 31us/step - loss: 711875.8125 - mean_absolute_percentage_error: 1.1111 - mean_absolute_error: 600.3986 - val_loss: 3280391.3930 - val_mean_absolute_percentage_error: 2.0864 - val_mean_absolute_error: 1127.3454\n",
      "Epoch 179/400\n",
      "30236/30236 [==============================] - 1s 32us/step - loss: 685505.5785 - mean_absolute_percentage_error: 1.0962 - mean_absolute_error: 591.3305 - val_loss: 3357350.6622 - val_mean_absolute_percentage_error: 2.1516 - val_mean_absolute_error: 1157.3789\n"
     ]
    },
    {
     "name": "stdout",
     "output_type": "stream",
     "text": [
      "Epoch 180/400\n",
      "30236/30236 [==============================] - 1s 32us/step - loss: 662658.8946 - mean_absolute_percentage_error: 1.0768 - mean_absolute_error: 581.3772 - val_loss: 3294841.1890 - val_mean_absolute_percentage_error: 2.0691 - val_mean_absolute_error: 1117.9927\n",
      "Epoch 181/400\n",
      "30236/30236 [==============================] - 1s 31us/step - loss: 617025.4505 - mean_absolute_percentage_error: 1.0229 - mean_absolute_error: 553.4687 - val_loss: 3415580.5230 - val_mean_absolute_percentage_error: 2.0804 - val_mean_absolute_error: 1131.9562\n",
      "Epoch 182/400\n",
      "30236/30236 [==============================] - 1s 31us/step - loss: 633149.8051 - mean_absolute_percentage_error: 1.0491 - mean_absolute_error: 566.3333 - val_loss: 3160412.6273 - val_mean_absolute_percentage_error: 1.9968 - val_mean_absolute_error: 1081.6383\n",
      "                         name            layer_dims dropout_rates batchsize  \\\n",
      "0  FFNN_l153*4_d0*4_cmca_norm  [153, 153, 153, 153]  [0, 0, 0, 0]       100   \n",
      "\n",
      "  best_iter     train_mse   train_mae  train_mape      test_mse    test_mae  \\\n",
      "0        32  1.866071e+06  820.853122    1.541233  2.337788e+06  949.485964   \n",
      "\n",
      "   test_mape  \n",
      "0   1.797938  \n"
     ]
    },
    {
     "data": {
      "image/png": "[encoded data removed]",
      "text/plain": [
       "<matplotlib.figure.Figure at 0x7fe78093e0f0>"
      ]
     },
     "metadata": {},
     "output_type": "display_data"
    }
   ],
   "source": [
    "model.main_train(dataset, training_epochs=400, batch_size=100, callbacks=callbacks)"
   ]
  },
  {
   "cell_type": "code",
   "execution_count": 35,
   "metadata": {},
   "outputs": [
    {
     "data": {
      "text/html": [
       "<div>\n",
       "<style scoped>\n",
       "    .dataframe tbody tr th:only-of-type {\n",
       "        vertical-align: middle;\n",
       "    }\n",
       "\n",
       "    .dataframe tbody tr th {\n",
       "        vertical-align: top;\n",
       "    }\n",
       "\n",
       "    .dataframe thead th {\n",
       "        text-align: right;\n",
       "    }\n",
       "</style>\n",
       "<table border=\"1\" class=\"dataframe\">\n",
       "  <thead>\n",
       "    <tr style=\"text-align: right;\">\n",
       "      <th></th>\n",
       "      <th>name</th>\n",
       "      <th>layer_dims</th>\n",
       "      <th>dropout_rates</th>\n",
       "      <th>batchsize</th>\n",
       "      <th>best_iter</th>\n",
       "      <th>train_mse</th>\n",
       "      <th>train_mae</th>\n",
       "      <th>train_mape</th>\n",
       "      <th>test_mse</th>\n",
       "      <th>test_mae</th>\n",
       "      <th>test_mape</th>\n",
       "    </tr>\n",
       "  </thead>\n",
       "  <tbody>\n",
       "    <tr>\n",
       "      <th>0</th>\n",
       "      <td>FFNN_l156*4_d0.2*4_cmcah_norm</td>\n",
       "      <td>[156, 156, 156, 156]</td>\n",
       "      <td>[0.2, 0.2, 0.2, 0.2]</td>\n",
       "      <td>100</td>\n",
       "      <td>205</td>\n",
       "      <td>897875.508784</td>\n",
       "      <td>730.887223</td>\n",
       "      <td>1.344674</td>\n",
       "      <td>1.147955e+06</td>\n",
       "      <td>794.849293</td>\n",
       "      <td>1.474213</td>\n",
       "    </tr>\n",
       "  </tbody>\n",
       "</table>\n",
       "</div>"
      ],
      "text/plain": [
       "                            name            layer_dims         dropout_rates  \\\n",
       "0  FFNN_l156*4_d0.2*4_cmcah_norm  [156, 156, 156, 156]  [0.2, 0.2, 0.2, 0.2]   \n",
       "\n",
       "  batchsize best_iter      train_mse   train_mae  train_mape      test_mse  \\\n",
       "0       100       205  897875.508784  730.887223    1.344674  1.147955e+06   \n",
       "\n",
       "     test_mae  test_mape  \n",
       "0  794.849293   1.474213  "
      ]
     },
     "execution_count": 35,
     "metadata": {},
     "output_type": "execute_result"
    }
   ],
   "source": [
    "model.analyze_history(dataset)"
   ]
  },
  {
   "cell_type": "markdown",
   "metadata": {},
   "source": [
    "### Detection"
   ]
  },
  {
   "cell_type": "code",
   "execution_count": 17,
   "metadata": {},
   "outputs": [],
   "source": [
    "path_model = os.path.join(path_out, name_model, 'models')\n",
    "model.load_model(path_model)"
   ]
  },
  {
   "cell_type": "code",
   "execution_count": 18,
   "metadata": {},
   "outputs": [],
   "source": [
    "y = dataset['test']['y']\n",
    "y_hat = model.model.predict(dataset['test']['x'])"
   ]
  },
  {
   "cell_type": "code",
   "execution_count": 19,
   "metadata": {},
   "outputs": [],
   "source": [
    "residuals_ds = get_residuals(y_obs=y, y_hat=y_hat, ds=dict_ds['test'])"
   ]
  },
  {
   "cell_type": "code",
   "execution_count": 20,
   "metadata": {},
   "outputs": [],
   "source": [
    "detector_ds = get_atypical_score(residuals_ds)"
   ]
  },
  {
   "cell_type": "code",
   "execution_count": 35,
   "metadata": {},
   "outputs": [
    {
     "data": {
      "text/plain": [
       "18.0"
      ]
     },
     "execution_count": 35,
     "metadata": {},
     "output_type": "execute_result"
    }
   ],
   "source": [
    "atypical_ds = get_atypical_event(detector_ds, 0.95)\n",
    "atypical_ds.is_atypical.sum()/24"
   ]
  },
  {
   "cell_type": "markdown",
   "metadata": {},
   "source": [
    "### RM test "
   ]
  },
  {
   "cell_type": "code",
   "execution_count": 48,
   "metadata": {},
   "outputs": [],
   "source": [
    "from sklearn.ensemble import RandomForestRegressor\n",
    "from sklearn.metrics import mean_absolute_error"
   ]
  },
  {
   "cell_type": "code",
   "execution_count": 49,
   "metadata": {},
   "outputs": [
    {
     "data": {
      "text/plain": [
       "RandomForestRegressor(bootstrap=True, criterion='mse', max_depth=None,\n",
       "           max_features='auto', max_leaf_nodes=None,\n",
       "           min_impurity_decrease=0.0, min_impurity_split=None,\n",
       "           min_samples_leaf=1, min_samples_split=2,\n",
       "           min_weight_fraction_leaf=0.0, n_estimators=10, n_jobs=2,\n",
       "           oob_score=False, random_state=None, verbose=0, warm_start=False)"
      ]
     },
     "execution_count": 49,
     "metadata": {},
     "output_type": "execute_result"
    }
   ],
   "source": [
    "rm_model = RandomForestRegressor(max_depth=None, n_jobs = 2)\n",
    "rm_model.fit(dataset['train']['x'],np.array(dataset['train']['y']).ravel())"
   ]
  },
  {
   "cell_type": "code",
   "execution_count": 50,
   "metadata": {},
   "outputs": [
    {
     "data": {
      "text/plain": [
       "351.2840256647706"
      ]
     },
     "execution_count": 50,
     "metadata": {},
     "output_type": "execute_result"
    }
   ],
   "source": [
    "y_hat = rm_model.predict(dataset['train']['x'])\n",
    "mean_absolute_error(dataset['train']['y'], y_hat)"
   ]
  },
  {
   "cell_type": "code",
   "execution_count": 51,
   "metadata": {},
   "outputs": [
    {
     "data": {
      "text/plain": [
       "975.311416828405"
      ]
     },
     "execution_count": 51,
     "metadata": {},
     "output_type": "execute_result"
    }
   ],
   "source": [
    "y_hat = rm_model.predict(dataset['test']['x'])\n",
    "mean_absolute_error(dataset['test']['y'], y_hat)"
   ]
  },
  {
   "cell_type": "code",
   "execution_count": null,
   "metadata": {},
   "outputs": [],
   "source": []
  },
  {
   "cell_type": "code",
   "execution_count": null,
   "metadata": {},
   "outputs": [],
   "source": []
  }
 ],
 "metadata": {
  "kernelspec": {
   "display_name": "Python 3",
   "language": "python",
   "name": "python3"
  },
  "language_info": {
   "codemirror_mode": {
    "name": "ipython",
    "version": 3
   },
   "file_extension": ".py",
   "mimetype": "text/x-python",
   "name": "python",
   "nbconvert_exporter": "python",
   "pygments_lexer": "ipython3",
   "version": "3.5.4"
  }
 },
 "nbformat": 4,
 "nbformat_minor": 2
}
