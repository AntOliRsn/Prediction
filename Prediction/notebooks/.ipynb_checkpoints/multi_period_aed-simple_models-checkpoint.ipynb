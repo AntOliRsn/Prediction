{
 "cells": [
  {
   "cell_type": "markdown",
   "metadata": {},
   "source": [
    "### Load libraries"
   ]
  },
  {
   "cell_type": "code",
   "execution_count": 40,
   "metadata": {},
   "outputs": [],
   "source": [
    "import os\n",
    "import sys\n",
    "import numpy as np\n",
    "import pandas as pd\n",
    "import datetime\n",
    "import time\n",
    "import pickle\n",
    "from matplotlib import pyplot as plt\n",
    "\n",
    "from sklearn import linear_model\n",
    "from sklearn.ensemble import RandomForestRegressor\n",
    "from sklearn.metrics import roc_curve, auc\n",
    "\n",
    "path_main_folder = '/home/antorosi/Documents/Prediction'\n",
    "sys.path.append(path_main_folder)\n",
    "\n",
    "from conso.load_shape_data import load_data_conso, get_uniformed_data_conso, change_granularity, get_x_y_prediction_conso, get_train_test_sets, normalized_dataset, select_variables\n",
    "from aed.detection import get_residuals, get_atypical_score, get_atypical_ds, prediction_conso_plot\n",
    "from aed.atypical_event import AtypicalEvent, AtypicalEventsList, get_atypical_events_list, apply_ael_to_df, get_confusion_matrix\n",
    "from aed.verification import *\n",
    "from aed.multi_period import get_prediction_results, get_aed_results, get_complete_df"
   ]
  },
  {
   "cell_type": "markdown",
   "metadata": {},
   "source": [
    "### Get original data "
   ]
  },
  {
   "cell_type": "code",
   "execution_count": 91,
   "metadata": {},
   "outputs": [],
   "source": [
    "# Load\n",
    "path_data = os.path.join(path_main_folder, 'data')\n",
    "dict_data_conso = load_data_conso(path_data)\n",
    "\n",
    "# Uniformization\n",
    "data_conso_df, dict_colnames_conso = get_uniformed_data_conso(dict_data_conso)\n",
    "\n",
    "# Granularity from 15 min to 1H\n",
    "data_conso_df = change_granularity(data_conso_df, granularity=\"1H\")"
   ]
  },
  {
   "cell_type": "markdown",
   "metadata": {},
   "source": [
    "### Multi period prediction and aed results"
   ]
  },
  {
   "cell_type": "code",
   "execution_count": 92,
   "metadata": {},
   "outputs": [],
   "source": [
    "# model paths\n",
    "path_models_folder = os.path.join(path_main_folder, 'out', 'cv_model_lr_0')\n",
    "name_dict_dataset = 'dict_datasets.pickle'\n",
    "name_model = 'linear regression'\n",
    "#name_model = 'random forest'"
   ]
  },
  {
   "cell_type": "code",
   "execution_count": 93,
   "metadata": {},
   "outputs": [],
   "source": [
    "# get prediction results\n",
    "prediction_results = get_prediction_results(path_models_folder, name_dict_dataset, mode=2, type_model='sklearn')"
   ]
  },
  {
   "cell_type": "code",
   "execution_count": 94,
   "metadata": {},
   "outputs": [
    {
     "data": {
      "text/plain": [
       "dict_keys(['period_4', 'period_5', 'period_3', 'period_1', 'period_2'])"
      ]
     },
     "execution_count": 94,
     "metadata": {},
     "output_type": "execute_result"
    }
   ],
   "source": [
    "prediction_results.keys()"
   ]
  },
  {
   "cell_type": "code",
   "execution_count": 95,
   "metadata": {},
   "outputs": [],
   "source": [
    "# get atypical events info\n",
    "threshold = 0.90\n",
    "aed_results, ael_full_model = get_aed_results(prediction_results, threshold)"
   ]
  },
  {
   "cell_type": "markdown",
   "metadata": {},
   "source": [
    "### Comparing results with reference and getting scores "
   ]
  },
  {
   "cell_type": "code",
   "execution_count": 96,
   "metadata": {},
   "outputs": [],
   "source": [
    "# Loading list\n",
    "path_data = os.path.join(\"/local/home/antorosi/Documents/Prediction/data\")\n",
    "with open(os.path.join(path_data, 'ae_reference_list_wwe_2013-2017' + '.pickle'), 'rb') as f:\n",
    "    ael_reference= pickle.load(f)"
   ]
  },
  {
   "cell_type": "code",
   "execution_count": 97,
   "metadata": {},
   "outputs": [],
   "source": [
    "ael_results = ael_reference.strict_comparison(ael_full_model)"
   ]
  },
  {
   "cell_type": "code",
   "execution_count": 98,
   "metadata": {},
   "outputs": [],
   "source": [
    "nb_events = 1825"
   ]
  },
  {
   "cell_type": "code",
   "execution_count": 99,
   "metadata": {},
   "outputs": [],
   "source": [
    "dict_confusion_matrix = get_confusion_matrix(ael_results, nb_events)"
   ]
  },
  {
   "cell_type": "code",
   "execution_count": 100,
   "metadata": {},
   "outputs": [
    {
     "data": {
      "text/plain": [
       "{'a': 43, 'b': 20, 'c': 3, 'd': 1759}"
      ]
     },
     "execution_count": 100,
     "metadata": {},
     "output_type": "execute_result"
    }
   ],
   "source": [
    "dict_confusion_matrix"
   ]
  },
  {
   "cell_type": "code",
   "execution_count": 101,
   "metadata": {},
   "outputs": [
    {
     "data": {
      "text/plain": [
       "{'csi': 0.6515151515151515,\n",
       " 'f': 0.011242270938729624,\n",
       " 'far': 0.31746031746031744,\n",
       " 'gss': 0.642923982577923,\n",
       " 'h': 0.9347826086956522,\n",
       " 'hss': 0.7826582232600999,\n",
       " 'pc': 0.9873972602739726,\n",
       " 'pss': 0.9235403377569226}"
      ]
     },
     "execution_count": 101,
     "metadata": {},
     "output_type": "execute_result"
    }
   ],
   "source": [
    "get_all_scores(dict_confusion_matrix)"
   ]
  },
  {
   "cell_type": "markdown",
   "metadata": {},
   "source": [
    "### Plotting results "
   ]
  },
  {
   "cell_type": "code",
   "execution_count": 102,
   "metadata": {},
   "outputs": [],
   "source": [
    "# getting complete dataframe\n",
    "atypical_full_df, prediction_full_df = get_complete_df(prediction_results, aed_results)"
   ]
  },
  {
   "cell_type": "code",
   "execution_count": 103,
   "metadata": {},
   "outputs": [],
   "source": [
    "# applying verification to df\n",
    "atypical_full_df = apply_ael_to_df(atypical_full_df, ael_results)"
   ]
  },
  {
   "cell_type": "code",
   "execution_count": 104,
   "metadata": {
    "scrolled": true
   },
   "outputs": [
    {
     "name": "stdout",
     "output_type": "stream",
     "text": [
      "This is the format of your plot grid:\n",
      "[ (1,1) x1,y1 ]\n",
      "[ (2,1) x1,y2 ]\n",
      "[ (3,1) x1,y3 ]\n",
      "[ (4,1) x1,y4 ]\n",
      "\n"
     ]
    },
    {
     "data": {
      "text/plain": [
       "'file:///home/antorosi/Documents/Prediction/out/figures/full_period_lr0_mode2_wwe_t0.90.html'"
      ]
     },
     "execution_count": 104,
     "metadata": {},
     "output_type": "execute_result"
    }
   ],
   "source": [
    "# plotting\n",
    "path_plot = '/home/antorosi/Documents/Prediction/out/figures'\n",
    "name_plot = 'full_period_lr0_mode2_wwe_t0.90.html'\n",
    "\n",
    "prediction_conso_plot(data_conso_df, atypical_full_df, prediction_full_df, dict_colnames_conso, path_plot, name_plot)"
   ]
  },
  {
   "cell_type": "markdown",
   "metadata": {},
   "source": [
    "### Knee technique "
   ]
  },
  {
   "cell_type": "code",
   "execution_count": 67,
   "metadata": {},
   "outputs": [],
   "source": [
    "a_score_df  = atypical_full_df[['a_score','ds']].copy()"
   ]
  },
  {
   "cell_type": "code",
   "execution_count": 68,
   "metadata": {},
   "outputs": [],
   "source": [
    "a_score_df = a_score_df.sort_values('a_score')"
   ]
  },
  {
   "cell_type": "code",
   "execution_count": 69,
   "metadata": {},
   "outputs": [
    {
     "data": {
      "text/plain": [
       "[<matplotlib.lines.Line2D at 0x7fb7be030128>]"
      ]
     },
     "execution_count": 69,
     "metadata": {},
     "output_type": "execute_result"
    },
    {
     "data": {
      "image/png": "[encoded data removed]",
      "text/plain": [
       "<matplotlib.figure.Figure at 0x7fb7be00a898>"
      ]
     },
     "metadata": {},
     "output_type": "display_data"
    }
   ],
   "source": [
    "plt.plot(np.array(a_score_df.a_score))"
   ]
  },
  {
   "cell_type": "markdown",
   "metadata": {},
   "source": [
    "### Wrong results analysis "
   ]
  },
  {
   "cell_type": "code",
   "execution_count": 19,
   "metadata": {},
   "outputs": [],
   "source": [
    "results_df = ael_results.get_events_list().copy()"
   ]
  },
  {
   "cell_type": "code",
   "execution_count": 20,
   "metadata": {},
   "outputs": [],
   "source": [
    "results_df['is_week_day']= np.array(results_df.date_start.dt.dayofweek <5).astype(int)"
   ]
  },
  {
   "cell_type": "code",
   "execution_count": 21,
   "metadata": {},
   "outputs": [
    {
     "name": "stdout",
     "output_type": "stream",
     "text": [
      "holiday day on week end: 0\n",
      "holiday day on week end detected: 0\n"
     ]
    }
   ],
   "source": [
    "# week end\n",
    "\n",
    "mask = (results_df.is_week_day==0) & (results_df.is_atypical==1)\n",
    "nb_tp_we = len(results_df[mask])\n",
    "\n",
    "mask = (results_df.is_week_day==0) & (results_df.is_atypical==-1)\n",
    "nb_fn_we = len(results_df[mask])\n",
    "\n",
    "nb_hd_we = nb_tp_we+nb_fn_we\n",
    "\n",
    "print('holiday day on week end: ' + str(nb_hd_we))\n",
    "print('holiday day on week end detected: ' + str(nb_tp_we))\n"
   ]
  },
  {
   "cell_type": "markdown",
   "metadata": {},
   "source": [
    "##### Get dependance with threshold"
   ]
  },
  {
   "cell_type": "code",
   "execution_count": 70,
   "metadata": {},
   "outputs": [],
   "source": [
    "list_threshold = [0,0.05,0.1,0.2,0.3,0.4,0.5,0.6,0.70, 0.75,0.8,0.85,0.88,0.9,0.92,0.94,0.95,0.96,0.97,0.98,0.99,1]  "
   ]
  },
  {
   "cell_type": "code",
   "execution_count": 71,
   "metadata": {},
   "outputs": [],
   "source": [
    "# initialization\n",
    "threshold = list_threshold[0]\n",
    "aed_results, ael_full_model = get_aed_results(prediction_results, threshold)\n",
    "ael_results = ael_reference.strict_comparison(ael_full_model)\n",
    "dict_confusion_matrix = get_confusion_matrix(ael_results, nb_events)\n",
    "dict_result = get_all_scores(dict_confusion_matrix)\n",
    "\n",
    "results_df = ael_results.get_events_list().copy()\n",
    "results_df['is_week_day']= np.array(results_df.date_start.dt.dayofweek <5).astype(int)\n",
    "mask = (results_df.is_week_day==0) & (results_df.is_atypical==1)\n",
    "nb_tp_we = len(results_df[mask])\n",
    "\n",
    "dict_results = {}\n",
    "dict_results['nb_tp_we'] = [nb_tp_we]\n",
    "for key, value in dict_result.items():\n",
    "    dict_results[key] = [value]\n",
    "\n",
    "# loop\n",
    "for threshold in list_threshold[1:]:\n",
    "    aed_results, ael_full_model = get_aed_results(prediction_results, threshold)\n",
    "    ael_results = ael_reference.strict_comparison(ael_full_model)\n",
    "    dict_confusion_matrix = get_confusion_matrix(ael_results, nb_events)\n",
    "    dict_result = get_all_scores(dict_confusion_matrix)\n",
    "\n",
    "    if threshold == 1:\n",
    "        dict_result['far']=0\n",
    "    \n",
    "    results_df = ael_results.get_events_list().copy()\n",
    "    results_df['is_week_day']= np.array(results_df.date_start.dt.dayofweek <5).astype(int)\n",
    "    mask = (results_df.is_week_day==0) & (results_df.is_atypical==1)\n",
    "    nb_tp_we = len(results_df[mask])\n",
    "\n",
    "    dict_results['nb_tp_we'].append(nb_tp_we)\n",
    "    for key, value in dict_result.items():\n",
    "        dict_results[key].append(value)\n",
    "\n",
    "dict_results['threshold'] = list_threshold"
   ]
  },
  {
   "cell_type": "code",
   "execution_count": 72,
   "metadata": {},
   "outputs": [
    {
     "data": {
      "text/plain": [
       "[0, 0, 0, 0, 0, 0, 0, 0, 0, 0, 0, 0, 0, 0, 0, 0, 0, 0, 0, 0, 0, 0]"
      ]
     },
     "execution_count": 72,
     "metadata": {},
     "output_type": "execute_result"
    }
   ],
   "source": [
    "dict_results['nb_tp_we']"
   ]
  },
  {
   "cell_type": "code",
   "execution_count": 73,
   "metadata": {},
   "outputs": [
    {
     "data": {
      "image/png": "[encoded data removed]",
      "text/plain": [
       "<matplotlib.figure.Figure at 0x7fb7be017518>"
      ]
     },
     "metadata": {},
     "output_type": "display_data"
    }
   ],
   "source": [
    "fig = plt.figure()\n",
    "\n",
    "#plt.plot(dict_results['threshold'],[el/9 for el in dict_results['nb_tp_we']], label=('nb_tp_we'))\n",
    "plt.plot(dict_results['threshold'],dict_results['h'], label='h')\n",
    "plt.plot(dict_results['threshold'],dict_results['far'], label='far')\n",
    "plt.plot(dict_results['threshold'],dict_results['gss'], label='gss')\n",
    "\n",
    "plt.legend()\n",
    "plt.title('scrore evolution with threshold level: ' + name_model)\n",
    "plt.xlabel('threshold level')\n",
    "plt.ylabel('scores level')\n",
    "plt.show()"
   ]
  },
  {
   "cell_type": "code",
   "execution_count": 74,
   "metadata": {},
   "outputs": [],
   "source": [
    "path_plot = '/home/antorosi/Documents/Prediction/out/figures'\n",
    "name_plot = 'Score_evolution_wwe_t_' + name_model + '.png'\n",
    "\n",
    "fig.savefig(os.path.join(path_plot, name_plot))"
   ]
  },
  {
   "cell_type": "code",
   "execution_count": 75,
   "metadata": {},
   "outputs": [],
   "source": [
    " roc_auc = auc(dict_results['f'], dict_results['h'])"
   ]
  },
  {
   "cell_type": "code",
   "execution_count": 76,
   "metadata": {},
   "outputs": [
    {
     "data": {
      "image/png": "[encoded data removed]",
      "text/plain": [
       "<matplotlib.figure.Figure at 0x7fb7bdfea278>"
      ]
     },
     "metadata": {},
     "output_type": "display_data"
    }
   ],
   "source": [
    "fig = plt.figure()\n",
    "lw = 2\n",
    "plt.plot(dict_results['f'], dict_results['h'], color='darkorange',\n",
    "         lw=lw, label='ROC curve (area = %0.2f)' % roc_auc)\n",
    "plt.plot([0, 1], [0, 1], color='navy', lw=lw, linestyle='--')\n",
    "plt.xlim([0.0, 1.0])\n",
    "plt.ylim([0.0, 1.05])\n",
    "plt.xlabel('False Positive Rate')\n",
    "plt.ylabel('True Discovery Rate')\n",
    "plt.title('ROC curve: ' + name_model)\n",
    "plt.legend(loc=\"lower right\")\n",
    "plt.show()"
   ]
  },
  {
   "cell_type": "code",
   "execution_count": 77,
   "metadata": {},
   "outputs": [],
   "source": [
    "path_plot = '/home/antorosi/Documents/Prediction/out/figures'\n",
    "name_plot = 'ROC_wwe_' + name_model + '.png'\n",
    "\n",
    "fig.savefig(os.path.join(path_plot, name_plot))"
   ]
  },
  {
   "cell_type": "code",
   "execution_count": 78,
   "metadata": {},
   "outputs": [],
   "source": [
    "list_threshold = [0.90,0.91,0.92,0.93,0.94, 0.95,0.96,0.97,0.975,0.98,0.982,0.984,0.986,0.988,0.99, 0.992,0.994,0.996,0.998,0.999,1]  \n",
    "dict_results = get_all_scores_multi_t(list_threshold, prediction_results, ael_reference, nb_events)"
   ]
  },
  {
   "cell_type": "code",
   "execution_count": 79,
   "metadata": {},
   "outputs": [
    {
     "data": {
      "image/png": "[encoded data removed]",
      "text/plain": [
       "<matplotlib.figure.Figure at 0x7fb7be017400>"
      ]
     },
     "metadata": {},
     "output_type": "display_data"
    }
   ],
   "source": [
    "fig = plt.figure()\n",
    "\n",
    "#plt.plot(dict_results['threshold'],[el/9 for el in dict_results['nb_tp_we']], label=('nb_tp_we'))\n",
    "plt.plot(dict_results['threshold'],dict_results['h'], label='h')\n",
    "plt.plot(dict_results['threshold'],dict_results['far'], label='far')\n",
    "plt.plot(dict_results['threshold'],dict_results['gss'], label='gss')\n",
    "\n",
    "plt.legend()\n",
    "plt.title('scrores evolution with threshold level: ' + name_model)\n",
    "plt.xlabel('threshold level')\n",
    "plt.ylabel('scores level')\n",
    "plt.show()"
   ]
  },
  {
   "cell_type": "code",
   "execution_count": 80,
   "metadata": {},
   "outputs": [],
   "source": [
    "path_plot = '/home/antorosi/Documents/Prediction/out/figures'\n",
    "name_plot = 'Score_evolution_zoom_wwe_t_' + name_model +'.png'\n",
    "\n",
    "fig.savefig(fname=os.path.join(path_plot, name_plot))"
   ]
  },
  {
   "cell_type": "code",
   "execution_count": 81,
   "metadata": {},
   "outputs": [
    {
     "data": {
      "text/plain": [
       "0.9128368616494131"
      ]
     },
     "execution_count": 81,
     "metadata": {},
     "output_type": "execute_result"
    }
   ],
   "source": [
    "max(dict_results['gss'])"
   ]
  },
  {
   "cell_type": "code",
   "execution_count": null,
   "metadata": {},
   "outputs": [],
   "source": []
  }
 ],
 "metadata": {
  "kernelspec": {
   "display_name": "Python 3",
   "language": "python",
   "name": "python3"
  },
  "language_info": {
   "codemirror_mode": {
    "name": "ipython",
    "version": 3
   },
   "file_extension": ".py",
   "mimetype": "text/x-python",
   "name": "python",
   "nbconvert_exporter": "python",
   "pygments_lexer": "ipython3",
   "version": "3.5.4"
  }
 },
 "nbformat": 4,
 "nbformat_minor": 2
}
