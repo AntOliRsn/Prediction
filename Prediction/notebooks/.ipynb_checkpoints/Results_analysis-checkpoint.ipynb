{
 "cells": [
  {
   "cell_type": "markdown",
   "metadata": {},
   "source": [
    "### Library"
   ]
  },
  {
   "cell_type": "code",
   "execution_count": 33,
   "metadata": {},
   "outputs": [],
   "source": [
    "import numpy as np\n",
    "import pandas as pd\n",
    "import os \n",
    "from matplotlib import pyplot as plt\n"
   ]
  },
  {
   "cell_type": "code",
   "execution_count": 61,
   "metadata": {},
   "outputs": [],
   "source": [
    "main_path = \"/home/antorosi/Documents/Prediction/out\"\n",
    "\n",
    "path_thesis_figures = '/home/antorosi/Documents/Thesis/Figures'"
   ]
  },
  {
   "cell_type": "markdown",
   "metadata": {},
   "source": [
    "### Analyse results"
   ]
  },
  {
   "cell_type": "code",
   "execution_count": 3,
   "metadata": {},
   "outputs": [],
   "source": [
    "name_cv = \"cv_cmca_model_rf_0\""
   ]
  },
  {
   "cell_type": "code",
   "execution_count": 22,
   "metadata": {},
   "outputs": [],
   "source": [
    "def analyse_result_cv(name_cv, verbose = True):\n",
    "    path_result = os.path.join(main_path,name_cv,'cv_results.csv')\n",
    "    df = pd.read_csv(path_result, sep=';')\n",
    "    \n",
    "    df['train_rmse'] = np.sqrt(df['train_mse'])\n",
    "    df['test_rmse'] = np.sqrt(df['test_mse'])\n",
    "    \n",
    "    df = df.sort_values('name')\n",
    "    df = df.reset_index(drop=True)\n",
    "    \n",
    "    mask = [x for x in df.columns if x.startswith(tuple(['train', 'test']))]\n",
    "    df_metrics = df[mask]\n",
    "    \n",
    "    mean_metric = df_metrics.apply(np.mean, axis=0)\n",
    "    \n",
    "    if verbose:\n",
    "        print(df)\n",
    "        print(mean_metric)\n",
    "        \n",
    "    return df, mean_metric"
   ]
  },
  {
   "cell_type": "code",
   "execution_count": null,
   "metadata": {},
   "outputs": [],
   "source": [
    "a,b = analyse_result_cv(name_cv)"
   ]
  },
  {
   "cell_type": "code",
   "execution_count": 48,
   "metadata": {},
   "outputs": [],
   "source": [
    "name_dict ={'LR': 'cv_model_lr_0','RF' : \"cv_cmca_model_rf_0\", 'FFNN':'cv_model_1.2'}\n",
    "dic_result = {}\n",
    "\n",
    "for name, name_cv in name_dict.items():\n",
    "    dic_result[name] = analyse_result_cv(name_cv, verbose=False)"
   ]
  },
  {
   "cell_type": "code",
   "execution_count": 32,
   "metadata": {},
   "outputs": [
    {
     "data": {
      "text/html": [
       "<div>\n",
       "<style scoped>\n",
       "    .dataframe tbody tr th:only-of-type {\n",
       "        vertical-align: middle;\n",
       "    }\n",
       "\n",
       "    .dataframe tbody tr th {\n",
       "        vertical-align: top;\n",
       "    }\n",
       "\n",
       "    .dataframe thead th {\n",
       "        text-align: right;\n",
       "    }\n",
       "</style>\n",
       "<table border=\"1\" class=\"dataframe\">\n",
       "  <thead>\n",
       "    <tr style=\"text-align: right;\">\n",
       "      <th></th>\n",
       "      <th>w</th>\n",
       "      <th>name</th>\n",
       "      <th>layer_dims</th>\n",
       "      <th>dropout_rates</th>\n",
       "      <th>batchsize</th>\n",
       "      <th>best_iter</th>\n",
       "      <th>train_mse</th>\n",
       "      <th>train_mae</th>\n",
       "      <th>train_mape</th>\n",
       "      <th>test_mse</th>\n",
       "      <th>test_mae</th>\n",
       "      <th>test_mape</th>\n",
       "      <th>train_rmse</th>\n",
       "      <th>test_rmse</th>\n",
       "    </tr>\n",
       "  </thead>\n",
       "  <tbody>\n",
       "    <tr>\n",
       "      <th>0</th>\n",
       "      <td>0</td>\n",
       "      <td>period_1_FFNN_l170*2_d0.1*2_cmca_norm</td>\n",
       "      <td>[170, 170]</td>\n",
       "      <td>[0.1, 0.1]</td>\n",
       "      <td>100</td>\n",
       "      <td>235</td>\n",
       "      <td>1.722220e+06</td>\n",
       "      <td>780.838813</td>\n",
       "      <td>1.491638</td>\n",
       "      <td>2.499166e+06</td>\n",
       "      <td>941.328167</td>\n",
       "      <td>1.723141</td>\n",
       "      <td>1312.333631</td>\n",
       "      <td>1580.875217</td>\n",
       "    </tr>\n",
       "    <tr>\n",
       "      <th>1</th>\n",
       "      <td>1</td>\n",
       "      <td>period_2_FFNN_l170*2_d0.1*2_cmca_norm</td>\n",
       "      <td>[170, 170]</td>\n",
       "      <td>[0.1, 0.1]</td>\n",
       "      <td>100</td>\n",
       "      <td>398</td>\n",
       "      <td>1.687088e+06</td>\n",
       "      <td>774.696613</td>\n",
       "      <td>1.456643</td>\n",
       "      <td>2.423078e+06</td>\n",
       "      <td>894.564741</td>\n",
       "      <td>1.757580</td>\n",
       "      <td>1298.879684</td>\n",
       "      <td>1556.624041</td>\n",
       "    </tr>\n",
       "    <tr>\n",
       "      <th>2</th>\n",
       "      <td>2</td>\n",
       "      <td>period_3_FFNN_l170*2_d0.1*2_cmca_norm</td>\n",
       "      <td>[170, 170]</td>\n",
       "      <td>[0.1, 0.1]</td>\n",
       "      <td>100</td>\n",
       "      <td>213</td>\n",
       "      <td>1.929000e+06</td>\n",
       "      <td>832.733501</td>\n",
       "      <td>1.566396</td>\n",
       "      <td>2.200628e+06</td>\n",
       "      <td>885.458253</td>\n",
       "      <td>1.692989</td>\n",
       "      <td>1388.884440</td>\n",
       "      <td>1483.451503</td>\n",
       "    </tr>\n",
       "    <tr>\n",
       "      <th>3</th>\n",
       "      <td>4</td>\n",
       "      <td>period_4_FFNN_l170*2_d0.1*2_cmca_norm</td>\n",
       "      <td>[170, 170]</td>\n",
       "      <td>[0.1, 0.1]</td>\n",
       "      <td>100</td>\n",
       "      <td>166</td>\n",
       "      <td>1.975399e+06</td>\n",
       "      <td>823.688579</td>\n",
       "      <td>1.558714</td>\n",
       "      <td>1.946351e+06</td>\n",
       "      <td>841.047981</td>\n",
       "      <td>1.561815</td>\n",
       "      <td>1405.488726</td>\n",
       "      <td>1395.116790</td>\n",
       "    </tr>\n",
       "    <tr>\n",
       "      <th>4</th>\n",
       "      <td>3</td>\n",
       "      <td>period_5_FFNN_l170*2_d0.1*2_cmca_norm</td>\n",
       "      <td>[170, 170]</td>\n",
       "      <td>[0.1, 0.1]</td>\n",
       "      <td>100</td>\n",
       "      <td>383</td>\n",
       "      <td>1.744182e+06</td>\n",
       "      <td>785.445751</td>\n",
       "      <td>1.479117</td>\n",
       "      <td>2.072507e+06</td>\n",
       "      <td>872.456129</td>\n",
       "      <td>1.650780</td>\n",
       "      <td>1320.674780</td>\n",
       "      <td>1439.620391</td>\n",
       "    </tr>\n",
       "  </tbody>\n",
       "</table>\n",
       "</div>"
      ],
      "text/plain": [
       "   w                                   name  layer_dims dropout_rates  \\\n",
       "0  0  period_1_FFNN_l170*2_d0.1*2_cmca_norm  [170, 170]    [0.1, 0.1]   \n",
       "1  1  period_2_FFNN_l170*2_d0.1*2_cmca_norm  [170, 170]    [0.1, 0.1]   \n",
       "2  2  period_3_FFNN_l170*2_d0.1*2_cmca_norm  [170, 170]    [0.1, 0.1]   \n",
       "3  4  period_4_FFNN_l170*2_d0.1*2_cmca_norm  [170, 170]    [0.1, 0.1]   \n",
       "4  3  period_5_FFNN_l170*2_d0.1*2_cmca_norm  [170, 170]    [0.1, 0.1]   \n",
       "\n",
       "   batchsize  best_iter     train_mse   train_mae  train_mape      test_mse  \\\n",
       "0        100        235  1.722220e+06  780.838813    1.491638  2.499166e+06   \n",
       "1        100        398  1.687088e+06  774.696613    1.456643  2.423078e+06   \n",
       "2        100        213  1.929000e+06  832.733501    1.566396  2.200628e+06   \n",
       "3        100        166  1.975399e+06  823.688579    1.558714  1.946351e+06   \n",
       "4        100        383  1.744182e+06  785.445751    1.479117  2.072507e+06   \n",
       "\n",
       "     test_mae  test_mape   train_rmse    test_rmse  \n",
       "0  941.328167   1.723141  1312.333631  1580.875217  \n",
       "1  894.564741   1.757580  1298.879684  1556.624041  \n",
       "2  885.458253   1.692989  1388.884440  1483.451503  \n",
       "3  841.047981   1.561815  1405.488726  1395.116790  \n",
       "4  872.456129   1.650780  1320.674780  1439.620391  "
      ]
     },
     "execution_count": 32,
     "metadata": {},
     "output_type": "execute_result"
    }
   ],
   "source": [
    "dic_result['FFNN'][0]"
   ]
  },
  {
   "cell_type": "code",
   "execution_count": null,
   "metadata": {},
   "outputs": [],
   "source": [
    "x = [datetime.datetime(2011, 1, 4, 0, 0),\n",
    "     datetime.datetime(2011, 1, 5, 0, 0),\n",
    "     datetime.datetime(2011, 1, 6, 0, 0)]\n",
    "x = date2num(x)\n",
    "\n",
    "y = [4, 9, 2]\n",
    "z=[1,2,3]\n",
    "k=[11,12,13]\n",
    "\n",
    "ax = plt.subplot(111)\n",
    "ax.bar(x-0.2, y,width=0.2,color='b',align='center')\n",
    "ax.bar(x, z,width=0.2,color='g',align='center')\n",
    "ax.bar(x+0.2, k,width=0.2,color='r',align='center')\n",
    "ax.xaxis_date()\n",
    "\n",
    "plt.show()\n",
    "\n",
    "enter image description here"
   ]
  },
  {
   "cell_type": "code",
   "execution_count": 34,
   "metadata": {},
   "outputs": [],
   "source": [
    "result_df = dic_result['FFNN'][0]"
   ]
  },
  {
   "cell_type": "code",
   "execution_count": 36,
   "metadata": {},
   "outputs": [],
   "source": [
    "y = result_df['test_mape']"
   ]
  },
  {
   "cell_type": "code",
   "execution_count": 111,
   "metadata": {},
   "outputs": [
    {
     "data": {
      "text/plain": [
       "[]"
      ]
     },
     "execution_count": 111,
     "metadata": {},
     "output_type": "execute_result"
    },
    {
     "data": {
      "image/png": "[encoded data removed]",
      "text/plain": [
       "<matplotlib.figure.Figure at 0x7f7c508cef60>"
      ]
     },
     "metadata": {},
     "output_type": "display_data"
    }
   ],
   "source": [
    "metric_name = 'test_mape'\n",
    "x = np.array([0,1,2,3,4])\n",
    "\n",
    "fig, ax = plt.subplots(figsize=(8,5))\n",
    "decay = -0.2\n",
    "\n",
    "name = 'LR'\n",
    "result_df = dic_result[name][0]\n",
    "y = result_df[metric_name]\n",
    "ax.bar(x+decay,y,width=0.2,align='center',label=name)\n",
    "decay += 0.2\n",
    "\n",
    "name = 'RF'\n",
    "result_df = dic_result[name][0]\n",
    "y = result_df[metric_name]\n",
    "ax.bar(x+decay,y,width=0.2,align='center', color = 'C2', label=name)\n",
    "decay += 0.2\n",
    "\n",
    "name = 'FFNN'\n",
    "result_df = dic_result[name][0]\n",
    "y = result_df[metric_name]\n",
    "ax.bar(x+decay,y,width=0.2,align='center', label=name)\n",
    "decay += 0.2\n",
    "\n",
    "ax.set_xticklabels([2012, 2013,2014,2015,2016,2017])\n",
    "\n",
    "plt.xlabel('Year', size = 14)\n",
    "plt.ylabel('MAPE [%]', size = 14)\n",
    "    \n",
    "plt.legend()\n",
    "\n",
    "name = 'models_yearly_{}'.format(metric_name)\n",
    "plt.savefig(os.path.join(path_thesis_figures, name + '.png'))\n",
    "plt.savefig(os.path.join(path_thesis_figures, name + '.pdf'))\n",
    "plt.plot()"
   ]
  },
  {
   "cell_type": "code",
   "execution_count": 70,
   "metadata": {},
   "outputs": [],
   "source": [
    "metric_name = 'mape'\n",
    "train_error = []\n",
    "test_error = []\n",
    "\n",
    "for name in ['LR', 'RF', 'FFNN']:\n",
    "    result_df = dic_result[name][1]\n",
    "    train_error.append(result_df['train_' + metric_name])\n",
    "    test_error.append(result_df['test_' + metric_name])"
   ]
  },
  {
   "cell_type": "code",
   "execution_count": 110,
   "metadata": {},
   "outputs": [
    {
     "data": {
      "text/plain": [
       "[]"
      ]
     },
     "execution_count": 110,
     "metadata": {},
     "output_type": "execute_result"
    },
    {
     "data": {
      "image/png": "[encoded data removed]",
      "text/plain": [
       "<matplotlib.figure.Figure at 0x7f7c51417208>"
      ]
     },
     "metadata": {},
     "output_type": "display_data"
    }
   ],
   "source": [
    "metric_name = 'mape'\n",
    "width=0.3\n",
    "x = np.array([0,1,2])\n",
    "\n",
    "fig, ax = plt.subplots(figsize=(8,5))\n",
    "\n",
    "ax1 = ax.bar(x,train_error,width=width,label='Average train error')\n",
    "ax2 = ax.bar(x+width,test_error,width=width,label='Average test error')\n",
    "\n",
    "ax.set_xticks(x + width / 2)\n",
    "ax.set_xticklabels(['LR','RF', 'FFNN'])\n",
    "    \n",
    "    \n",
    "plt.xlabel('Type of model', size = 14)\n",
    "plt.ylabel('MAPE [%]', size = 14)\n",
    "\n",
    "\n",
    "def autolabel(rects):\n",
    "    \"\"\"\n",
    "    Attach a text label above each bar displaying its height\n",
    "    \"\"\"\n",
    "    for rect in rects:\n",
    "        height = rect.get_height()\n",
    "        ax.text(rect.get_x() + rect.get_width()/2., 1.005*height,\n",
    "                '%0.2f' % height,\n",
    "                ha='center', va='bottom')\n",
    "\n",
    "autolabel(ax1)\n",
    "autolabel(ax2)\n",
    "\n",
    "\n",
    "plt.legend()\n",
    "\n",
    "name = 'models_error_comparison_{}'.format(metric_name)\n",
    "plt.savefig(os.path.join(path_thesis_figures, name + '.png'))\n",
    "plt.savefig(os.path.join(path_thesis_figures, name + '.pdf'))\n",
    "plt.plot()"
   ]
  },
  {
   "cell_type": "code",
   "execution_count": null,
   "metadata": {},
   "outputs": [],
   "source": []
  },
  {
   "cell_type": "code",
   "execution_count": null,
   "metadata": {},
   "outputs": [],
   "source": []
  },
  {
   "cell_type": "code",
   "execution_count": null,
   "metadata": {},
   "outputs": [],
   "source": []
  }
 ],
 "metadata": {
  "kernelspec": {
   "display_name": "Python 3",
   "language": "python",
   "name": "python3"
  },
  "language_info": {
   "codemirror_mode": {
    "name": "ipython",
    "version": 3
   },
   "file_extension": ".py",
   "mimetype": "text/x-python",
   "name": "python",
   "nbconvert_exporter": "python",
   "pygments_lexer": "ipython3",
   "version": "3.5.4"
  }
 },
 "nbformat": 4,
 "nbformat_minor": 2
}
