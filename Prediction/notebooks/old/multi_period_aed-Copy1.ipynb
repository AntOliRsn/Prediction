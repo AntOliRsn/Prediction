{
 "cells": [
  {
   "cell_type": "markdown",
   "metadata": {},
   "source": [
    "### Load libraries"
   ]
  },
  {
   "cell_type": "code",
   "execution_count": 1,
   "metadata": {},
   "outputs": [
    {
     "name": "stderr",
     "output_type": "stream",
     "text": [
      "/local/home/antorosi/PycharmProjects/KERAS-TS-VENV/lib/python3.5/site-packages/h5py/__init__.py:36: FutureWarning: Conversion of the second argument of issubdtype from `float` to `np.floating` is deprecated. In future, it will be treated as `np.float64 == np.dtype(float).type`.\n",
      "  from ._conv import register_converters as _register_converters\n",
      "Using TensorFlow backend.\n"
     ]
    }
   ],
   "source": [
    "import os\n",
    "import sys\n",
    "import numpy as np\n",
    "import pandas as pd\n",
    "import datetime\n",
    "import time\n",
    "import pickle\n",
    "\n",
    "from keras.callbacks import TensorBoard, ModelCheckpoint, EarlyStopping\n",
    "from keras.models import load_model\n",
    "\n",
    "path_main_folder = '/home/antorosi/Documents/Prediction'\n",
    "sys.path.append(path_main_folder)\n",
    "\n",
    "from conso.load_shape_data import load_data_conso, get_uniformed_data_conso, change_granularity, get_x_y_prediction_conso, get_train_test_sets, normalized_dataset, select_variables\n",
    "from models.feedforward_NN import FeedForward\n",
    "from aed.detection import get_residuals, get_atypical_score, get_atypical_ds, prediction_conso_plot\n",
    "from aed.atypical_event import AtypicalEvent, AtypicalEventsList, get_atypical_events_list, apply_ael_to_df, get_confusion_matrix\n",
    "from aed.verification import *\n",
    "from aed.multi_period import get_prediction_results, get_aed_results, get_complete_df"
   ]
  },
  {
   "cell_type": "markdown",
   "metadata": {},
   "source": [
    "### Get original data "
   ]
  },
  {
   "cell_type": "code",
   "execution_count": 18,
   "metadata": {},
   "outputs": [],
   "source": [
    "# Load\n",
    "path_data = os.path.join(path_main_folder, 'data')\n",
    "dict_data_conso = load_data_conso(path_data)\n",
    "\n",
    "# Uniformization\n",
    "data_conso_df, dict_colnames_conso = get_uniformed_data_conso(dict_data_conso)\n",
    "\n",
    "# Granularity from 15 min to 1H\n",
    "data_conso_df = change_granularity(data_conso_df, granularity=\"1H\")"
   ]
  },
  {
   "cell_type": "markdown",
   "metadata": {},
   "source": [
    "### Multi period model characteristics"
   ]
  },
  {
   "cell_type": "code",
   "execution_count": 4,
   "metadata": {},
   "outputs": [],
   "source": [
    "path_models_folder = os.path.join(path_main_folder, 'out', 'cv_model_0')\n",
    "name_dict_dataset = 'dict_datasets.pickle'"
   ]
  },
  {
   "cell_type": "code",
   "execution_count": 5,
   "metadata": {},
   "outputs": [],
   "source": [
    "with open(os.path.join(path_models_folder, name_dict_dataset), 'rb') as f:\n",
    "    dict_datasets = pickle.load(f)"
   ]
  },
  {
   "cell_type": "code",
   "execution_count": 6,
   "metadata": {},
   "outputs": [],
   "source": [
    "list_models_folder = [el for el in os.listdir(path_models_folder) if el.startswith(tuple(dict_datasets.keys()))]\n",
    "\n",
    "assert len(list_models_folder) == len(dict_datasets.keys())"
   ]
  },
  {
   "cell_type": "markdown",
   "metadata": {},
   "source": [
    "### Get predictions for each period "
   ]
  },
  {
   "cell_type": "code",
   "execution_count": 7,
   "metadata": {},
   "outputs": [],
   "source": [
    "prediction_results = {}\n",
    "\n",
    "for name_period in dict_datasets.keys():\n",
    "    name_model_folder = [el for el in list_models_folder if el.startswith(name_period)][0]\n",
    "\n",
    "    model = load_model(os.path.join(path_models_folder,name_model_folder,'models','model-best.hdf5'))\n",
    "\n",
    "    y = dict_datasets[name_period]['dataset']['test']['y']\n",
    "    y_hat = model.predict(dict_datasets[name_period]['dataset']['test']['x'])\n",
    "    \n",
    "    prediction_df = pd.DataFrame({'ds': dict_datasets[name_period]['dict_ds']['test'], 'prediction':y_hat.flatten()})\n",
    "    residuals_df = get_residuals(y_obs=y, y_hat=y_hat, ds=dict_datasets[name_period]['dict_ds']['test'])\n",
    "    detector_df = get_atypical_score(residuals_df, mode=2)\n",
    "\n",
    "    prediction_results[name_period] = {'detector_df': detector_df, 'prediction_df': prediction_df}"
   ]
  },
  {
   "cell_type": "markdown",
   "metadata": {},
   "source": [
    "### Get atypical events for each periods and a given threshold"
   ]
  },
  {
   "cell_type": "code",
   "execution_count": 8,
   "metadata": {},
   "outputs": [],
   "source": [
    "threshold = 0.98\n",
    "aed_results = {}"
   ]
  },
  {
   "cell_type": "code",
   "execution_count": 9,
   "metadata": {},
   "outputs": [],
   "source": [
    "for name_period, el in prediction_results.items():\n",
    "    detector_df = el['detector_df']\n",
    "    \n",
    "    atypical_df = get_atypical_ds(detector_df, threshold)\n",
    "    events_list_model = get_atypical_events_list(atypical_df, atypical_name = name_period)\n",
    "    \n",
    "    aed_results[name_period] = {'atypical_df': atypical_df, 'ael_model': events_list_model}"
   ]
  },
  {
   "cell_type": "code",
   "execution_count": 10,
   "metadata": {},
   "outputs": [],
   "source": [
    "# get full ae list\n",
    "ael_full_model = AtypicalEventsList()\n",
    "\n",
    "for name_period, el in aed_results.items():\n",
    "    ael_model = el['ael_model']\n",
    "    ael_full_model = ael_full_model.get_union(ael_model)"
   ]
  },
  {
   "cell_type": "markdown",
   "metadata": {},
   "source": [
    "### Comparing results with reference"
   ]
  },
  {
   "cell_type": "code",
   "execution_count": 11,
   "metadata": {},
   "outputs": [],
   "source": [
    "# Loading list\n",
    "path_data = os.path.join(\"/local/home/antorosi/Documents/Prediction/data\")\n",
    "with open(os.path.join(path_data, 'ae_reference_list_2013-2016' + '.pickle'), 'rb') as f:\n",
    "    ael_reference= pickle.load(f)"
   ]
  },
  {
   "cell_type": "code",
   "execution_count": 12,
   "metadata": {},
   "outputs": [],
   "source": [
    "ael_results = ael_reference.strict_comparison(ael_full_model)"
   ]
  },
  {
   "cell_type": "code",
   "execution_count": 13,
   "metadata": {},
   "outputs": [],
   "source": [
    "nb_events = 1461"
   ]
  },
  {
   "cell_type": "code",
   "execution_count": 14,
   "metadata": {},
   "outputs": [],
   "source": [
    "dict_confusion_matrix = get_confusion_matrix(ael_results, nb_events)"
   ]
  },
  {
   "cell_type": "code",
   "execution_count": 15,
   "metadata": {},
   "outputs": [
    {
     "data": {
      "text/plain": [
       "{'a': 36, 'b': 9, 'c': 8, 'd': 1408}"
      ]
     },
     "execution_count": 15,
     "metadata": {},
     "output_type": "execute_result"
    }
   ],
   "source": [
    "dict_confusion_matrix"
   ]
  },
  {
   "cell_type": "code",
   "execution_count": 16,
   "metadata": {},
   "outputs": [
    {
     "data": {
      "text/plain": [
       "{'csi': 0.6792452830188679,\n",
       " 'f': 0.006351446718419196,\n",
       " 'far': 0.2,\n",
       " 'gss': 0.6708281976859767,\n",
       " 'h': 0.8181818181818182,\n",
       " 'hss': 0.8029888394450664,\n",
       " 'pc': 0.9883641341546886,\n",
       " 'pss': 0.811830371463399}"
      ]
     },
     "execution_count": 16,
     "metadata": {},
     "output_type": "execute_result"
    }
   ],
   "source": [
    "get_all_scores(dict_confusion_matrix)"
   ]
  },
  {
   "cell_type": "markdown",
   "metadata": {},
   "source": [
    "### Plotting results "
   ]
  },
  {
   "cell_type": "code",
   "execution_count": 17,
   "metadata": {},
   "outputs": [],
   "source": [
    "atypical_full_df = pd.DataFrame()\n",
    "prediction_full_df = pd.DataFrame()\n",
    "\n",
    "for name_period in prediction_results.keys():\n",
    "    atypical_full_df = atypical_full_df.append(aed_results[name_period]['atypical_df'], ignore_index=True)\n",
    "    prediction_full_df = prediction_full_df.append(prediction_results[name_period]['prediction_df'], ignore_index=True)\n",
    "    \n",
    "prediction_full_df = prediction_full_df.sort_values(by ='ds', axis=0)\n",
    "atypical_full_df = atypical_full_df.sort_values(by ='ds', axis=0)\n",
    "\n",
    "prediction_full_df = prediction_full_df.reset_index(drop=True)\n",
    "atypical_full_df = atypical_full_df.reset_index(drop=True)"
   ]
  },
  {
   "cell_type": "code",
   "execution_count": 18,
   "metadata": {},
   "outputs": [],
   "source": [
    "atypical_full_df = apply_ael_to_df(atypical_full_df, ael_results)"
   ]
  },
  {
   "cell_type": "code",
   "execution_count": 19,
   "metadata": {
    "scrolled": true
   },
   "outputs": [
    {
     "name": "stdout",
     "output_type": "stream",
     "text": [
      "This is the format of your plot grid:\n",
      "[ (1,1) x1,y1 ]\n",
      "[ (2,1) x1,y2 ]\n",
      "[ (3,1) x1,y3 ]\n",
      "[ (4,1) x1,y4 ]\n",
      "\n"
     ]
    },
    {
     "name": "stderr",
     "output_type": "stream",
     "text": [
      "/local/home/antorosi/PycharmProjects/KERAS-TS-VENV/lib/python3.5/site-packages/plotly/offline/offline.py:459: UserWarning:\n",
      "\n",
      "Your filename `/home/antorosi/Documents/Prediction/out/figures/full_period_mode2` didn't end with .html. Adding .html to the end of your file.\n",
      "\n"
     ]
    },
    {
     "data": {
      "text/plain": [
       "'file:///home/antorosi/Documents/Prediction/out/figures/full_period_mode2.html'"
      ]
     },
     "execution_count": 19,
     "metadata": {},
     "output_type": "execute_result"
    }
   ],
   "source": [
    "path_plot = '/home/antorosi/Documents/Prediction/out/figures'\n",
    "name_plot = 'full_period_mode2'\n",
    "\n",
    "prediction_conso_plot(data_conso_df, atypical_full_df, prediction_full_df, dict_colnames_conso, path_plot, name_plot)"
   ]
  },
  {
   "cell_type": "code",
   "execution_count": 22,
   "metadata": {},
   "outputs": [
    {
     "data": {
      "text/html": [
       "<div>\n",
       "<style scoped>\n",
       "    .dataframe tbody tr th:only-of-type {\n",
       "        vertical-align: middle;\n",
       "    }\n",
       "\n",
       "    .dataframe tbody tr th {\n",
       "        vertical-align: top;\n",
       "    }\n",
       "\n",
       "    .dataframe thead th {\n",
       "        text-align: right;\n",
       "    }\n",
       "</style>\n",
       "<table border=\"1\" class=\"dataframe\">\n",
       "  <thead>\n",
       "    <tr style=\"text-align: right;\">\n",
       "      <th></th>\n",
       "      <th>ds</th>\n",
       "      <th>residuals</th>\n",
       "      <th>a_score</th>\n",
       "      <th>is_atypical</th>\n",
       "    </tr>\n",
       "  </thead>\n",
       "  <tbody>\n",
       "    <tr>\n",
       "      <th>0</th>\n",
       "      <td>2013-01-01 00:00:00</td>\n",
       "      <td>283.949219</td>\n",
       "      <td>1.000000</td>\n",
       "      <td>1.0</td>\n",
       "    </tr>\n",
       "    <tr>\n",
       "      <th>1</th>\n",
       "      <td>2013-01-01 01:00:00</td>\n",
       "      <td>1347.460938</td>\n",
       "      <td>1.000000</td>\n",
       "      <td>1.0</td>\n",
       "    </tr>\n",
       "    <tr>\n",
       "      <th>2</th>\n",
       "      <td>2013-01-01 02:00:00</td>\n",
       "      <td>1432.312500</td>\n",
       "      <td>1.000000</td>\n",
       "      <td>1.0</td>\n",
       "    </tr>\n",
       "    <tr>\n",
       "      <th>3</th>\n",
       "      <td>2013-01-01 03:00:00</td>\n",
       "      <td>1075.046875</td>\n",
       "      <td>1.000000</td>\n",
       "      <td>1.0</td>\n",
       "    </tr>\n",
       "    <tr>\n",
       "      <th>4</th>\n",
       "      <td>2013-01-01 04:00:00</td>\n",
       "      <td>-487.402344</td>\n",
       "      <td>1.000000</td>\n",
       "      <td>1.0</td>\n",
       "    </tr>\n",
       "    <tr>\n",
       "      <th>5</th>\n",
       "      <td>2013-01-01 05:00:00</td>\n",
       "      <td>-1656.550781</td>\n",
       "      <td>1.000000</td>\n",
       "      <td>1.0</td>\n",
       "    </tr>\n",
       "    <tr>\n",
       "      <th>6</th>\n",
       "      <td>2013-01-01 06:00:00</td>\n",
       "      <td>-4516.027344</td>\n",
       "      <td>1.000000</td>\n",
       "      <td>1.0</td>\n",
       "    </tr>\n",
       "    <tr>\n",
       "      <th>7</th>\n",
       "      <td>2013-01-01 07:00:00</td>\n",
       "      <td>-8402.371094</td>\n",
       "      <td>1.000000</td>\n",
       "      <td>1.0</td>\n",
       "    </tr>\n",
       "    <tr>\n",
       "      <th>8</th>\n",
       "      <td>2013-01-01 08:00:00</td>\n",
       "      <td>-12562.980469</td>\n",
       "      <td>1.000000</td>\n",
       "      <td>1.0</td>\n",
       "    </tr>\n",
       "    <tr>\n",
       "      <th>9</th>\n",
       "      <td>2013-01-01 09:00:00</td>\n",
       "      <td>-14892.628906</td>\n",
       "      <td>1.000000</td>\n",
       "      <td>1.0</td>\n",
       "    </tr>\n",
       "    <tr>\n",
       "      <th>10</th>\n",
       "      <td>2013-01-01 10:00:00</td>\n",
       "      <td>-14344.867188</td>\n",
       "      <td>1.000000</td>\n",
       "      <td>1.0</td>\n",
       "    </tr>\n",
       "    <tr>\n",
       "      <th>11</th>\n",
       "      <td>2013-01-01 11:00:00</td>\n",
       "      <td>-12934.011719</td>\n",
       "      <td>1.000000</td>\n",
       "      <td>1.0</td>\n",
       "    </tr>\n",
       "    <tr>\n",
       "      <th>12</th>\n",
       "      <td>2013-01-01 12:00:00</td>\n",
       "      <td>-11871.250000</td>\n",
       "      <td>1.000000</td>\n",
       "      <td>1.0</td>\n",
       "    </tr>\n",
       "    <tr>\n",
       "      <th>13</th>\n",
       "      <td>2013-01-01 13:00:00</td>\n",
       "      <td>-10205.882812</td>\n",
       "      <td>1.000000</td>\n",
       "      <td>1.0</td>\n",
       "    </tr>\n",
       "    <tr>\n",
       "      <th>14</th>\n",
       "      <td>2013-01-01 14:00:00</td>\n",
       "      <td>-11014.777344</td>\n",
       "      <td>1.000000</td>\n",
       "      <td>1.0</td>\n",
       "    </tr>\n",
       "    <tr>\n",
       "      <th>15</th>\n",
       "      <td>2013-01-01 15:00:00</td>\n",
       "      <td>-11165.746094</td>\n",
       "      <td>1.000000</td>\n",
       "      <td>1.0</td>\n",
       "    </tr>\n",
       "    <tr>\n",
       "      <th>16</th>\n",
       "      <td>2013-01-01 16:00:00</td>\n",
       "      <td>-10516.480469</td>\n",
       "      <td>1.000000</td>\n",
       "      <td>1.0</td>\n",
       "    </tr>\n",
       "    <tr>\n",
       "      <th>17</th>\n",
       "      <td>2013-01-01 17:00:00</td>\n",
       "      <td>-10174.472656</td>\n",
       "      <td>1.000000</td>\n",
       "      <td>1.0</td>\n",
       "    </tr>\n",
       "    <tr>\n",
       "      <th>18</th>\n",
       "      <td>2013-01-01 18:00:00</td>\n",
       "      <td>-9210.367188</td>\n",
       "      <td>1.000000</td>\n",
       "      <td>1.0</td>\n",
       "    </tr>\n",
       "    <tr>\n",
       "      <th>19</th>\n",
       "      <td>2013-01-01 19:00:00</td>\n",
       "      <td>-8712.960938</td>\n",
       "      <td>1.000000</td>\n",
       "      <td>1.0</td>\n",
       "    </tr>\n",
       "    <tr>\n",
       "      <th>20</th>\n",
       "      <td>2013-01-01 20:00:00</td>\n",
       "      <td>-5835.531250</td>\n",
       "      <td>1.000000</td>\n",
       "      <td>1.0</td>\n",
       "    </tr>\n",
       "    <tr>\n",
       "      <th>21</th>\n",
       "      <td>2013-01-01 21:00:00</td>\n",
       "      <td>-3987.367188</td>\n",
       "      <td>1.000000</td>\n",
       "      <td>1.0</td>\n",
       "    </tr>\n",
       "    <tr>\n",
       "      <th>22</th>\n",
       "      <td>2013-01-01 22:00:00</td>\n",
       "      <td>-3673.226562</td>\n",
       "      <td>1.000000</td>\n",
       "      <td>1.0</td>\n",
       "    </tr>\n",
       "    <tr>\n",
       "      <th>23</th>\n",
       "      <td>2013-01-01 23:00:00</td>\n",
       "      <td>-3748.285156</td>\n",
       "      <td>1.000000</td>\n",
       "      <td>1.0</td>\n",
       "    </tr>\n",
       "    <tr>\n",
       "      <th>24</th>\n",
       "      <td>2013-01-02 00:00:00</td>\n",
       "      <td>-3927.203125</td>\n",
       "      <td>0.994096</td>\n",
       "      <td>0.0</td>\n",
       "    </tr>\n",
       "    <tr>\n",
       "      <th>25</th>\n",
       "      <td>2013-01-02 01:00:00</td>\n",
       "      <td>-4165.527344</td>\n",
       "      <td>0.994096</td>\n",
       "      <td>0.0</td>\n",
       "    </tr>\n",
       "    <tr>\n",
       "      <th>26</th>\n",
       "      <td>2013-01-02 02:00:00</td>\n",
       "      <td>-3914.992188</td>\n",
       "      <td>0.994096</td>\n",
       "      <td>0.0</td>\n",
       "    </tr>\n",
       "    <tr>\n",
       "      <th>27</th>\n",
       "      <td>2013-01-02 03:00:00</td>\n",
       "      <td>-3415.542969</td>\n",
       "      <td>0.994096</td>\n",
       "      <td>0.0</td>\n",
       "    </tr>\n",
       "    <tr>\n",
       "      <th>28</th>\n",
       "      <td>2013-01-02 04:00:00</td>\n",
       "      <td>-2873.441406</td>\n",
       "      <td>0.994096</td>\n",
       "      <td>0.0</td>\n",
       "    </tr>\n",
       "    <tr>\n",
       "      <th>29</th>\n",
       "      <td>2013-01-02 05:00:00</td>\n",
       "      <td>-1744.406250</td>\n",
       "      <td>0.994096</td>\n",
       "      <td>0.0</td>\n",
       "    </tr>\n",
       "    <tr>\n",
       "      <th>...</th>\n",
       "      <td>...</td>\n",
       "      <td>...</td>\n",
       "      <td>...</td>\n",
       "      <td>...</td>\n",
       "    </tr>\n",
       "    <tr>\n",
       "      <th>35030</th>\n",
       "      <td>2016-12-30 18:00:00</td>\n",
       "      <td>-5218.976562</td>\n",
       "      <td>0.988188</td>\n",
       "      <td>0.0</td>\n",
       "    </tr>\n",
       "    <tr>\n",
       "      <th>35031</th>\n",
       "      <td>2016-12-30 19:00:00</td>\n",
       "      <td>-4381.523438</td>\n",
       "      <td>0.988188</td>\n",
       "      <td>0.0</td>\n",
       "    </tr>\n",
       "    <tr>\n",
       "      <th>35032</th>\n",
       "      <td>2016-12-30 20:00:00</td>\n",
       "      <td>-3220.695312</td>\n",
       "      <td>0.988188</td>\n",
       "      <td>0.0</td>\n",
       "    </tr>\n",
       "    <tr>\n",
       "      <th>35033</th>\n",
       "      <td>2016-12-30 21:00:00</td>\n",
       "      <td>-2398.476562</td>\n",
       "      <td>0.988188</td>\n",
       "      <td>0.0</td>\n",
       "    </tr>\n",
       "    <tr>\n",
       "      <th>35034</th>\n",
       "      <td>2016-12-30 22:00:00</td>\n",
       "      <td>-2329.773438</td>\n",
       "      <td>0.988188</td>\n",
       "      <td>0.0</td>\n",
       "    </tr>\n",
       "    <tr>\n",
       "      <th>35035</th>\n",
       "      <td>2016-12-30 23:00:00</td>\n",
       "      <td>-2672.164062</td>\n",
       "      <td>0.988188</td>\n",
       "      <td>0.0</td>\n",
       "    </tr>\n",
       "    <tr>\n",
       "      <th>35036</th>\n",
       "      <td>2016-12-31 00:00:00</td>\n",
       "      <td>-1419.312500</td>\n",
       "      <td>0.853195</td>\n",
       "      <td>NaN</td>\n",
       "    </tr>\n",
       "    <tr>\n",
       "      <th>35037</th>\n",
       "      <td>2016-12-31 01:00:00</td>\n",
       "      <td>-1587.554688</td>\n",
       "      <td>0.853195</td>\n",
       "      <td>NaN</td>\n",
       "    </tr>\n",
       "    <tr>\n",
       "      <th>35038</th>\n",
       "      <td>2016-12-31 02:00:00</td>\n",
       "      <td>-1574.078125</td>\n",
       "      <td>0.853195</td>\n",
       "      <td>NaN</td>\n",
       "    </tr>\n",
       "    <tr>\n",
       "      <th>35039</th>\n",
       "      <td>2016-12-31 03:00:00</td>\n",
       "      <td>-1701.476562</td>\n",
       "      <td>0.853195</td>\n",
       "      <td>NaN</td>\n",
       "    </tr>\n",
       "    <tr>\n",
       "      <th>35040</th>\n",
       "      <td>2016-12-31 04:00:00</td>\n",
       "      <td>-1337.789062</td>\n",
       "      <td>0.853195</td>\n",
       "      <td>NaN</td>\n",
       "    </tr>\n",
       "    <tr>\n",
       "      <th>35041</th>\n",
       "      <td>2016-12-31 05:00:00</td>\n",
       "      <td>-730.761719</td>\n",
       "      <td>0.853195</td>\n",
       "      <td>NaN</td>\n",
       "    </tr>\n",
       "    <tr>\n",
       "      <th>35042</th>\n",
       "      <td>2016-12-31 06:00:00</td>\n",
       "      <td>168.703125</td>\n",
       "      <td>0.853195</td>\n",
       "      <td>NaN</td>\n",
       "    </tr>\n",
       "    <tr>\n",
       "      <th>35043</th>\n",
       "      <td>2016-12-31 07:00:00</td>\n",
       "      <td>972.320312</td>\n",
       "      <td>0.853195</td>\n",
       "      <td>NaN</td>\n",
       "    </tr>\n",
       "    <tr>\n",
       "      <th>35044</th>\n",
       "      <td>2016-12-31 08:00:00</td>\n",
       "      <td>1545.804688</td>\n",
       "      <td>0.853195</td>\n",
       "      <td>NaN</td>\n",
       "    </tr>\n",
       "    <tr>\n",
       "      <th>35045</th>\n",
       "      <td>2016-12-31 09:00:00</td>\n",
       "      <td>2305.835938</td>\n",
       "      <td>0.853195</td>\n",
       "      <td>NaN</td>\n",
       "    </tr>\n",
       "    <tr>\n",
       "      <th>35046</th>\n",
       "      <td>2016-12-31 10:00:00</td>\n",
       "      <td>3127.804688</td>\n",
       "      <td>0.853195</td>\n",
       "      <td>NaN</td>\n",
       "    </tr>\n",
       "    <tr>\n",
       "      <th>35047</th>\n",
       "      <td>2016-12-31 11:00:00</td>\n",
       "      <td>3324.375000</td>\n",
       "      <td>0.853195</td>\n",
       "      <td>NaN</td>\n",
       "    </tr>\n",
       "    <tr>\n",
       "      <th>35048</th>\n",
       "      <td>2016-12-31 12:00:00</td>\n",
       "      <td>3124.242188</td>\n",
       "      <td>0.853195</td>\n",
       "      <td>NaN</td>\n",
       "    </tr>\n",
       "    <tr>\n",
       "      <th>35049</th>\n",
       "      <td>2016-12-31 13:00:00</td>\n",
       "      <td>3401.929688</td>\n",
       "      <td>0.853195</td>\n",
       "      <td>NaN</td>\n",
       "    </tr>\n",
       "    <tr>\n",
       "      <th>35050</th>\n",
       "      <td>2016-12-31 14:00:00</td>\n",
       "      <td>4142.914062</td>\n",
       "      <td>0.853195</td>\n",
       "      <td>NaN</td>\n",
       "    </tr>\n",
       "    <tr>\n",
       "      <th>35051</th>\n",
       "      <td>2016-12-31 15:00:00</td>\n",
       "      <td>4028.960938</td>\n",
       "      <td>0.853195</td>\n",
       "      <td>NaN</td>\n",
       "    </tr>\n",
       "    <tr>\n",
       "      <th>35052</th>\n",
       "      <td>2016-12-31 16:00:00</td>\n",
       "      <td>3812.710938</td>\n",
       "      <td>0.853195</td>\n",
       "      <td>NaN</td>\n",
       "    </tr>\n",
       "    <tr>\n",
       "      <th>35053</th>\n",
       "      <td>2016-12-31 17:00:00</td>\n",
       "      <td>4112.226562</td>\n",
       "      <td>0.853195</td>\n",
       "      <td>NaN</td>\n",
       "    </tr>\n",
       "    <tr>\n",
       "      <th>35054</th>\n",
       "      <td>2016-12-31 18:00:00</td>\n",
       "      <td>4013.015625</td>\n",
       "      <td>0.853195</td>\n",
       "      <td>NaN</td>\n",
       "    </tr>\n",
       "    <tr>\n",
       "      <th>35055</th>\n",
       "      <td>2016-12-31 19:00:00</td>\n",
       "      <td>1133.570312</td>\n",
       "      <td>0.853195</td>\n",
       "      <td>NaN</td>\n",
       "    </tr>\n",
       "    <tr>\n",
       "      <th>35056</th>\n",
       "      <td>2016-12-31 20:00:00</td>\n",
       "      <td>-538.992188</td>\n",
       "      <td>0.853195</td>\n",
       "      <td>NaN</td>\n",
       "    </tr>\n",
       "    <tr>\n",
       "      <th>35057</th>\n",
       "      <td>2016-12-31 21:00:00</td>\n",
       "      <td>-991.492188</td>\n",
       "      <td>0.853195</td>\n",
       "      <td>NaN</td>\n",
       "    </tr>\n",
       "    <tr>\n",
       "      <th>35058</th>\n",
       "      <td>2016-12-31 22:00:00</td>\n",
       "      <td>-191.031250</td>\n",
       "      <td>0.853195</td>\n",
       "      <td>NaN</td>\n",
       "    </tr>\n",
       "    <tr>\n",
       "      <th>35059</th>\n",
       "      <td>2016-12-31 23:00:00</td>\n",
       "      <td>1003.039062</td>\n",
       "      <td>0.853195</td>\n",
       "      <td>NaN</td>\n",
       "    </tr>\n",
       "  </tbody>\n",
       "</table>\n",
       "<p>35060 rows × 4 columns</p>\n",
       "</div>"
      ],
      "text/plain": [
       "                       ds     residuals   a_score  is_atypical\n",
       "0     2013-01-01 00:00:00    283.949219  1.000000          1.0\n",
       "1     2013-01-01 01:00:00   1347.460938  1.000000          1.0\n",
       "2     2013-01-01 02:00:00   1432.312500  1.000000          1.0\n",
       "3     2013-01-01 03:00:00   1075.046875  1.000000          1.0\n",
       "4     2013-01-01 04:00:00   -487.402344  1.000000          1.0\n",
       "5     2013-01-01 05:00:00  -1656.550781  1.000000          1.0\n",
       "6     2013-01-01 06:00:00  -4516.027344  1.000000          1.0\n",
       "7     2013-01-01 07:00:00  -8402.371094  1.000000          1.0\n",
       "8     2013-01-01 08:00:00 -12562.980469  1.000000          1.0\n",
       "9     2013-01-01 09:00:00 -14892.628906  1.000000          1.0\n",
       "10    2013-01-01 10:00:00 -14344.867188  1.000000          1.0\n",
       "11    2013-01-01 11:00:00 -12934.011719  1.000000          1.0\n",
       "12    2013-01-01 12:00:00 -11871.250000  1.000000          1.0\n",
       "13    2013-01-01 13:00:00 -10205.882812  1.000000          1.0\n",
       "14    2013-01-01 14:00:00 -11014.777344  1.000000          1.0\n",
       "15    2013-01-01 15:00:00 -11165.746094  1.000000          1.0\n",
       "16    2013-01-01 16:00:00 -10516.480469  1.000000          1.0\n",
       "17    2013-01-01 17:00:00 -10174.472656  1.000000          1.0\n",
       "18    2013-01-01 18:00:00  -9210.367188  1.000000          1.0\n",
       "19    2013-01-01 19:00:00  -8712.960938  1.000000          1.0\n",
       "20    2013-01-01 20:00:00  -5835.531250  1.000000          1.0\n",
       "21    2013-01-01 21:00:00  -3987.367188  1.000000          1.0\n",
       "22    2013-01-01 22:00:00  -3673.226562  1.000000          1.0\n",
       "23    2013-01-01 23:00:00  -3748.285156  1.000000          1.0\n",
       "24    2013-01-02 00:00:00  -3927.203125  0.994096          0.0\n",
       "25    2013-01-02 01:00:00  -4165.527344  0.994096          0.0\n",
       "26    2013-01-02 02:00:00  -3914.992188  0.994096          0.0\n",
       "27    2013-01-02 03:00:00  -3415.542969  0.994096          0.0\n",
       "28    2013-01-02 04:00:00  -2873.441406  0.994096          0.0\n",
       "29    2013-01-02 05:00:00  -1744.406250  0.994096          0.0\n",
       "...                   ...           ...       ...          ...\n",
       "35030 2016-12-30 18:00:00  -5218.976562  0.988188          0.0\n",
       "35031 2016-12-30 19:00:00  -4381.523438  0.988188          0.0\n",
       "35032 2016-12-30 20:00:00  -3220.695312  0.988188          0.0\n",
       "35033 2016-12-30 21:00:00  -2398.476562  0.988188          0.0\n",
       "35034 2016-12-30 22:00:00  -2329.773438  0.988188          0.0\n",
       "35035 2016-12-30 23:00:00  -2672.164062  0.988188          0.0\n",
       "35036 2016-12-31 00:00:00  -1419.312500  0.853195          NaN\n",
       "35037 2016-12-31 01:00:00  -1587.554688  0.853195          NaN\n",
       "35038 2016-12-31 02:00:00  -1574.078125  0.853195          NaN\n",
       "35039 2016-12-31 03:00:00  -1701.476562  0.853195          NaN\n",
       "35040 2016-12-31 04:00:00  -1337.789062  0.853195          NaN\n",
       "35041 2016-12-31 05:00:00   -730.761719  0.853195          NaN\n",
       "35042 2016-12-31 06:00:00    168.703125  0.853195          NaN\n",
       "35043 2016-12-31 07:00:00    972.320312  0.853195          NaN\n",
       "35044 2016-12-31 08:00:00   1545.804688  0.853195          NaN\n",
       "35045 2016-12-31 09:00:00   2305.835938  0.853195          NaN\n",
       "35046 2016-12-31 10:00:00   3127.804688  0.853195          NaN\n",
       "35047 2016-12-31 11:00:00   3324.375000  0.853195          NaN\n",
       "35048 2016-12-31 12:00:00   3124.242188  0.853195          NaN\n",
       "35049 2016-12-31 13:00:00   3401.929688  0.853195          NaN\n",
       "35050 2016-12-31 14:00:00   4142.914062  0.853195          NaN\n",
       "35051 2016-12-31 15:00:00   4028.960938  0.853195          NaN\n",
       "35052 2016-12-31 16:00:00   3812.710938  0.853195          NaN\n",
       "35053 2016-12-31 17:00:00   4112.226562  0.853195          NaN\n",
       "35054 2016-12-31 18:00:00   4013.015625  0.853195          NaN\n",
       "35055 2016-12-31 19:00:00   1133.570312  0.853195          NaN\n",
       "35056 2016-12-31 20:00:00   -538.992188  0.853195          NaN\n",
       "35057 2016-12-31 21:00:00   -991.492188  0.853195          NaN\n",
       "35058 2016-12-31 22:00:00   -191.031250  0.853195          NaN\n",
       "35059 2016-12-31 23:00:00   1003.039062  0.853195          NaN\n",
       "\n",
       "[35060 rows x 4 columns]"
      ]
     },
     "execution_count": 22,
     "metadata": {},
     "output_type": "execute_result"
    }
   ],
   "source": [
    "atypical_full_df"
   ]
  },
  {
   "cell_type": "code",
   "execution_count": null,
   "metadata": {},
   "outputs": [],
   "source": []
  },
  {
   "cell_type": "code",
   "execution_count": null,
   "metadata": {},
   "outputs": [],
   "source": []
  },
  {
   "cell_type": "code",
   "execution_count": null,
   "metadata": {},
   "outputs": [],
   "source": []
  },
  {
   "cell_type": "markdown",
   "metadata": {},
   "source": [
    "### Multi period prediction and aed results"
   ]
  },
  {
   "cell_type": "code",
   "execution_count": 3,
   "metadata": {},
   "outputs": [],
   "source": [
    "# model paths\n",
    "path_models_folder = os.path.join(path_main_folder, 'out', 'cv_model_0')\n",
    "name_dict_dataset = 'dict_datasets.pickle'"
   ]
  },
  {
   "cell_type": "code",
   "execution_count": 5,
   "metadata": {},
   "outputs": [],
   "source": [
    "# get prediction results\n",
    "prediction_results = get_prediction_results(path_models_folder, name_dict_dataset, mode=1)"
   ]
  },
  {
   "cell_type": "code",
   "execution_count": 7,
   "metadata": {},
   "outputs": [],
   "source": [
    "# get atypical events info\n",
    "threshold = 0.98\n",
    "aed_results, ael_full_model = get_aed_results(prediction_results, threshold)"
   ]
  },
  {
   "cell_type": "markdown",
   "metadata": {},
   "source": [
    "### Comparing results with reference and getting scores "
   ]
  },
  {
   "cell_type": "code",
   "execution_count": 9,
   "metadata": {},
   "outputs": [],
   "source": [
    "# Loading list\n",
    "path_data = os.path.join(\"/local/home/antorosi/Documents/Prediction/data\")\n",
    "with open(os.path.join(path_data, 'ae_reference_list_2013-2016' + '.pickle'), 'rb') as f:\n",
    "    ael_reference= pickle.load(f)"
   ]
  },
  {
   "cell_type": "code",
   "execution_count": 10,
   "metadata": {},
   "outputs": [],
   "source": [
    "ael_results = ael_reference.strict_comparison(ael_full_model)"
   ]
  },
  {
   "cell_type": "code",
   "execution_count": 11,
   "metadata": {},
   "outputs": [],
   "source": [
    "nb_events = 1461"
   ]
  },
  {
   "cell_type": "code",
   "execution_count": 12,
   "metadata": {},
   "outputs": [],
   "source": [
    "dict_confusion_matrix = get_confusion_matrix(ael_results, nb_events)"
   ]
  },
  {
   "cell_type": "code",
   "execution_count": 13,
   "metadata": {},
   "outputs": [
    {
     "data": {
      "text/plain": [
       "{'a': 36, 'b': 12, 'c': 8, 'd': 1405}"
      ]
     },
     "execution_count": 13,
     "metadata": {},
     "output_type": "execute_result"
    }
   ],
   "source": [
    "dict_confusion_matrix"
   ]
  },
  {
   "cell_type": "code",
   "execution_count": 14,
   "metadata": {},
   "outputs": [
    {
     "data": {
      "text/plain": [
       "{'csi': 0.6428571428571429,\n",
       " 'f': 0.008468595624558928,\n",
       " 'far': 0.25,\n",
       " 'gss': 0.6333935561577838,\n",
       " 'h': 0.8181818181818182,\n",
       " 'hss': 0.7755553507235681,\n",
       " 'pc': 0.9863107460643394,\n",
       " 'pss': 0.8097132225572593}"
      ]
     },
     "execution_count": 14,
     "metadata": {},
     "output_type": "execute_result"
    }
   ],
   "source": [
    "get_all_scores(dict_confusion_matrix)"
   ]
  },
  {
   "cell_type": "markdown",
   "metadata": {},
   "source": [
    "### Plotting results "
   ]
  },
  {
   "cell_type": "code",
   "execution_count": 15,
   "metadata": {},
   "outputs": [],
   "source": [
    "# getting complete dataframe\n",
    "atypical_full_df, prediction_full_df = get_complete_df(prediction_results, aed_results)"
   ]
  },
  {
   "cell_type": "code",
   "execution_count": 16,
   "metadata": {},
   "outputs": [],
   "source": [
    "# applying verification to df\n",
    "atypical_full_df = apply_ael_to_df(atypical_full_df, ael_results)"
   ]
  },
  {
   "cell_type": "code",
   "execution_count": 19,
   "metadata": {
    "scrolled": true
   },
   "outputs": [
    {
     "name": "stdout",
     "output_type": "stream",
     "text": [
      "This is the format of your plot grid:\n",
      "[ (1,1) x1,y1 ]\n",
      "[ (2,1) x1,y2 ]\n",
      "[ (3,1) x1,y3 ]\n",
      "[ (4,1) x1,y4 ]\n",
      "\n"
     ]
    },
    {
     "name": "stderr",
     "output_type": "stream",
     "text": [
      "/local/home/antorosi/PycharmProjects/KERAS-TS-VENV/lib/python3.5/site-packages/plotly/offline/offline.py:459: UserWarning:\n",
      "\n",
      "Your filename `/home/antorosi/Documents/Prediction/out/figures/full_period_mode2` didn't end with .html. Adding .html to the end of your file.\n",
      "\n"
     ]
    },
    {
     "data": {
      "text/plain": [
       "'file:///home/antorosi/Documents/Prediction/out/figures/full_period_mode2.html'"
      ]
     },
     "execution_count": 19,
     "metadata": {},
     "output_type": "execute_result"
    }
   ],
   "source": [
    "# plotting\n",
    "path_plot = '/home/antorosi/Documents/Prediction/out/figures'\n",
    "name_plot = 'full_period_mode2'\n",
    "\n",
    "prediction_conso_plot(data_conso_df, atypical_full_df, prediction_full_df, dict_colnames_conso, path_plot, name_plot)"
   ]
  },
  {
   "cell_type": "code",
   "execution_count": null,
   "metadata": {},
   "outputs": [],
   "source": []
  }
 ],
 "metadata": {
  "kernelspec": {
   "display_name": "Python 3",
   "language": "python",
   "name": "python3"
  },
  "language_info": {
   "codemirror_mode": {
    "name": "ipython",
    "version": 3
   },
   "file_extension": ".py",
   "mimetype": "text/x-python",
   "name": "python",
   "nbconvert_exporter": "python",
   "pygments_lexer": "ipython3",
   "version": "3.5.4"
  }
 },
 "nbformat": 4,
 "nbformat_minor": 2
}
