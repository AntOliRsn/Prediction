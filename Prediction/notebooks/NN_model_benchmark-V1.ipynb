{
 "cells": [
  {
   "cell_type": "markdown",
   "metadata": {},
   "source": [
    "### Comments\n",
    "Modifications of the first benchmark:\n",
    "- Evolution of the layers size according to the dropout levels"
   ]
  },
  {
   "cell_type": "markdown",
   "metadata": {},
   "source": [
    "### Import libraries"
   ]
  },
  {
   "cell_type": "code",
   "execution_count": 20,
   "metadata": {},
   "outputs": [],
   "source": [
    "import os\n",
    "import sys\n",
    "import numpy as np\n",
    "import pandas as pd\n",
    "import datetime\n",
    "import time\n",
    "import itertools\n",
    "\n",
    "from keras import backend as K\n",
    "from keras.callbacks import TensorBoard, ModelCheckpoint, EarlyStopping\n",
    "\n",
    "path_main_folder = '/home/antorosi/Documents/Prediction'\n",
    "#path_main_folder = os.getcwd()\n",
    "sys.path.append(path_main_folder)\n",
    "\n",
    "from conso.load_shape_data import load_data_conso, get_uniformed_data_conso, change_granularity, get_x_y_prediction_conso, get_train_test_sets, normalized_dataset, select_variables\n",
    "from models.feedforward_NN import FeedForward"
   ]
  },
  {
   "cell_type": "markdown",
   "metadata": {},
   "source": [
    "### Load and shape data"
   ]
  },
  {
   "cell_type": "code",
   "execution_count": 21,
   "metadata": {},
   "outputs": [],
   "source": [
    "# Load\n",
    "path_data = os.path.join(path_main_folder, 'data')"
   ]
  },
  {
   "cell_type": "code",
   "execution_count": 22,
   "metadata": {},
   "outputs": [],
   "source": [
    "dict_data_conso = load_data_conso(path_data)"
   ]
  },
  {
   "cell_type": "code",
   "execution_count": 23,
   "metadata": {},
   "outputs": [],
   "source": [
    "# Uniformization\n",
    "data_conso_df, dict_colnames_conso = get_uniformed_data_conso(dict_data_conso)"
   ]
  },
  {
   "cell_type": "code",
   "execution_count": 24,
   "metadata": {},
   "outputs": [],
   "source": [
    "# Granularity from 15 min to 1H\n",
    "data_conso_df = change_granularity(data_conso_df, granularity=\"1H\")"
   ]
  },
  {
   "cell_type": "code",
   "execution_count": 25,
   "metadata": {},
   "outputs": [],
   "source": [
    "# Get x and y from prediction\n",
    "lags = [24,48,168]\n",
    "x_conso, y_conso, dict_colnames_conso = get_x_y_prediction_conso(data_conso_df, dict_colnames_conso, lags=lags)"
   ]
  },
  {
   "cell_type": "markdown",
   "metadata": {},
   "source": [
    "### Benchmark parameters "
   ]
  },
  {
   "cell_type": "code",
   "execution_count": 26,
   "metadata": {},
   "outputs": [],
   "source": [
    "path_out = os.path.join(path_main_folder, 'out', 'benchmark_4')\n",
    "if not os.path.exists(path_out):\n",
    "    os.mkdir(path_out)"
   ]
  },
  {
   "cell_type": "code",
   "execution_count": 27,
   "metadata": {},
   "outputs": [],
   "source": [
    "dict_selected_var = {'cmcah':['calendar', 'conso', 'holiday_days','meteo'], 'cmca':['calendar', 'conso','meteo']}"
   ]
  },
  {
   "cell_type": "code",
   "execution_count": 28,
   "metadata": {},
   "outputs": [],
   "source": [
    "list_nb_hidden_layers = [2,4,6,8]"
   ]
  },
  {
   "cell_type": "code",
   "execution_count": 29,
   "metadata": {},
   "outputs": [],
   "source": [
    "list_dropout = [0,0.05,0.1,0.15,0.20]"
   ]
  },
  {
   "cell_type": "code",
   "execution_count": 32,
   "metadata": {},
   "outputs": [],
   "source": [
    "training_epochs=400\n",
    "batch_size=100"
   ]
  },
  {
   "cell_type": "code",
   "execution_count": 33,
   "metadata": {},
   "outputs": [],
   "source": [
    "combination = list(itertools.product(list_nb_hidden_layers, list_dropout))"
   ]
  },
  {
   "cell_type": "code",
   "execution_count": 34,
   "metadata": {},
   "outputs": [],
   "source": [
    "date_test_start = datetime.datetime(year=2016, month=6, day=11)\n",
    "date_test_end = datetime.datetime(year=2017, month=6, day=10)"
   ]
  },
  {
   "cell_type": "code",
   "execution_count": 35,
   "metadata": {},
   "outputs": [],
   "source": [
    "# Prepare results wrap up \n",
    "results_df = pd.DataFrame(columns=['name', 'layer_dims','dropout_rates','batchsize',\n",
    "                                           'best_iter', 'train_mse',\n",
    "                                           'train_mae', 'train_mape',\n",
    "                                           'test_mse', 'test_mae',\n",
    "                                           'test_mape'])\n",
    "path_results = path_out"
   ]
  },
  {
   "cell_type": "markdown",
   "metadata": {},
   "source": [
    "### Main loop"
   ]
  },
  {
   "cell_type": "code",
   "execution_count": 36,
   "metadata": {},
   "outputs": [
    {
     "name": "stdout",
     "output_type": "stream",
     "text": [
      "========================= Model 1/20 =========================\n",
      "model: \n",
      "_________________________________________________________________\n",
      "Layer (type)                 Output Shape              Param #   \n",
      "=================================================================\n",
      "dense_input (InputLayer)     (None, 308)               0         \n",
      "_________________________________________________________________\n",
      "dense_hidden_0 (Dense)       (None, 308)               95172     \n",
      "_________________________________________________________________\n",
      "dense_hidden_1 (Dense)       (None, 308)               95172     \n",
      "_________________________________________________________________\n",
      "dense_output (Dense)         (None, 1)                 309       \n",
      "=================================================================\n",
      "Total params: 190,653\n",
      "Trainable params: 190,653\n",
      "Non-trainable params: 0\n",
      "_________________________________________________________________\n",
      "\n",
      "\n",
      "--- START TRAINING ---\n",
      "\n",
      "Train on 34820 samples, validate on 8759 samples\n",
      "Epoch 1/10\n",
      "34820/34820 [==============================] - 1s 27us/step - loss: 3078489132.9948 - mean_absolute_percentage_error: 99.6643 - mean_absolute_error: 54195.3673 - val_loss: 3042257913.8331 - val_mean_absolute_percentage_error: 98.5580 - val_mean_absolute_error: 53782.7523\n",
      "Epoch 2/10\n",
      "34820/34820 [==============================] - 1s 24us/step - loss: 2803821590.6445 - mean_absolute_percentage_error: 94.9406 - mean_absolute_error: 51650.1456 - val_loss: 2423274625.2422 - val_mean_absolute_percentage_error: 87.3992 - val_mean_absolute_error: 47785.0139\n",
      "Epoch 3/10\n",
      "34820/34820 [==============================] - 1s 22us/step - loss: 1872644538.8168 - mean_absolute_percentage_error: 75.6056 - mean_absolute_error: 41205.2354 - val_loss: 1159087121.8943 - val_mean_absolute_percentage_error: 55.7183 - val_mean_absolute_error: 30573.4728\n",
      "Epoch 4/10\n",
      "34820/34820 [==============================] - 1s 25us/step - loss: 873109928.8041 - mean_absolute_percentage_error: 47.6255 - mean_absolute_error: 25473.5073 - val_loss: 691214932.9229 - val_mean_absolute_percentage_error: 40.3865 - val_mean_absolute_error: 21618.4589\n",
      "Epoch 5/10\n",
      "34820/34820 [==============================] - 1s 22us/step - loss: 674922468.2826 - mean_absolute_percentage_error: 41.0734 - mean_absolute_error: 21600.0553 - val_loss: 682941045.6865 - val_mean_absolute_percentage_error: 39.7855 - val_mean_absolute_error: 21421.6295\n",
      "Epoch 6/10\n",
      "34820/34820 [==============================] - 1s 23us/step - loss: 664448014.6307 - mean_absolute_percentage_error: 40.7470 - mean_absolute_error: 21434.5609 - val_loss: 672485389.0462 - val_mean_absolute_percentage_error: 39.4445 - val_mean_absolute_error: 21239.2034\n",
      "Epoch 7/10\n",
      "34820/34820 [==============================] - 1s 24us/step - loss: 656626819.4187 - mean_absolute_percentage_error: 40.4278 - mean_absolute_error: 21284.0264 - val_loss: 666555751.9607 - val_mean_absolute_percentage_error: 39.1704 - val_mean_absolute_error: 21117.7857\n",
      "Epoch 8/10\n",
      "34820/34820 [==============================] - 1s 24us/step - loss: 648663341.8771 - mean_absolute_percentage_error: 40.1173 - mean_absolute_error: 21138.3438 - val_loss: 658130246.8245 - val_mean_absolute_percentage_error: 38.8259 - val_mean_absolute_error: 20955.1040\n",
      "Epoch 9/10\n",
      "34820/34820 [==============================] - 1s 24us/step - loss: 640222338.9041 - mean_absolute_percentage_error: 39.7723 - mean_absolute_error: 20977.1145 - val_loss: 649382899.8963 - val_mean_absolute_percentage_error: 38.4656 - val_mean_absolute_error: 20784.2594\n",
      "Epoch 10/10\n",
      "34820/34820 [==============================] - 1s 24us/step - loss: 631134033.4612 - mean_absolute_percentage_error: 39.4112 - mean_absolute_error: 20805.8353 - val_loss: 640857289.5061 - val_mean_absolute_percentage_error: 38.0829 - val_mean_absolute_error: 20609.8641\n",
      "                             name  layer_dims dropout_rates batchsize  \\\n",
      "0  b1_FFNN_l308*2_d0*2_cmcah_norm  [308, 308]        [0, 0]      1000   \n",
      "\n",
      "  best_iter     train_mse     train_mae  train_mape      test_mse  \\\n",
      "0        10  6.261604e+08  20710.005037   39.205453  6.408574e+08   \n",
      "\n",
      "       test_mae  test_mape  \n",
      "0  20609.862543  38.082892  \n",
      "========================= Model 2/20 =========================\n",
      "model: \n",
      "_________________________________________________________________\n",
      "Layer (type)                 Output Shape              Param #   \n",
      "=================================================================\n",
      "dense_input (InputLayer)     (None, 308)               0         \n",
      "_________________________________________________________________\n",
      "dense_hidden_0 (Dense)       (None, 323)               99807     \n",
      "_________________________________________________________________\n",
      "dropout_hidden_0 (Dropout)   (None, 323)               0         \n",
      "_________________________________________________________________\n",
      "dense_hidden_1 (Dense)       (None, 323)               104652    \n",
      "_________________________________________________________________\n",
      "dropout_hidden_1 (Dropout)   (None, 323)               0         \n",
      "_________________________________________________________________\n",
      "dense_output (Dense)         (None, 1)                 324       \n",
      "=================================================================\n",
      "Total params: 204,783\n",
      "Trainable params: 204,783\n",
      "Non-trainable params: 0\n",
      "_________________________________________________________________\n",
      "\n",
      "\n",
      "--- START TRAINING ---\n",
      "\n",
      "Train on 34820 samples, validate on 8759 samples\n",
      "Epoch 1/10\n",
      "34820/34820 [==============================] - 1s 30us/step - loss: 3076509535.4302 - mean_absolute_percentage_error: 99.6358 - mean_absolute_error: 54178.9496 - val_loss: 3034248791.5497 - val_mean_absolute_percentage_error: 98.4385 - val_mean_absolute_error: 53714.7088\n",
      "Epoch 2/10\n",
      "34820/34820 [==============================] - 1s 31us/step - loss: 2777152102.7823 - mean_absolute_percentage_error: 94.5031 - mean_absolute_error: 51402.5232 - val_loss: 2363043241.1956 - val_mean_absolute_percentage_error: 86.3225 - val_mean_absolute_error: 47179.2899\n",
      "Epoch 3/10\n",
      "34820/34820 [==============================] - 1s 27us/step - loss: 1785319307.4693 - mean_absolute_percentage_error: 73.6769 - mean_absolute_error: 40103.6032 - val_loss: 1061932887.8493 - val_mean_absolute_percentage_error: 52.8422 - val_mean_absolute_error: 28883.0128\n",
      "Epoch 4/10\n",
      "34820/34820 [==============================] - 1s 28us/step - loss: 819389493.8909 - mean_absolute_percentage_error: 45.9522 - mean_absolute_error: 24456.0284 - val_loss: 693060290.3309 - val_mean_absolute_percentage_error: 40.3280 - val_mean_absolute_error: 21625.2486\n",
      "Epoch 5/10\n",
      "34820/34820 [==============================] - 1s 27us/step - loss: 674242453.4314 - mean_absolute_percentage_error: 41.0584 - mean_absolute_error: 21591.9237 - val_loss: 680838722.6012 - val_mean_absolute_percentage_error: 39.7395 - val_mean_absolute_error: 21390.0627\n",
      "Epoch 6/10\n",
      "34820/34820 [==============================] - 1s 27us/step - loss: 664800234.6789 - mean_absolute_percentage_error: 40.7445 - mean_absolute_error: 21435.9177 - val_loss: 672257769.1810 - val_mean_absolute_percentage_error: 39.4359 - val_mean_absolute_error: 21235.3832\n",
      "Epoch 7/10\n",
      "34820/34820 [==============================] - 1s 26us/step - loss: 656674355.0603 - mean_absolute_percentage_error: 40.4322 - mean_absolute_error: 21287.4334 - val_loss: 665466435.2698 - val_mean_absolute_percentage_error: 39.1358 - val_mean_absolute_error: 21099.4846\n",
      "Epoch 8/10\n",
      "34820/34820 [==============================] - 1s 29us/step - loss: 649230380.9948 - mean_absolute_percentage_error: 40.1314 - mean_absolute_error: 21148.4308 - val_loss: 656323795.0378 - val_mean_absolute_percentage_error: 38.7748 - val_mean_absolute_error: 20925.3926\n",
      "Epoch 9/10\n",
      "34820/34820 [==============================] - 1s 29us/step - loss: 640171883.5244 - mean_absolute_percentage_error: 39.7620 - mean_absolute_error: 20974.5127 - val_loss: 648604298.3829 - val_mean_absolute_percentage_error: 38.4224 - val_mean_absolute_error: 20767.4266\n",
      "Epoch 10/10\n",
      "34820/34820 [==============================] - 1s 28us/step - loss: 630969350.0287 - mean_absolute_percentage_error: 39.4027 - mean_absolute_error: 20805.1165 - val_loss: 639687208.5416 - val_mean_absolute_percentage_error: 38.0312 - val_mean_absolute_error: 20587.0155\n"
     ]
    },
    {
     "name": "stdout",
     "output_type": "stream",
     "text": [
      "                                name  layer_dims dropout_rates batchsize  \\\n",
      "0  b1_FFNN_l323*2_d0.05*2_cmcah_norm  [323, 323]  [0.05, 0.05]      1000   \n",
      "\n",
      "  best_iter     train_mse     train_mae  train_mape      test_mse  \\\n",
      "0        10  6.239526e+08  20669.287438   39.123758  6.396872e+08   \n",
      "\n",
      "      test_mae  test_mape  \n",
      "0  20587.01435  38.031187  \n",
      "========================= Model 3/20 =========================\n",
      "model: \n",
      "_________________________________________________________________\n",
      "Layer (type)                 Output Shape              Param #   \n",
      "=================================================================\n",
      "dense_input (InputLayer)     (None, 308)               0         \n",
      "_________________________________________________________________\n",
      "dense_hidden_0 (Dense)       (None, 338)               104442    \n",
      "_________________________________________________________________\n",
      "dropout_hidden_0 (Dropout)   (None, 338)               0         \n",
      "_________________________________________________________________\n",
      "dense_hidden_1 (Dense)       (None, 338)               114582    \n",
      "_________________________________________________________________\n",
      "dropout_hidden_1 (Dropout)   (None, 338)               0         \n",
      "_________________________________________________________________\n",
      "dense_output (Dense)         (None, 1)                 339       \n",
      "=================================================================\n",
      "Total params: 219,363\n",
      "Trainable params: 219,363\n",
      "Non-trainable params: 0\n",
      "_________________________________________________________________\n",
      "\n",
      "\n",
      "--- START TRAINING ---\n",
      "\n",
      "Train on 34820 samples, validate on 8759 samples\n",
      "Epoch 1/10\n",
      " 1000/34820 [..............................] - ETA: 3s - loss: 3138999296.0000 - mean_absolute_percentage_error: 99.9999 - mean_absolute_error: 54760.5625"
     ]
    },
    {
     "ename": "KeyboardInterrupt",
     "evalue": "",
     "output_type": "error",
     "traceback": [
      "\u001b[0;31m---------------------------------------------------------------------------\u001b[0m",
      "\u001b[0;31mKeyboardInterrupt\u001b[0m                         Traceback (most recent call last)",
      "\u001b[0;32m<ipython-input-36-4a82f522d037>\u001b[0m in \u001b[0;36m<module>\u001b[0;34m()\u001b[0m\n\u001b[1;32m     45\u001b[0m \u001b[0;34m\u001b[0m\u001b[0m\n\u001b[1;32m     46\u001b[0m         \u001b[0;31m# Train model\u001b[0m\u001b[0;34m\u001b[0m\u001b[0;34m\u001b[0m\u001b[0m\n\u001b[0;32m---> 47\u001b[0;31m         \u001b[0mmodel\u001b[0m\u001b[0;34m.\u001b[0m\u001b[0mmain_train\u001b[0m\u001b[0;34m(\u001b[0m\u001b[0mdataset\u001b[0m\u001b[0;34m,\u001b[0m \u001b[0mtraining_epochs\u001b[0m\u001b[0;34m=\u001b[0m\u001b[0mtraining_epochs\u001b[0m\u001b[0;34m,\u001b[0m \u001b[0mbatch_size\u001b[0m\u001b[0;34m=\u001b[0m\u001b[0mbatch_size\u001b[0m\u001b[0;34m,\u001b[0m \u001b[0mcallbacks\u001b[0m\u001b[0;34m=\u001b[0m\u001b[0mcallbacks\u001b[0m\u001b[0;34m)\u001b[0m\u001b[0;34m\u001b[0m\u001b[0m\n\u001b[0m\u001b[1;32m     48\u001b[0m \u001b[0;34m\u001b[0m\u001b[0m\n\u001b[1;32m     49\u001b[0m         \u001b[0;31m# Get result and put it in results\u001b[0m\u001b[0;34m\u001b[0m\u001b[0;34m\u001b[0m\u001b[0m\n",
      "\u001b[0;32m~/Documents/Prediction/models/feedforward_NN.py\u001b[0m in \u001b[0;36mmain_train\u001b[0;34m(self, dataset, training_epochs, batch_size, callbacks, verbose)\u001b[0m\n\u001b[1;32m    120\u001b[0m \u001b[0;34m\u001b[0m\u001b[0m\n\u001b[1;32m    121\u001b[0m     \u001b[0;32mdef\u001b[0m \u001b[0mmain_train\u001b[0m\u001b[0;34m(\u001b[0m\u001b[0mself\u001b[0m\u001b[0;34m,\u001b[0m \u001b[0mdataset\u001b[0m\u001b[0;34m,\u001b[0m \u001b[0mtraining_epochs\u001b[0m\u001b[0;34m=\u001b[0m\u001b[0;36m100\u001b[0m\u001b[0;34m,\u001b[0m \u001b[0mbatch_size\u001b[0m\u001b[0;34m=\u001b[0m\u001b[0;36m100\u001b[0m\u001b[0;34m,\u001b[0m \u001b[0mcallbacks\u001b[0m\u001b[0;34m=\u001b[0m\u001b[0;34m[\u001b[0m\u001b[0;34m]\u001b[0m\u001b[0;34m,\u001b[0m \u001b[0mverbose\u001b[0m\u001b[0;34m=\u001b[0m\u001b[0;32mTrue\u001b[0m\u001b[0;34m)\u001b[0m\u001b[0;34m:\u001b[0m\u001b[0;34m\u001b[0m\u001b[0m\n\u001b[0;32m--> 122\u001b[0;31m         \u001b[0msuper\u001b[0m\u001b[0;34m(\u001b[0m\u001b[0;34m)\u001b[0m\u001b[0;34m.\u001b[0m\u001b[0mmain_train\u001b[0m\u001b[0;34m(\u001b[0m\u001b[0mdataset\u001b[0m\u001b[0;34m,\u001b[0m \u001b[0mtraining_epochs\u001b[0m\u001b[0;34m,\u001b[0m \u001b[0mbatch_size\u001b[0m\u001b[0;34m,\u001b[0m \u001b[0mcallbacks\u001b[0m\u001b[0;34m,\u001b[0m \u001b[0mverbose\u001b[0m\u001b[0;34m)\u001b[0m\u001b[0;34m\u001b[0m\u001b[0m\n\u001b[0m\u001b[1;32m    123\u001b[0m \u001b[0;34m\u001b[0m\u001b[0m\n\u001b[1;32m    124\u001b[0m         \u001b[0msummary_df\u001b[0m\u001b[0;34m,\u001b[0m \u001b[0m_\u001b[0m \u001b[0;34m=\u001b[0m \u001b[0mself\u001b[0m\u001b[0;34m.\u001b[0m\u001b[0manalyze_history\u001b[0m\u001b[0;34m(\u001b[0m\u001b[0mdataset\u001b[0m\u001b[0;34m)\u001b[0m\u001b[0;34m\u001b[0m\u001b[0m\n",
      "\u001b[0;32m~/Documents/Prediction/models/base_NN.py\u001b[0m in \u001b[0;36mmain_train\u001b[0;34m(self, dataset, training_epochs, batch_size, callbacks, verbose)\u001b[0m\n\u001b[1;32m     62\u001b[0m \u001b[0;34m\u001b[0m\u001b[0m\n\u001b[1;32m     63\u001b[0m         \u001b[0mprint\u001b[0m\u001b[0;34m(\u001b[0m\u001b[0;34m'\\n\\n--- START TRAINING ---\\n'\u001b[0m\u001b[0;34m)\u001b[0m\u001b[0;34m\u001b[0m\u001b[0m\n\u001b[0;32m---> 64\u001b[0;31m         \u001b[0mhistory\u001b[0m \u001b[0;34m=\u001b[0m \u001b[0mself\u001b[0m\u001b[0;34m.\u001b[0m\u001b[0mtrain\u001b[0m\u001b[0;34m(\u001b[0m\u001b[0mdataset\u001b[0m\u001b[0;34m[\u001b[0m\u001b[0;34m'train'\u001b[0m\u001b[0;34m]\u001b[0m\u001b[0;34m,\u001b[0m\u001b[0mtraining_epochs\u001b[0m\u001b[0;34m,\u001b[0m \u001b[0mbatch_size\u001b[0m\u001b[0;34m,\u001b[0m \u001b[0mcallbacks\u001b[0m\u001b[0;34m,\u001b[0m \u001b[0mvalidation_data\u001b[0m\u001b[0;34m,\u001b[0m \u001b[0mverbose\u001b[0m\u001b[0;34m)\u001b[0m\u001b[0;34m\u001b[0m\u001b[0m\n\u001b[0m\u001b[1;32m     65\u001b[0m \u001b[0;34m\u001b[0m\u001b[0m\n\u001b[1;32m     66\u001b[0m         \u001b[0mself\u001b[0m\u001b[0;34m.\u001b[0m\u001b[0mhistory\u001b[0m \u001b[0;34m=\u001b[0m \u001b[0mhistory\u001b[0m\u001b[0;34m.\u001b[0m\u001b[0mhistory\u001b[0m\u001b[0;34m\u001b[0m\u001b[0m\n",
      "\u001b[0;32m~/Documents/Prediction/models/feedforward_NN.py\u001b[0m in \u001b[0;36mtrain\u001b[0;34m(self, dataset_train, training_epochs, batch_size, callbacks, validation_data, verbose)\u001b[0m\n\u001b[1;32m     68\u001b[0m         model_hist = self.model.fit(dataset_train['x'], dataset_train['y'], batch_size=batch_size, epochs=training_epochs,\n\u001b[1;32m     69\u001b[0m                              \u001b[0mvalidation_data\u001b[0m\u001b[0;34m=\u001b[0m\u001b[0mvalidation_data\u001b[0m\u001b[0;34m,\u001b[0m\u001b[0;34m\u001b[0m\u001b[0m\n\u001b[0;32m---> 70\u001b[0;31m                              callbacks=callbacks, verbose=True)\n\u001b[0m\u001b[1;32m     71\u001b[0m \u001b[0;34m\u001b[0m\u001b[0m\n\u001b[1;32m     72\u001b[0m         \u001b[0;32mreturn\u001b[0m \u001b[0mmodel_hist\u001b[0m\u001b[0;34m\u001b[0m\u001b[0m\n",
      "\u001b[0;32m/local/home/antorosi/PycharmProjects/KERAS-TS-VENV/lib/python3.5/site-packages/keras/engine/training.py\u001b[0m in \u001b[0;36mfit\u001b[0;34m(self, x, y, batch_size, epochs, verbose, callbacks, validation_split, validation_data, shuffle, class_weight, sample_weight, initial_epoch, steps_per_epoch, validation_steps, **kwargs)\u001b[0m\n\u001b[1;32m   1710\u001b[0m                               \u001b[0minitial_epoch\u001b[0m\u001b[0;34m=\u001b[0m\u001b[0minitial_epoch\u001b[0m\u001b[0;34m,\u001b[0m\u001b[0;34m\u001b[0m\u001b[0m\n\u001b[1;32m   1711\u001b[0m                               \u001b[0msteps_per_epoch\u001b[0m\u001b[0;34m=\u001b[0m\u001b[0msteps_per_epoch\u001b[0m\u001b[0;34m,\u001b[0m\u001b[0;34m\u001b[0m\u001b[0m\n\u001b[0;32m-> 1712\u001b[0;31m                               validation_steps=validation_steps)\n\u001b[0m\u001b[1;32m   1713\u001b[0m \u001b[0;34m\u001b[0m\u001b[0m\n\u001b[1;32m   1714\u001b[0m     def evaluate(self, x=None, y=None,\n",
      "\u001b[0;32m/local/home/antorosi/PycharmProjects/KERAS-TS-VENV/lib/python3.5/site-packages/keras/engine/training.py\u001b[0m in \u001b[0;36m_fit_loop\u001b[0;34m(self, f, ins, out_labels, batch_size, epochs, verbose, callbacks, val_f, val_ins, shuffle, callback_metrics, initial_epoch, steps_per_epoch, validation_steps)\u001b[0m\n\u001b[1;32m   1233\u001b[0m                         \u001b[0mins_batch\u001b[0m\u001b[0;34m[\u001b[0m\u001b[0mi\u001b[0m\u001b[0;34m]\u001b[0m \u001b[0;34m=\u001b[0m \u001b[0mins_batch\u001b[0m\u001b[0;34m[\u001b[0m\u001b[0mi\u001b[0m\u001b[0;34m]\u001b[0m\u001b[0;34m.\u001b[0m\u001b[0mtoarray\u001b[0m\u001b[0;34m(\u001b[0m\u001b[0;34m)\u001b[0m\u001b[0;34m\u001b[0m\u001b[0m\n\u001b[1;32m   1234\u001b[0m \u001b[0;34m\u001b[0m\u001b[0m\n\u001b[0;32m-> 1235\u001b[0;31m                     \u001b[0mouts\u001b[0m \u001b[0;34m=\u001b[0m \u001b[0mf\u001b[0m\u001b[0;34m(\u001b[0m\u001b[0mins_batch\u001b[0m\u001b[0;34m)\u001b[0m\u001b[0;34m\u001b[0m\u001b[0m\n\u001b[0m\u001b[1;32m   1236\u001b[0m                     \u001b[0;32mif\u001b[0m \u001b[0;32mnot\u001b[0m \u001b[0misinstance\u001b[0m\u001b[0;34m(\u001b[0m\u001b[0mouts\u001b[0m\u001b[0;34m,\u001b[0m \u001b[0mlist\u001b[0m\u001b[0;34m)\u001b[0m\u001b[0;34m:\u001b[0m\u001b[0;34m\u001b[0m\u001b[0m\n\u001b[1;32m   1237\u001b[0m                         \u001b[0mouts\u001b[0m \u001b[0;34m=\u001b[0m \u001b[0;34m[\u001b[0m\u001b[0mouts\u001b[0m\u001b[0;34m]\u001b[0m\u001b[0;34m\u001b[0m\u001b[0m\n",
      "\u001b[0;32m/local/home/antorosi/PycharmProjects/KERAS-TS-VENV/lib/python3.5/site-packages/keras/backend/tensorflow_backend.py\u001b[0m in \u001b[0;36m__call__\u001b[0;34m(self, inputs)\u001b[0m\n\u001b[1;32m   2473\u001b[0m         \u001b[0msession\u001b[0m \u001b[0;34m=\u001b[0m \u001b[0mget_session\u001b[0m\u001b[0;34m(\u001b[0m\u001b[0;34m)\u001b[0m\u001b[0;34m\u001b[0m\u001b[0m\n\u001b[1;32m   2474\u001b[0m         updated = session.run(fetches=fetches, feed_dict=feed_dict,\n\u001b[0;32m-> 2475\u001b[0;31m                               **self.session_kwargs)\n\u001b[0m\u001b[1;32m   2476\u001b[0m         \u001b[0;32mreturn\u001b[0m \u001b[0mupdated\u001b[0m\u001b[0;34m[\u001b[0m\u001b[0;34m:\u001b[0m\u001b[0mlen\u001b[0m\u001b[0;34m(\u001b[0m\u001b[0mself\u001b[0m\u001b[0;34m.\u001b[0m\u001b[0moutputs\u001b[0m\u001b[0;34m)\u001b[0m\u001b[0;34m]\u001b[0m\u001b[0;34m\u001b[0m\u001b[0m\n\u001b[1;32m   2477\u001b[0m \u001b[0;34m\u001b[0m\u001b[0m\n",
      "\u001b[0;32m/local/home/antorosi/PycharmProjects/KERAS-TS-VENV/lib/python3.5/site-packages/tensorflow/python/client/session.py\u001b[0m in \u001b[0;36mrun\u001b[0;34m(self, fetches, feed_dict, options, run_metadata)\u001b[0m\n\u001b[1;32m    893\u001b[0m     \u001b[0;32mtry\u001b[0m\u001b[0;34m:\u001b[0m\u001b[0;34m\u001b[0m\u001b[0m\n\u001b[1;32m    894\u001b[0m       result = self._run(None, fetches, feed_dict, options_ptr,\n\u001b[0;32m--> 895\u001b[0;31m                          run_metadata_ptr)\n\u001b[0m\u001b[1;32m    896\u001b[0m       \u001b[0;32mif\u001b[0m \u001b[0mrun_metadata\u001b[0m\u001b[0;34m:\u001b[0m\u001b[0;34m\u001b[0m\u001b[0m\n\u001b[1;32m    897\u001b[0m         \u001b[0mproto_data\u001b[0m \u001b[0;34m=\u001b[0m \u001b[0mtf_session\u001b[0m\u001b[0;34m.\u001b[0m\u001b[0mTF_GetBuffer\u001b[0m\u001b[0;34m(\u001b[0m\u001b[0mrun_metadata_ptr\u001b[0m\u001b[0;34m)\u001b[0m\u001b[0;34m\u001b[0m\u001b[0m\n",
      "\u001b[0;32m/local/home/antorosi/PycharmProjects/KERAS-TS-VENV/lib/python3.5/site-packages/tensorflow/python/client/session.py\u001b[0m in \u001b[0;36m_run\u001b[0;34m(self, handle, fetches, feed_dict, options, run_metadata)\u001b[0m\n\u001b[1;32m   1126\u001b[0m     \u001b[0;32mif\u001b[0m \u001b[0mfinal_fetches\u001b[0m \u001b[0;32mor\u001b[0m \u001b[0mfinal_targets\u001b[0m \u001b[0;32mor\u001b[0m \u001b[0;34m(\u001b[0m\u001b[0mhandle\u001b[0m \u001b[0;32mand\u001b[0m \u001b[0mfeed_dict_tensor\u001b[0m\u001b[0;34m)\u001b[0m\u001b[0;34m:\u001b[0m\u001b[0;34m\u001b[0m\u001b[0m\n\u001b[1;32m   1127\u001b[0m       results = self._do_run(handle, final_targets, final_fetches,\n\u001b[0;32m-> 1128\u001b[0;31m                              feed_dict_tensor, options, run_metadata)\n\u001b[0m\u001b[1;32m   1129\u001b[0m     \u001b[0;32melse\u001b[0m\u001b[0;34m:\u001b[0m\u001b[0;34m\u001b[0m\u001b[0m\n\u001b[1;32m   1130\u001b[0m       \u001b[0mresults\u001b[0m \u001b[0;34m=\u001b[0m \u001b[0;34m[\u001b[0m\u001b[0;34m]\u001b[0m\u001b[0;34m\u001b[0m\u001b[0m\n",
      "\u001b[0;32m/local/home/antorosi/PycharmProjects/KERAS-TS-VENV/lib/python3.5/site-packages/tensorflow/python/client/session.py\u001b[0m in \u001b[0;36m_do_run\u001b[0;34m(self, handle, target_list, fetch_list, feed_dict, options, run_metadata)\u001b[0m\n\u001b[1;32m   1342\u001b[0m     \u001b[0;32mif\u001b[0m \u001b[0mhandle\u001b[0m \u001b[0;32mis\u001b[0m \u001b[0;32mNone\u001b[0m\u001b[0;34m:\u001b[0m\u001b[0;34m\u001b[0m\u001b[0m\n\u001b[1;32m   1343\u001b[0m       return self._do_call(_run_fn, self._session, feeds, fetches, targets,\n\u001b[0;32m-> 1344\u001b[0;31m                            options, run_metadata)\n\u001b[0m\u001b[1;32m   1345\u001b[0m     \u001b[0;32melse\u001b[0m\u001b[0;34m:\u001b[0m\u001b[0;34m\u001b[0m\u001b[0m\n\u001b[1;32m   1346\u001b[0m       \u001b[0;32mreturn\u001b[0m \u001b[0mself\u001b[0m\u001b[0;34m.\u001b[0m\u001b[0m_do_call\u001b[0m\u001b[0;34m(\u001b[0m\u001b[0m_prun_fn\u001b[0m\u001b[0;34m,\u001b[0m \u001b[0mself\u001b[0m\u001b[0;34m.\u001b[0m\u001b[0m_session\u001b[0m\u001b[0;34m,\u001b[0m \u001b[0mhandle\u001b[0m\u001b[0;34m,\u001b[0m \u001b[0mfeeds\u001b[0m\u001b[0;34m,\u001b[0m \u001b[0mfetches\u001b[0m\u001b[0;34m)\u001b[0m\u001b[0;34m\u001b[0m\u001b[0m\n",
      "\u001b[0;32m/local/home/antorosi/PycharmProjects/KERAS-TS-VENV/lib/python3.5/site-packages/tensorflow/python/client/session.py\u001b[0m in \u001b[0;36m_do_call\u001b[0;34m(self, fn, *args)\u001b[0m\n\u001b[1;32m   1348\u001b[0m   \u001b[0;32mdef\u001b[0m \u001b[0m_do_call\u001b[0m\u001b[0;34m(\u001b[0m\u001b[0mself\u001b[0m\u001b[0;34m,\u001b[0m \u001b[0mfn\u001b[0m\u001b[0;34m,\u001b[0m \u001b[0;34m*\u001b[0m\u001b[0margs\u001b[0m\u001b[0;34m)\u001b[0m\u001b[0;34m:\u001b[0m\u001b[0;34m\u001b[0m\u001b[0m\n\u001b[1;32m   1349\u001b[0m     \u001b[0;32mtry\u001b[0m\u001b[0;34m:\u001b[0m\u001b[0;34m\u001b[0m\u001b[0m\n\u001b[0;32m-> 1350\u001b[0;31m       \u001b[0;32mreturn\u001b[0m \u001b[0mfn\u001b[0m\u001b[0;34m(\u001b[0m\u001b[0;34m*\u001b[0m\u001b[0margs\u001b[0m\u001b[0;34m)\u001b[0m\u001b[0;34m\u001b[0m\u001b[0m\n\u001b[0m\u001b[1;32m   1351\u001b[0m     \u001b[0;32mexcept\u001b[0m \u001b[0merrors\u001b[0m\u001b[0;34m.\u001b[0m\u001b[0mOpError\u001b[0m \u001b[0;32mas\u001b[0m \u001b[0me\u001b[0m\u001b[0;34m:\u001b[0m\u001b[0;34m\u001b[0m\u001b[0m\n\u001b[1;32m   1352\u001b[0m       \u001b[0mmessage\u001b[0m \u001b[0;34m=\u001b[0m \u001b[0mcompat\u001b[0m\u001b[0;34m.\u001b[0m\u001b[0mas_text\u001b[0m\u001b[0;34m(\u001b[0m\u001b[0me\u001b[0m\u001b[0;34m.\u001b[0m\u001b[0mmessage\u001b[0m\u001b[0;34m)\u001b[0m\u001b[0;34m\u001b[0m\u001b[0m\n",
      "\u001b[0;32m/local/home/antorosi/PycharmProjects/KERAS-TS-VENV/lib/python3.5/site-packages/tensorflow/python/client/session.py\u001b[0m in \u001b[0;36m_run_fn\u001b[0;34m(session, feed_dict, fetch_list, target_list, options, run_metadata)\u001b[0m\n\u001b[1;32m   1327\u001b[0m           return tf_session.TF_Run(session, options,\n\u001b[1;32m   1328\u001b[0m                                    \u001b[0mfeed_dict\u001b[0m\u001b[0;34m,\u001b[0m \u001b[0mfetch_list\u001b[0m\u001b[0;34m,\u001b[0m \u001b[0mtarget_list\u001b[0m\u001b[0;34m,\u001b[0m\u001b[0;34m\u001b[0m\u001b[0m\n\u001b[0;32m-> 1329\u001b[0;31m                                    status, run_metadata)\n\u001b[0m\u001b[1;32m   1330\u001b[0m \u001b[0;34m\u001b[0m\u001b[0m\n\u001b[1;32m   1331\u001b[0m     \u001b[0;32mdef\u001b[0m \u001b[0m_prun_fn\u001b[0m\u001b[0;34m(\u001b[0m\u001b[0msession\u001b[0m\u001b[0;34m,\u001b[0m \u001b[0mhandle\u001b[0m\u001b[0;34m,\u001b[0m \u001b[0mfeed_dict\u001b[0m\u001b[0;34m,\u001b[0m \u001b[0mfetch_list\u001b[0m\u001b[0;34m)\u001b[0m\u001b[0;34m:\u001b[0m\u001b[0;34m\u001b[0m\u001b[0m\n",
      "\u001b[0;31mKeyboardInterrupt\u001b[0m: "
     ]
    }
   ],
   "source": [
    "for gen_name, selected_variables in dict_selected_var.items():\n",
    "    \n",
    "    # Prepare dataset\n",
    "    x_conso_selected_var = select_variables(x_conso, dict_colnames_conso, selected_variables)\n",
    "    dataset, dict_ds = get_train_test_sets(x_conso_selected_var, y_conso, date_test_start, date_test_end)\n",
    "    dataset = normalized_dataset(dataset, dict_colnames_conso)\n",
    "    \n",
    "    nb_hidden_units_base = dataset['train']['x'].shape[1]\n",
    "    \n",
    "    for idx, (nb_hidden_layers, dropout) in enumerate(combination):\n",
    "        \n",
    "        print('========================= Model {}/{} ========================='.format(idx+1, len(combination)))\n",
    "        \n",
    "        # Get right number of hidden units\n",
    "        nb_hidden_units = int(nb_hidden_units_base*(1+dropout))\n",
    "        \n",
    "        # Prepare model characteristics\n",
    "        name_model = 'b1_FFNN_l{}*{}_d{}*{}_{}_norm'.format(nb_hidden_units, nb_hidden_layers,\n",
    "                                                            dropout, nb_hidden_layers, \n",
    "                                                            gen_name)\n",
    "        \n",
    "        # Compile model\n",
    "        model = FeedForward(name=name_model, output=path_out, input_dim=nb_hidden_units_base, output_dim=1, \n",
    "                   l_dims=[nb_hidden_units]*nb_hidden_layers, dropout_rates=[dropout]*nb_hidden_layers,\n",
    "                   loss = 'mean_squared_error', metrics = ['mape', 'mae'])\n",
    "        \n",
    "        # Prepare callbacks\n",
    "        callbacks = []\n",
    "        early_stop = EarlyStopping(monitor='val_loss', min_delta=0, patience=150,\n",
    "                                                           verbose=0, mode='auto')\n",
    "\n",
    "        model_checkpoint = ModelCheckpoint(os.path.join(path_out, name_model, 'models', 'model-best.hdf5'),\n",
    "                                                   monitor='val_loss',\n",
    "                                                   verbose=0, save_best_only=True, save_weights_only=False,\n",
    "                                                   mode='auto', period=1)\n",
    "\n",
    "        tensorboard_model = TensorBoard(log_dir=os.path.join(path_out, name_model, 'results', 'logs', time.strftime('%Y-%m-%d_%H:%M', time.localtime(time.time()))))\n",
    "        tensorboard_summary = TensorBoard(log_dir=os.path.join(path_out, 'logs', name_model))\n",
    "        \n",
    "\n",
    "        callbacks.append(early_stop)\n",
    "        callbacks.append(model_checkpoint)\n",
    "        callbacks.append(tensorboard_model)\n",
    "        callbacks.append(tensorboard_summary)\n",
    "        \n",
    "        # Train model\n",
    "        model.main_train(dataset, training_epochs=training_epochs, batch_size=batch_size, callbacks=callbacks)\n",
    "        \n",
    "        # Get result and put it in results\n",
    "        _, result = model.analyze_history(dataset)\n",
    "        \n",
    "        results_df= results_df.append(result, ignore_index=True)\n",
    "        results_df.to_csv(os.path.join(path_results, 'b1_results.csv'), sep=';')\n",
    "    \n",
    "        # Reset graph\n",
    "        K.clear_session()\n",
    "        import tensorflow as tf\n",
    "        tf.reset_default_graph()\n",
    "    "
   ]
  },
  {
   "cell_type": "code",
   "execution_count": null,
   "metadata": {},
   "outputs": [],
   "source": []
  }
 ],
 "metadata": {
  "kernelspec": {
   "display_name": "Python 3",
   "language": "python",
   "name": "python3"
  },
  "language_info": {
   "codemirror_mode": {
    "name": "ipython",
    "version": 3
   },
   "file_extension": ".py",
   "mimetype": "text/x-python",
   "name": "python",
   "nbconvert_exporter": "python",
   "pygments_lexer": "ipython3",
   "version": "3.5.4"
  }
 },
 "nbformat": 4,
 "nbformat_minor": 2
}
