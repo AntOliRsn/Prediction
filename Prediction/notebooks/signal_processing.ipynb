{
 "cells": [
  {
   "cell_type": "markdown",
   "metadata": {},
   "source": [
    "### Load libraries"
   ]
  },
  {
   "cell_type": "code",
   "execution_count": 2,
   "metadata": {},
   "outputs": [],
   "source": [
    "import os\n",
    "import sys\n",
    "import numpy as np\n",
    "import pandas as pd\n",
    "import datetime\n",
    "import time\n",
    "import pickle\n",
    "from matplotlib import pyplot as plt\n",
    "\n",
    "from sklearn import linear_model\n",
    "from sklearn.ensemble import RandomForestRegressor\n",
    "from sklearn.metrics import roc_curve, auc\n",
    "\n",
    "path_main_folder = '/home/antorosi/Documents/Prediction'\n",
    "sys.path.append(path_main_folder)\n",
    "\n",
    "from conso.load_shape_data import load_data_conso, get_uniformed_data_conso, change_granularity, get_x_y_prediction_conso, get_train_test_sets, normalized_dataset, select_variables\n",
    "from aed.detection import get_residuals, get_atypical_score, get_atypical_ds, prediction_conso_plot\n",
    "from aed.atypical_event import AtypicalEvent, AtypicalEventsList, get_atypical_events_list, apply_ael_to_df, get_confusion_matrix\n",
    "from aed.verification import *\n",
    "from aed.multi_period import get_prediction_results, get_aed_results, get_complete_df"
   ]
  },
  {
   "cell_type": "markdown",
   "metadata": {},
   "source": [
    "### Get original data "
   ]
  },
  {
   "cell_type": "code",
   "execution_count": 3,
   "metadata": {},
   "outputs": [],
   "source": [
    "# Load\n",
    "path_data = os.path.join(path_main_folder, 'data')\n",
    "dict_data_conso = load_data_conso(path_data)\n",
    "\n",
    "# Uniformization\n",
    "data_conso_df, dict_colnames_conso = get_uniformed_data_conso(dict_data_conso)\n",
    "\n",
    "# Granularity from 15 min to 1H\n",
    "data_conso_df = change_granularity(data_conso_df, granularity=\"1H\")"
   ]
  },
  {
   "cell_type": "markdown",
   "metadata": {},
   "source": [
    "### Multi period prediction and aed results"
   ]
  },
  {
   "cell_type": "code",
   "execution_count": 38,
   "metadata": {},
   "outputs": [],
   "source": [
    "# model paths\n",
    "path_models_folder = os.path.join(path_main_folder, 'out', 'cv_model_1')\n",
    "name_dict_dataset = 'dict_datasets.pickle'\n",
    "name_model = 'FFNN'\n",
    "#name_model = 'linear regression'\n",
    "#name_model = 'random forest'"
   ]
  },
  {
   "cell_type": "code",
   "execution_count": 39,
   "metadata": {},
   "outputs": [],
   "source": [
    "# get prediction results\n",
    "prediction_results = get_prediction_results(path_models_folder, name_dict_dataset, mode=2, type_model='keras')"
   ]
  },
  {
   "cell_type": "code",
   "execution_count": 40,
   "metadata": {},
   "outputs": [],
   "source": [
    "# get atypical events info\n",
    "threshold = 0.98\n",
    "aed_results, ael_full_model = get_aed_results(prediction_results, threshold)"
   ]
  },
  {
   "cell_type": "markdown",
   "metadata": {},
   "source": [
    "### Comparing results with reference and getting scores "
   ]
  },
  {
   "cell_type": "code",
   "execution_count": 41,
   "metadata": {},
   "outputs": [],
   "source": [
    "# Loading list\n",
    "path_data = os.path.join(\"/local/home/antorosi/Documents/Prediction/data\")\n",
    "with open(os.path.join(path_data, 'ae_reference_list_2013-2017' + '.pickle'), 'rb') as f:\n",
    "    ael_reference= pickle.load(f)"
   ]
  },
  {
   "cell_type": "code",
   "execution_count": 42,
   "metadata": {},
   "outputs": [],
   "source": [
    "ael_results = ael_reference.strict_comparison(ael_full_model)"
   ]
  },
  {
   "cell_type": "markdown",
   "metadata": {},
   "source": [
    "### Get dataframe of residuals"
   ]
  },
  {
   "cell_type": "code",
   "execution_count": 43,
   "metadata": {},
   "outputs": [],
   "source": [
    "# getting complete dataframe\n",
    "atypical_full_df, prediction_full_df = get_complete_df(prediction_results, aed_results)"
   ]
  },
  {
   "cell_type": "code",
   "execution_count": 44,
   "metadata": {},
   "outputs": [],
   "source": [
    "residual_full_ds = atypical_full_df[['ds', 'residuals']].copy()"
   ]
  },
  {
   "cell_type": "markdown",
   "metadata": {},
   "source": [
    "# Signal Processing"
   ]
  },
  {
   "cell_type": "code",
   "execution_count": 45,
   "metadata": {},
   "outputs": [],
   "source": [
    "from scipy.fftpack import fft\n",
    "from scipy import signal"
   ]
  },
  {
   "cell_type": "code",
   "execution_count": 46,
   "metadata": {},
   "outputs": [],
   "source": [
    "sampling= 1 # 1 hour\n",
    "nsample = residual_full_ds.shape[0]\n",
    "dt = 1.0 / sampling\n",
    "T = nsample * dt"
   ]
  },
  {
   "cell_type": "code",
   "execution_count": 47,
   "metadata": {},
   "outputs": [],
   "source": [
    "y = np.array(residual_full_ds['residuals'])\n",
    "#y = np.array(prediction_full_df['residuals'])"
   ]
  },
  {
   "cell_type": "code",
   "execution_count": 48,
   "metadata": {},
   "outputs": [
    {
     "data": {
      "image/png": "[encoded data removed]",
      "text/plain": [
       "<matplotlib.figure.Figure at 0x7f64c9ea7cc0>"
      ]
     },
     "metadata": {},
     "output_type": "display_data"
    }
   ],
   "source": [
    "freqs, P_xx = signal.periodogram(y, sampling, scaling = 'density')\n",
    "fig = plt.figure()\n",
    "plt.plot(freqs, P_xx)\n",
    "plt.xlabel('Frequency')\n",
    "plt.ylabel('spectrum')\n",
    "plt.title('Spectral density of the predictions: ' + name_model)\n",
    "plt.show()"
   ]
  },
  {
   "cell_type": "code",
   "execution_count": 49,
   "metadata": {},
   "outputs": [],
   "source": [
    "path_plot = '/home/antorosi/Documents/Prediction/out/figures'\n",
    "name_plot = 'SP_prediction_' + name_model + '.png'\n",
    "\n",
    "fig.savefig(os.path.join(path_plot, name_plot))"
   ]
  },
  {
   "cell_type": "code",
   "execution_count": 50,
   "metadata": {},
   "outputs": [
    {
     "name": "stdout",
     "output_type": "stream",
     "text": [
      "[4.18418083e+08 4.18708282e+08 4.25306553e+08 4.41464927e+08\n",
      " 4.73367216e+08 4.83208831e+08 5.04041412e+08 5.68124473e+08\n",
      " 5.80595675e+08 7.62311298e+08]\n",
      "[0.01680557 0.01536705 0.01703391 0.01927161 0.01191917 0.06548693\n",
      " 0.01223884 0.01175933 0.01698824 0.01801576]\n",
      "[59.50407609 65.07429421 58.70643432 51.88981043 83.89846743 15.27022315\n",
      " 81.70708955 85.03883495 58.86424731 55.50697085]\n"
     ]
    }
   ],
   "source": [
    "# get the indice of the n max pic\n",
    "n_pics = 10\n",
    "ind = np.argpartition(P_xx, -n_pics)[-n_pics:]\n",
    "ind = ind[np.argsort(P_xx[ind])]\n",
    "\n",
    "\n",
    "print(P_xx[ind])\n",
    "print(freqs[ind])\n",
    "print(1/freqs[ind])"
   ]
  },
  {
   "cell_type": "code",
   "execution_count": null,
   "metadata": {},
   "outputs": [],
   "source": []
  }
 ],
 "metadata": {
  "kernelspec": {
   "display_name": "Python 3",
   "language": "python",
   "name": "python3"
  },
  "language_info": {
   "codemirror_mode": {
    "name": "ipython",
    "version": 3
   },
   "file_extension": ".py",
   "mimetype": "text/x-python",
   "name": "python",
   "nbconvert_exporter": "python",
   "pygments_lexer": "ipython3",
   "version": "3.5.4"
  }
 },
 "nbformat": 4,
 "nbformat_minor": 2
}
