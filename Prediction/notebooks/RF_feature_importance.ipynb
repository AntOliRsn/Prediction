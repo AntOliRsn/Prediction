{
 "cells": [
  {
   "cell_type": "markdown",
   "metadata": {},
   "source": [
    "### Load libraries"
   ]
  },
  {
   "cell_type": "code",
   "execution_count": 114,
   "metadata": {},
   "outputs": [],
   "source": [
    "import os\n",
    "import sys\n",
    "import numpy as np\n",
    "import pandas as pd\n",
    "import datetime\n",
    "import time\n",
    "import pickle\n",
    "from matplotlib import pyplot as plt\n",
    "\n",
    "from sklearn.ensemble import RandomForestRegressor\n",
    "\n",
    "path_main_folder = '/home/antorosi/Documents/Prediction'\n",
    "sys.path.append(path_main_folder)"
   ]
  },
  {
   "cell_type": "markdown",
   "metadata": {},
   "source": [
    "### Load model"
   ]
  },
  {
   "cell_type": "code",
   "execution_count": 115,
   "metadata": {},
   "outputs": [],
   "source": [
    "period = 'period_1'"
   ]
  },
  {
   "cell_type": "code",
   "execution_count": 116,
   "metadata": {},
   "outputs": [],
   "source": [
    "path_models_folder = \"/home/antorosi/Documents/Prediction/out/cv_model_rf_4\"\n",
    "name_model_folder = \"{}_RF_cmca_norm\".format(period)"
   ]
  },
  {
   "cell_type": "code",
   "execution_count": 117,
   "metadata": {},
   "outputs": [],
   "source": [
    "with open(os.path.join(path_models_folder, 'dict_datasets.pickle'),'rb') as f:\n",
    "     dict_datasets = pickle.load(f)"
   ]
  },
  {
   "cell_type": "code",
   "execution_count": 118,
   "metadata": {},
   "outputs": [],
   "source": [
    "dataset = dict_datasets[period]"
   ]
  },
  {
   "cell_type": "code",
   "execution_count": 119,
   "metadata": {},
   "outputs": [],
   "source": [
    "with open(os.path.join(path_models_folder, name_model_folder,'model.pickle'),'rb') as f:\n",
    "    model = pickle.load(f)"
   ]
  },
  {
   "cell_type": "code",
   "execution_count": 120,
   "metadata": {},
   "outputs": [],
   "source": [
    "x = dataset['dataset']['train']['x']"
   ]
  },
  {
   "cell_type": "code",
   "execution_count": 121,
   "metadata": {},
   "outputs": [
    {
     "data": {
      "text/plain": [
       "Index(['002Th+0', '005Th+0', '015Th+0', '027Th+0', '070Th+0', '110Th+0',\n",
       "       '120Th+0', '130Th+0', '145Th+0', '149Th+0',\n",
       "       ...\n",
       "       '588Th+0_plus_48H', '621Th+0_plus_48H', '630Th+0_plus_48H',\n",
       "       '643Th+0_plus_48H', '645Th+0_plus_48H', '650Th+0_plus_48H',\n",
       "       '675Th+0_plus_48H', '690Th+0_plus_48H', '747Th+0_plus_48H',\n",
       "       'meteo_natTh+0_plus_48H'],\n",
       "      dtype='object', length=227)"
      ]
     },
     "execution_count": 121,
     "metadata": {},
     "output_type": "execute_result"
    }
   ],
   "source": [
    "x.columns"
   ]
  },
  {
   "cell_type": "code",
   "execution_count": 123,
   "metadata": {},
   "outputs": [],
   "source": [
    "dict_columns = {}\n",
    "\n",
    "dict_columns['meteo_Th0'] = [el for el in x.columns if el.endswith('Th+0')]\n",
    "dict_columns['meteo_Th_plus_24'] = [el for el in x.columns if el.endswith('Th+0_plus_24H')]\n",
    "dict_columns['meteo_Th_minus_24'] = [el for el in x.columns if el.endswith('Th+0_minus_24H')]\n",
    "dict_columns['calendar'] = [el for el in x.columns if (('month' in el) or ('hour' in el) or ('weekday' in el))]\n",
    "dict_columns['conso_Th_plus_24'] = ['conso_nat_t0_plus_24H']\n",
    "dict_columns['conso_Th_minus_24'] = ['conso_nat_t0_minus_24H']\n",
    "\n",
    "if x.shape[1] > 200:\n",
    "    dict_columns['meteo_Th_plus_48'] = [el for el in x.columns if el.endswith('Th+0_plus_48H')]\n",
    "    dict_columns['meteo_Th_minus_48'] = [el for el in x.columns if el.endswith('Th+0_minus_48H')]\n",
    "    dict_columns['conso_Th_plus_48'] = ['conso_nat_t0_plus_48H']\n",
    "    dict_columns['conso_Th_minus_48'] = ['conso_nat_t0_minus_48H']"
   ]
  },
  {
   "cell_type": "markdown",
   "metadata": {},
   "source": [
    "### Get feature importance"
   ]
  },
  {
   "cell_type": "code",
   "execution_count": 126,
   "metadata": {},
   "outputs": [],
   "source": [
    "df_fi = pd.DataFrame(model.feature_importances_).transpose()\n",
    "df_fi.columns = x.columns"
   ]
  },
  {
   "cell_type": "code",
   "execution_count": 127,
   "metadata": {},
   "outputs": [],
   "source": [
    "dict_fi = {}\n",
    "\n",
    "for key, columns in dict_columns.items():\n",
    "    dict_fi[key] = np.sum(df_fi[columns], axis=1)    "
   ]
  },
  {
   "cell_type": "code",
   "execution_count": 128,
   "metadata": {},
   "outputs": [
    {
     "data": {
      "text/plain": [
       "{'calendar': 0    0.038285\n",
       " dtype: float64, 'conso_Th_minus_24': 0    0.353215\n",
       " dtype: float64, 'conso_Th_minus_48': 0    0.001866\n",
       " dtype: float64, 'conso_Th_plus_24': 0    0.587119\n",
       " dtype: float64, 'conso_Th_plus_48': 0    0.000781\n",
       " dtype: float64, 'meteo_Th0': 0    0.00551\n",
       " dtype: float64, 'meteo_Th_minus_24': 0    0.003077\n",
       " dtype: float64, 'meteo_Th_minus_48': 0    0.002991\n",
       " dtype: float64, 'meteo_Th_plus_24': 0    0.003988\n",
       " dtype: float64, 'meteo_Th_plus_48': 0    0.003167\n",
       " dtype: float64}"
      ]
     },
     "execution_count": 128,
     "metadata": {},
     "output_type": "execute_result"
    }
   ],
   "source": [
    "dict_fi"
   ]
  },
  {
   "cell_type": "code",
   "execution_count": 113,
   "metadata": {},
   "outputs": [
    {
     "data": {
      "text/plain": [
       "{'calendar': 0    0.03928\n",
       " dtype: float64, 'conso_Th_minus_24': 0    0.384291\n",
       " dtype: float64, 'conso_Th_plus_24': 0    0.556958\n",
       " dtype: float64, 'meteo_Th0': 0    0.007486\n",
       " dtype: float64, 'meteo_Th_minus_24': 0    0.005382\n",
       " dtype: float64, 'meteo_Th_plus_24': 0    0.006603\n",
       " dtype: float64}"
      ]
     },
     "execution_count": 113,
     "metadata": {},
     "output_type": "execute_result"
    }
   ],
   "source": [
    "dict_fi"
   ]
  }
 ],
 "metadata": {
  "kernelspec": {
   "display_name": "Python 3",
   "language": "python",
   "name": "python3"
  },
  "language_info": {
   "codemirror_mode": {
    "name": "ipython",
    "version": 3
   },
   "file_extension": ".py",
   "mimetype": "text/x-python",
   "name": "python",
   "nbconvert_exporter": "python",
   "pygments_lexer": "ipython3",
   "version": "3.5.4"
  }
 },
 "nbformat": 4,
 "nbformat_minor": 2
}
